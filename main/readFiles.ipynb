{
 "cells": [
  {
   "cell_type": "code",
   "execution_count": 18,
   "metadata": {},
   "outputs": [],
   "source": [
    "from bs4 import BeautifulSoup as bs\n",
    "import pandas as pd"
   ]
  },
  {
   "cell_type": "code",
   "execution_count": 3,
   "metadata": {},
   "outputs": [
    {
     "name": "stderr",
     "output_type": "stream",
     "text": [
      "e:\\anaconda_envs\\MasterThesis\\lib\\site-packages\\bs4\\__init__.py:435: MarkupResemblesLocatorWarning: The input looks more like a filename than markup. You may want to open this file and pass the filehandle into Beautiful Soup.\n",
      "  warnings.warn(\n"
     ]
    }
   ],
   "source": [
    "soup = bs('../data/test.deepscenario', 'xml')"
   ]
  },
  {
   "cell_type": "code",
   "execution_count": 4,
   "metadata": {},
   "outputs": [],
   "source": [
    "content = None\n",
    "with open('../data/test.deepscenario', \"r\") as file:\n",
    "    content = file.readlines()\n",
    "content = \"\".join(content)\n",
    "bs_content = bs(content, features=\"xml\")"
   ]
  },
  {
   "cell_type": "code",
   "execution_count": 34,
   "metadata": {},
   "outputs": [
    {
     "name": "stdout",
     "output_type": "stream",
     "text": [
      "[<Speed speed=\"8.981\"/>, <Speed speed=\"9.099\"/>, <Speed speed=\"7.517\"/>, <Speed speed=\"5.192\"/>, <Speed speed=\"6.303\"/>, <Speed speed=\"7.341\"/>]\n"
     ]
    },
    {
     "data": {
      "text/html": [
       "<div>\n",
       "<style scoped>\n",
       "    .dataframe tbody tr th:only-of-type {\n",
       "        vertical-align: middle;\n",
       "    }\n",
       "\n",
       "    .dataframe tbody tr th {\n",
       "        vertical-align: top;\n",
       "    }\n",
       "\n",
       "    .dataframe thead th {\n",
       "        text-align: right;\n",
       "    }\n",
       "</style>\n",
       "<table border=\"1\" class=\"dataframe\">\n",
       "  <thead>\n",
       "    <tr style=\"text-align: right;\">\n",
       "      <th></th>\n",
       "      <th>speed1</th>\n",
       "      <th>speed2</th>\n",
       "      <th>speed3</th>\n",
       "      <th>speed4</th>\n",
       "      <th>speed5</th>\n",
       "      <th>speed6</th>\n",
       "      <th>road</th>\n",
       "    </tr>\n",
       "  </thead>\n",
       "  <tbody>\n",
       "    <tr>\n",
       "      <th>0_scenario_0</th>\n",
       "      <td>8.981</td>\n",
       "      <td>9.099</td>\n",
       "      <td>7.517</td>\n",
       "      <td>5.192</td>\n",
       "      <td>6.303</td>\n",
       "      <td>7.341</td>\n",
       "      <td>road4</td>\n",
       "    </tr>\n",
       "    <tr>\n",
       "      <th>0_scenario_1</th>\n",
       "      <td>8.981</td>\n",
       "      <td>9.099</td>\n",
       "      <td>7.517</td>\n",
       "      <td>5.192</td>\n",
       "      <td>6.303</td>\n",
       "      <td>7.341</td>\n",
       "      <td>road4</td>\n",
       "    </tr>\n",
       "  </tbody>\n",
       "</table>\n",
       "</div>"
      ],
      "text/plain": [
       "              speed1  speed2  speed3  speed4  speed5  speed6   road\n",
       "0_scenario_0   8.981   9.099   7.517   5.192   6.303   7.341  road4\n",
       "0_scenario_1   8.981   9.099   7.517   5.192   6.303   7.341  road4"
      ]
     },
     "execution_count": 34,
     "metadata": {},
     "output_type": "execute_result"
    }
   ],
   "source": [
    "l = bs_content.DeepScenario.StoryBoard.Story.ObjectAction.findAll(\"Speed\")\n",
    "s = [\"speed1\", \"speed2\", \"speed3\", \"speed4\", \"speed5\", \"speed6\"]\n",
    "print(l)\n",
    "a = {\"0_scenario_0\": dict(zip(s, map(lambda x: float(x.attrs[\"speed\"]), l)))}\n",
    "a[\"0_scenario_0\"][\"road\"] = \"road4\"\n",
    "a[\"0_scenario_1\"] = a[\"0_scenario_0\"]\n",
    "pd.DataFrame.from_dict(a, orient=\"index\")\n",
    "# for i in l:\n",
    "#     print(i.attrs[\"speed\"])"
   ]
  }
 ],
 "metadata": {
  "kernelspec": {
   "display_name": "MasterThesis",
   "language": "python",
   "name": "python3"
  },
  "language_info": {
   "codemirror_mode": {
    "name": "ipython",
    "version": 3
   },
   "file_extension": ".py",
   "mimetype": "text/x-python",
   "name": "python",
   "nbconvert_exporter": "python",
   "pygments_lexer": "ipython3",
   "version": "3.9.16"
  },
  "orig_nbformat": 4,
  "vscode": {
   "interpreter": {
    "hash": "ac237b99be435113ac5a65fbd25d5ddea05f988a01bd1292fba59e10561f454f"
   }
  }
 },
 "nbformat": 4,
 "nbformat_minor": 2
}
