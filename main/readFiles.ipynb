{
 "cells": [
  {
   "cell_type": "code",
   "execution_count": 1,
   "metadata": {},
   "outputs": [],
   "source": [
    "import os\n",
    "from glob import glob\n",
    "\n",
    "from typing import List, Tuple\n",
    "\n",
    "import numpy as np\n",
    "import pandas as pd\n",
    "from pandas import DataFrame\n",
    "\n",
    "from bs4 import BeautifulSoup as bs"
   ]
  },
  {
   "cell_type": "code",
   "execution_count": 2,
   "metadata": {},
   "outputs": [],
   "source": [
    "STRATEGIES = [\"greedy\", \"random\", \"rl_based\"]\n",
    "EXT = \"*.deepscenario\"\n",
    "\n",
    "# DATASET_PATH = f'../../DeepScenario/deepscenario-dataset/'\n",
    "DATASET_PATH = f'C:/Users/Yohannes/Documents/School/Master/Thesis/DeepScenario/deepscenario-dataset/'"
   ]
  },
  {
   "cell_type": "markdown",
   "metadata": {},
   "source": [
    "## Testing"
   ]
  },
  {
   "cell_type": "code",
   "execution_count": 133,
   "metadata": {},
   "outputs": [
    {
     "name": "stderr",
     "output_type": "stream",
     "text": [
      "e:\\anaconda_envs\\MasterThesis\\lib\\site-packages\\bs4\\__init__.py:435: MarkupResemblesLocatorWarning: The input looks more like a filename than markup. You may want to open this file and pass the filehandle into Beautiful Soup.\n",
      "  warnings.warn(\n"
     ]
    }
   ],
   "source": [
    "soup = bs('../data/test.deepscenario', 'xml')"
   ]
  },
  {
   "cell_type": "code",
   "execution_count": 3,
   "metadata": {},
   "outputs": [],
   "source": [
    "content = None\n",
    "with open('../data/test.deepscenario', \"r\") as file:\n",
    "    content = file.readlines()\n",
    "content = \"\".join(content)\n",
    "bs_content = bs(content, features=\"xml\")"
   ]
  },
  {
   "cell_type": "code",
   "execution_count": 11,
   "metadata": {},
   "outputs": [
    {
     "name": "stdout",
     "output_type": "stream",
     "text": [
      "[8.981, 9.099, 7.517, 5.192, 6.303, 7.341]\n",
      "[[0.004, -0.017, 0.001], [0.0, -0.004, 0.001], [0.005, 0.008, 0.001], [0.003, -0.0, -0.0], [-0.005, -0.528, -0.014], [0.007, 0.327, -0.005]]\n"
     ]
    },
    {
     "data": {
      "text/html": [
       "<div>\n",
       "<style scoped>\n",
       "    .dataframe tbody tr th:only-of-type {\n",
       "        vertical-align: middle;\n",
       "    }\n",
       "\n",
       "    .dataframe tbody tr th {\n",
       "        vertical-align: top;\n",
       "    }\n",
       "\n",
       "    .dataframe thead th {\n",
       "        text-align: right;\n",
       "    }\n",
       "</style>\n",
       "<table border=\"1\" class=\"dataframe\">\n",
       "  <thead>\n",
       "    <tr style=\"text-align: right;\">\n",
       "      <th></th>\n",
       "      <th>speed1</th>\n",
       "      <th>speed2</th>\n",
       "      <th>speed3</th>\n",
       "      <th>speed4</th>\n",
       "      <th>speed5</th>\n",
       "      <th>speed6</th>\n",
       "      <th>av1</th>\n",
       "      <th>av2</th>\n",
       "      <th>av3</th>\n",
       "      <th>av4</th>\n",
       "      <th>av5</th>\n",
       "      <th>av6</th>\n",
       "      <th>road</th>\n",
       "    </tr>\n",
       "  </thead>\n",
       "  <tbody>\n",
       "    <tr>\n",
       "      <th>0_scenario_0</th>\n",
       "      <td>8.981</td>\n",
       "      <td>9.099</td>\n",
       "      <td>7.517</td>\n",
       "      <td>5.192</td>\n",
       "      <td>6.303</td>\n",
       "      <td>7.341</td>\n",
       "      <td>[0.004, -0.017, 0.001]</td>\n",
       "      <td>[0.0, -0.004, 0.001]</td>\n",
       "      <td>[0.005, 0.008, 0.001]</td>\n",
       "      <td>[0.003, -0.0, -0.0]</td>\n",
       "      <td>[-0.005, -0.528, -0.014]</td>\n",
       "      <td>[0.007, 0.327, -0.005]</td>\n",
       "      <td>road4</td>\n",
       "    </tr>\n",
       "    <tr>\n",
       "      <th>0_scenario_1</th>\n",
       "      <td>8.981</td>\n",
       "      <td>9.099</td>\n",
       "      <td>7.517</td>\n",
       "      <td>5.192</td>\n",
       "      <td>6.303</td>\n",
       "      <td>7.341</td>\n",
       "      <td>[0.004, -0.017, 0.001]</td>\n",
       "      <td>[0.0, -0.004, 0.001]</td>\n",
       "      <td>[0.005, 0.008, 0.001]</td>\n",
       "      <td>[0.003, -0.0, -0.0]</td>\n",
       "      <td>[-0.005, -0.528, -0.014]</td>\n",
       "      <td>[0.007, 0.327, -0.005]</td>\n",
       "      <td>road4</td>\n",
       "    </tr>\n",
       "  </tbody>\n",
       "</table>\n",
       "</div>"
      ],
      "text/plain": [
       "              speed1  speed2  speed3  speed4  speed5  speed6  \\\n",
       "0_scenario_0   8.981   9.099   7.517   5.192   6.303   7.341   \n",
       "0_scenario_1   8.981   9.099   7.517   5.192   6.303   7.341   \n",
       "\n",
       "                                 av1                   av2  \\\n",
       "0_scenario_0  [0.004, -0.017, 0.001]  [0.0, -0.004, 0.001]   \n",
       "0_scenario_1  [0.004, -0.017, 0.001]  [0.0, -0.004, 0.001]   \n",
       "\n",
       "                                av3                  av4  \\\n",
       "0_scenario_0  [0.005, 0.008, 0.001]  [0.003, -0.0, -0.0]   \n",
       "0_scenario_1  [0.005, 0.008, 0.001]  [0.003, -0.0, -0.0]   \n",
       "\n",
       "                                   av5                     av6   road  \n",
       "0_scenario_0  [-0.005, -0.528, -0.014]  [0.007, 0.327, -0.005]  road4  \n",
       "0_scenario_1  [-0.005, -0.528, -0.014]  [0.007, 0.327, -0.005]  road4  "
      ]
     },
     "execution_count": 11,
     "metadata": {},
     "output_type": "execute_result"
    }
   ],
   "source": [
    "cols = [\"speed1\", \"speed2\", \"speed3\", \"speed4\", \"speed5\", \"speed6\", \"av1\", \"av2\", \"av3\", \"av4\", \"av5\", \"av6\"]\n",
    "speed = list(map(lambda x: float(x.attrs[\"speed\"]), bs_content.DeepScenario.StoryBoard.Story.ObjectAction.findAll(\"Speed\")))\n",
    "angular_velocity = list(map(lambda x: [float(x.attrs[\"angularVelocityX\"]), float(x.attrs[\"angularVelocityY\"]), float(x.attrs[\"angularVelocityZ\"])], \n",
    "                        bs_content.DeepScenario.StoryBoard.Story.ObjectAction.findAll(\"AngularVelocity\")))\n",
    "print(speed)\n",
    "print(angular_velocity)\n",
    "a = {\"0_scenario_0\": dict(zip(cols, speed + angular_velocity)) }\n",
    "a[\"0_scenario_0\"][\"road\"] = \"road4\"\n",
    "a[\"0_scenario_1\"] = a[\"0_scenario_0\"]\n",
    "pd.DataFrame.from_dict(a, orient=\"index\")"
   ]
  },
  {
   "cell_type": "markdown",
   "metadata": {},
   "source": [
    "## Reading XML files"
   ]
  },
  {
   "cell_type": "code",
   "execution_count": 136,
   "metadata": {},
   "outputs": [],
   "source": [
    "# Need : [path, file, reward_type, road, scenario, strategy]\n",
    "def Load_Files(strategy: str = \"greedy\") -> List[Tuple[str, str, List[str]]]:\n",
    "    return [( path, file, \n",
    "              file.split(\"\\\\\")[-1].split(\".\")[0], # scenario_id\n",
    "              path.split(\"/\")[-1].split(\"-\")[1].split(\"\\\\\")[0], path.split(\"/\")[-1].split(\"-\")[1].split(\"\\\\\")[1], # reward_type, road\n",
    "              path.split(\"/\")[-1].split(\"-\")[2],\n",
    "              strategy\n",
    "            ) \n",
    "            for path, subdir, files in os.walk(DATASET_PATH + f'{strategy}-strategy/')\n",
    "            for file in glob(os.path.join(path, EXT))]"
   ]
  },
  {
   "cell_type": "code",
   "execution_count": 137,
   "metadata": {},
   "outputs": [
    {
     "data": {
      "text/plain": [
       "[('../../DeepScenario/deepscenario-dataset/greedy-strategy/reward-dto\\\\road1-rain_day-scenarios',\n",
       "  '../../DeepScenario/deepscenario-dataset/greedy-strategy/reward-dto\\\\road1-rain_day-scenarios\\\\0_scenario_0.deepscenario',\n",
       "  '0_scenario_0',\n",
       "  'dto',\n",
       "  'road1',\n",
       "  'rain_day',\n",
       "  'greedy'),\n",
       " ('../../DeepScenario/deepscenario-dataset/greedy-strategy/reward-dto\\\\road1-rain_day-scenarios',\n",
       "  '../../DeepScenario/deepscenario-dataset/greedy-strategy/reward-dto\\\\road1-rain_day-scenarios\\\\0_scenario_1.deepscenario',\n",
       "  '0_scenario_1',\n",
       "  'dto',\n",
       "  'road1',\n",
       "  'rain_day',\n",
       "  'greedy'),\n",
       " ('../../DeepScenario/deepscenario-dataset/greedy-strategy/reward-dto\\\\road1-rain_day-scenarios',\n",
       "  '../../DeepScenario/deepscenario-dataset/greedy-strategy/reward-dto\\\\road1-rain_day-scenarios\\\\0_scenario_10.deepscenario',\n",
       "  '0_scenario_10',\n",
       "  'dto',\n",
       "  'road1',\n",
       "  'rain_day',\n",
       "  'greedy')]"
      ]
     },
     "execution_count": 137,
     "metadata": {},
     "output_type": "execute_result"
    }
   ],
   "source": [
    "Load_Files()[:3]"
   ]
  },
  {
   "cell_type": "code",
   "execution_count": 153,
   "metadata": {},
   "outputs": [],
   "source": [
    "def Load_Data(strategy: str = \"all\") -> DataFrame:\n",
    "    d = {}\n",
    "    speeds = [\"speed1\", \"speed2\", \"speed3\", \"speed4\", \"speed5\", \"speed6\"]\n",
    "\n",
    "    try:\n",
    "        if strategy == \"all\":\n",
    "            datafiles = []\n",
    "            for s in STRATEGIES:\n",
    "                _files = Load_Files(s)\n",
    "                print(f\"Loaded {len(_files)} files for {s} strategy\")\n",
    "                datafiles.extend(_files) \n",
    "        else:\n",
    "            if strategy not in STRATEGIES:\n",
    "                raise Exception(\"Strategy not found\")\n",
    "            datafiles = Load_Files(strategy)\n",
    "        \n",
    "        amount = len(datafiles)\n",
    "        counter = 0\n",
    "        printed = False\n",
    "        for path, file, scenario_id, reward, road, scenario, strat in datafiles:\n",
    "            counter += 1\n",
    "            with open(file, \"r\") as f:\n",
    "                bs_content = bs(\"\".join(f.readlines()), features=\"xml\")\n",
    "            scenario_speeds = bs_content.DeepScenario.StoryBoard.Story.ObjectAction.findAll(\"Speed\")\n",
    "\n",
    "            unique_scenario_id = f\"{scenario_id}|{road}|{reward}|{scenario}|{strat}\"\n",
    "            d[unique_scenario_id] = dict(zip(speeds, map(lambda x: float(x.attrs[\"speed\"]), scenario_speeds)))\n",
    "            d[unique_scenario_id][\"ScenarioID\"] = scenario_id\n",
    "            d[unique_scenario_id][\"road\"] = road\n",
    "            d[unique_scenario_id][\"reward\"] = reward\n",
    "            d[unique_scenario_id][\"scenario\"] = scenario\n",
    "            d[unique_scenario_id][\"strategy\"] = strat\n",
    "            \n",
    "            check = round((counter/amount), 3) * 100 % 5 == 0\n",
    "            if not printed and check:\n",
    "                printed = True\n",
    "                print(f\"Loaded {round((counter/amount)*100)}% of the data.\")\n",
    "            elif not check:\n",
    "                printed = False\n",
    "    except Exception as e:\n",
    "        print(e)\n",
    "    finally:\n",
    "        return pd.DataFrame.from_dict(d, orient=\"index\")\n",
    "\n",
    "def saveDf(df: DataFrame, filename: str, path: str) -> None:\n",
    "    df.to_csv(f\"{path}/{filename}.csv\")    "
   ]
  },
  {
   "cell_type": "code",
   "execution_count": 154,
   "metadata": {},
   "outputs": [
    {
     "name": "stdout",
     "output_type": "stream",
     "text": [
      "Loaded 13251 files for greedy strategy\n",
      "Loaded 13565 files for random strategy\n",
      "Loaded 6701 files for rl_based strategy\n",
      "Loaded 0% of the data.\n",
      "(1530, 11)\n"
     ]
    },
    {
     "data": {
      "text/html": [
       "<div>\n",
       "<style scoped>\n",
       "    .dataframe tbody tr th:only-of-type {\n",
       "        vertical-align: middle;\n",
       "    }\n",
       "\n",
       "    .dataframe tbody tr th {\n",
       "        vertical-align: top;\n",
       "    }\n",
       "\n",
       "    .dataframe thead th {\n",
       "        text-align: right;\n",
       "    }\n",
       "</style>\n",
       "<table border=\"1\" class=\"dataframe\">\n",
       "  <thead>\n",
       "    <tr style=\"text-align: right;\">\n",
       "      <th></th>\n",
       "      <th>speed1</th>\n",
       "      <th>speed2</th>\n",
       "      <th>speed3</th>\n",
       "      <th>speed4</th>\n",
       "      <th>speed5</th>\n",
       "      <th>speed6</th>\n",
       "      <th>scenario_id</th>\n",
       "      <th>road</th>\n",
       "      <th>reward</th>\n",
       "      <th>scenario</th>\n",
       "      <th>strategy</th>\n",
       "    </tr>\n",
       "  </thead>\n",
       "  <tbody>\n",
       "    <tr>\n",
       "      <th>0_scenario_0|road1|dto|rain_day|greedy</th>\n",
       "      <td>0.250</td>\n",
       "      <td>0.049</td>\n",
       "      <td>1.932</td>\n",
       "      <td>3.753</td>\n",
       "      <td>5.989</td>\n",
       "      <td>7.349</td>\n",
       "      <td>0_scenario_0</td>\n",
       "      <td>road1</td>\n",
       "      <td>dto</td>\n",
       "      <td>rain_day</td>\n",
       "      <td>greedy</td>\n",
       "    </tr>\n",
       "    <tr>\n",
       "      <th>0_scenario_1|road1|dto|rain_day|greedy</th>\n",
       "      <td>8.287</td>\n",
       "      <td>8.410</td>\n",
       "      <td>8.767</td>\n",
       "      <td>8.871</td>\n",
       "      <td>8.998</td>\n",
       "      <td>9.143</td>\n",
       "      <td>0_scenario_1</td>\n",
       "      <td>road1</td>\n",
       "      <td>dto</td>\n",
       "      <td>rain_day</td>\n",
       "      <td>greedy</td>\n",
       "    </tr>\n",
       "    <tr>\n",
       "      <th>0_scenario_10|road1|dto|rain_day|greedy</th>\n",
       "      <td>4.096</td>\n",
       "      <td>3.067</td>\n",
       "      <td>4.165</td>\n",
       "      <td>3.018</td>\n",
       "      <td>1.954</td>\n",
       "      <td>1.452</td>\n",
       "      <td>0_scenario_10</td>\n",
       "      <td>road1</td>\n",
       "      <td>dto</td>\n",
       "      <td>rain_day</td>\n",
       "      <td>greedy</td>\n",
       "    </tr>\n",
       "    <tr>\n",
       "      <th>0_scenario_11|road1|dto|rain_day|greedy</th>\n",
       "      <td>3.469</td>\n",
       "      <td>4.427</td>\n",
       "      <td>5.288</td>\n",
       "      <td>6.688</td>\n",
       "      <td>6.846</td>\n",
       "      <td>6.573</td>\n",
       "      <td>0_scenario_11</td>\n",
       "      <td>road1</td>\n",
       "      <td>dto</td>\n",
       "      <td>rain_day</td>\n",
       "      <td>greedy</td>\n",
       "    </tr>\n",
       "    <tr>\n",
       "      <th>0_scenario_12|road1|dto|rain_day|greedy</th>\n",
       "      <td>5.888</td>\n",
       "      <td>4.864</td>\n",
       "      <td>4.589</td>\n",
       "      <td>3.943</td>\n",
       "      <td>4.199</td>\n",
       "      <td>3.441</td>\n",
       "      <td>0_scenario_12</td>\n",
       "      <td>road1</td>\n",
       "      <td>dto</td>\n",
       "      <td>rain_day</td>\n",
       "      <td>greedy</td>\n",
       "    </tr>\n",
       "  </tbody>\n",
       "</table>\n",
       "</div>"
      ],
      "text/plain": [
       "                                         speed1  speed2  speed3  speed4  \\\n",
       "0_scenario_0|road1|dto|rain_day|greedy    0.250   0.049   1.932   3.753   \n",
       "0_scenario_1|road1|dto|rain_day|greedy    8.287   8.410   8.767   8.871   \n",
       "0_scenario_10|road1|dto|rain_day|greedy   4.096   3.067   4.165   3.018   \n",
       "0_scenario_11|road1|dto|rain_day|greedy   3.469   4.427   5.288   6.688   \n",
       "0_scenario_12|road1|dto|rain_day|greedy   5.888   4.864   4.589   3.943   \n",
       "\n",
       "                                         speed5  speed6    scenario_id   road  \\\n",
       "0_scenario_0|road1|dto|rain_day|greedy    5.989   7.349   0_scenario_0  road1   \n",
       "0_scenario_1|road1|dto|rain_day|greedy    8.998   9.143   0_scenario_1  road1   \n",
       "0_scenario_10|road1|dto|rain_day|greedy   1.954   1.452  0_scenario_10  road1   \n",
       "0_scenario_11|road1|dto|rain_day|greedy   6.846   6.573  0_scenario_11  road1   \n",
       "0_scenario_12|road1|dto|rain_day|greedy   4.199   3.441  0_scenario_12  road1   \n",
       "\n",
       "                                        reward  scenario strategy  \n",
       "0_scenario_0|road1|dto|rain_day|greedy     dto  rain_day   greedy  \n",
       "0_scenario_1|road1|dto|rain_day|greedy     dto  rain_day   greedy  \n",
       "0_scenario_10|road1|dto|rain_day|greedy    dto  rain_day   greedy  \n",
       "0_scenario_11|road1|dto|rain_day|greedy    dto  rain_day   greedy  \n",
       "0_scenario_12|road1|dto|rain_day|greedy    dto  rain_day   greedy  "
      ]
     },
     "execution_count": 154,
     "metadata": {},
     "output_type": "execute_result"
    }
   ],
   "source": [
    "df = Load_Data() # STRATEGIES[0]) # this took about 6 min for only one strategy... 6m50s for everything :)\n",
    "print(df.shape)\n",
    "df.head()"
   ]
  },
  {
   "cell_type": "code",
   "execution_count": null,
   "metadata": {},
   "outputs": [],
   "source": [
    "saveDf(df, \"dataFromXML\", \"../data\")"
   ]
  },
  {
   "cell_type": "markdown",
   "metadata": {},
   "source": [
    "Next need to run this for all the strategies ```df = Load_Data()```. <br>\n",
    "Then save the data as a csv file, so we then can join the data with the other dataframes.\n"
   ]
  }
 ],
 "metadata": {
  "kernelspec": {
   "display_name": "Python 3.9.16 ('MasterThesis')",
   "language": "python",
   "name": "python3"
  },
  "language_info": {
   "codemirror_mode": {
    "name": "ipython",
    "version": 3
   },
   "file_extension": ".py",
   "mimetype": "text/x-python",
   "name": "python",
   "nbconvert_exporter": "python",
   "pygments_lexer": "ipython3",
   "version": "3.9.16"
  },
  "orig_nbformat": 4,
  "vscode": {
   "interpreter": {
    "hash": "5ea953018f845277ff9327bc0467e81b58a68076ce0c385be95779bfd3460f16"
   }
  }
 },
 "nbformat": 4,
 "nbformat_minor": 2
}
