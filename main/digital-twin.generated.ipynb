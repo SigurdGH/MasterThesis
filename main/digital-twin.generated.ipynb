{
 "cells": [
  {
   "cell_type": "code",
   "execution_count": 27,
   "metadata": {},
   "outputs": [],
   "source": [
    "import matplotlib.pyplot as plt\n",
    "import numpy as np\n",
    "import pandas as pd\n",
    "from pandas import DataFrame, read_csv\n",
    "\n",
    "from ML.DTGenerated import DTGenerated\n",
    "import pickle"
   ]
  },
  {
   "cell_type": "code",
   "execution_count": 28,
   "metadata": {},
   "outputs": [],
   "source": [
    "from generateTestingData.useGeneratedData import makeDataUsable, splitTrainTest, NewPredicter"
   ]
  },
  {
   "cell_type": "code",
   "execution_count": 29,
   "metadata": {},
   "outputs": [
    {
     "name": "stdout",
     "output_type": "stream",
     "text": [
      "(570, 30)\n"
     ]
    },
    {
     "data": {
      "text/html": [
       "<div>\n",
       "<style scoped>\n",
       "    .dataframe tbody tr th:only-of-type {\n",
       "        vertical-align: middle;\n",
       "    }\n",
       "\n",
       "    .dataframe tbody tr th {\n",
       "        vertical-align: top;\n",
       "    }\n",
       "\n",
       "    .dataframe thead th {\n",
       "        text-align: right;\n",
       "    }\n",
       "</style>\n",
       "<table border=\"1\" class=\"dataframe\">\n",
       "  <thead>\n",
       "    <tr style=\"text-align: right;\">\n",
       "      <th></th>\n",
       "      <th>Time</th>\n",
       "      <th>TTC1</th>\n",
       "      <th>TTC2</th>\n",
       "      <th>TTC3</th>\n",
       "      <th>TTC4</th>\n",
       "      <th>DTO1</th>\n",
       "      <th>DTO2</th>\n",
       "      <th>DTO3</th>\n",
       "      <th>DTO4</th>\n",
       "      <th>JERK1</th>\n",
       "      <th>...</th>\n",
       "      <th>asX4</th>\n",
       "      <th>asY1</th>\n",
       "      <th>asY2</th>\n",
       "      <th>asY3</th>\n",
       "      <th>asY4</th>\n",
       "      <th>asZ1</th>\n",
       "      <th>asZ2</th>\n",
       "      <th>asZ3</th>\n",
       "      <th>asZ4</th>\n",
       "      <th>COL</th>\n",
       "    </tr>\n",
       "  </thead>\n",
       "  <tbody>\n",
       "    <tr>\n",
       "      <th>0</th>\n",
       "      <td>3.0</td>\n",
       "      <td>50.0</td>\n",
       "      <td>50.0</td>\n",
       "      <td>50.0</td>\n",
       "      <td>50.000</td>\n",
       "      <td>100.0</td>\n",
       "      <td>100.0</td>\n",
       "      <td>100.0</td>\n",
       "      <td>100.0000</td>\n",
       "      <td>1.546</td>\n",
       "      <td>...</td>\n",
       "      <td>0.000</td>\n",
       "      <td>-0.202</td>\n",
       "      <td>-0.000</td>\n",
       "      <td>-0.001</td>\n",
       "      <td>-0.001</td>\n",
       "      <td>0.027</td>\n",
       "      <td>0.006</td>\n",
       "      <td>0.001</td>\n",
       "      <td>0.000</td>\n",
       "      <td>0.0</td>\n",
       "    </tr>\n",
       "    <tr>\n",
       "      <th>1</th>\n",
       "      <td>4.0</td>\n",
       "      <td>50.0</td>\n",
       "      <td>50.0</td>\n",
       "      <td>50.0</td>\n",
       "      <td>50.000</td>\n",
       "      <td>100.0</td>\n",
       "      <td>100.0</td>\n",
       "      <td>100.0</td>\n",
       "      <td>100.0000</td>\n",
       "      <td>0.661</td>\n",
       "      <td>...</td>\n",
       "      <td>-0.001</td>\n",
       "      <td>-0.000</td>\n",
       "      <td>-0.001</td>\n",
       "      <td>-0.001</td>\n",
       "      <td>0.000</td>\n",
       "      <td>0.006</td>\n",
       "      <td>0.001</td>\n",
       "      <td>0.000</td>\n",
       "      <td>-0.001</td>\n",
       "      <td>0.0</td>\n",
       "    </tr>\n",
       "    <tr>\n",
       "      <th>2</th>\n",
       "      <td>5.0</td>\n",
       "      <td>50.0</td>\n",
       "      <td>50.0</td>\n",
       "      <td>50.0</td>\n",
       "      <td>50.000</td>\n",
       "      <td>100.0</td>\n",
       "      <td>100.0</td>\n",
       "      <td>100.0</td>\n",
       "      <td>100.0000</td>\n",
       "      <td>4.117</td>\n",
       "      <td>...</td>\n",
       "      <td>-0.000</td>\n",
       "      <td>-0.001</td>\n",
       "      <td>-0.001</td>\n",
       "      <td>0.000</td>\n",
       "      <td>0.000</td>\n",
       "      <td>0.001</td>\n",
       "      <td>0.000</td>\n",
       "      <td>-0.001</td>\n",
       "      <td>0.000</td>\n",
       "      <td>0.0</td>\n",
       "    </tr>\n",
       "    <tr>\n",
       "      <th>3</th>\n",
       "      <td>6.0</td>\n",
       "      <td>50.0</td>\n",
       "      <td>50.0</td>\n",
       "      <td>50.0</td>\n",
       "      <td>50.000</td>\n",
       "      <td>100.0</td>\n",
       "      <td>100.0</td>\n",
       "      <td>100.0</td>\n",
       "      <td>100.0000</td>\n",
       "      <td>0.865</td>\n",
       "      <td>...</td>\n",
       "      <td>0.000</td>\n",
       "      <td>-0.001</td>\n",
       "      <td>0.000</td>\n",
       "      <td>0.000</td>\n",
       "      <td>0.000</td>\n",
       "      <td>0.000</td>\n",
       "      <td>-0.001</td>\n",
       "      <td>0.000</td>\n",
       "      <td>0.000</td>\n",
       "      <td>0.0</td>\n",
       "    </tr>\n",
       "    <tr>\n",
       "      <th>4</th>\n",
       "      <td>7.0</td>\n",
       "      <td>50.0</td>\n",
       "      <td>50.0</td>\n",
       "      <td>50.0</td>\n",
       "      <td>5.322</td>\n",
       "      <td>100.0</td>\n",
       "      <td>100.0</td>\n",
       "      <td>100.0</td>\n",
       "      <td>83.3296</td>\n",
       "      <td>3.704</td>\n",
       "      <td>...</td>\n",
       "      <td>0.004</td>\n",
       "      <td>0.000</td>\n",
       "      <td>0.000</td>\n",
       "      <td>0.000</td>\n",
       "      <td>-0.001</td>\n",
       "      <td>-0.001</td>\n",
       "      <td>0.000</td>\n",
       "      <td>0.000</td>\n",
       "      <td>0.005</td>\n",
       "      <td>0.0</td>\n",
       "    </tr>\n",
       "  </tbody>\n",
       "</table>\n",
       "<p>5 rows × 30 columns</p>\n",
       "</div>"
      ],
      "text/plain": [
       "   Time  TTC1  TTC2  TTC3    TTC4   DTO1   DTO2   DTO3      DTO4  JERK1  ...  \\\n",
       "0   3.0  50.0  50.0  50.0  50.000  100.0  100.0  100.0  100.0000  1.546  ...   \n",
       "1   4.0  50.0  50.0  50.0  50.000  100.0  100.0  100.0  100.0000  0.661  ...   \n",
       "2   5.0  50.0  50.0  50.0  50.000  100.0  100.0  100.0  100.0000  4.117  ...   \n",
       "3   6.0  50.0  50.0  50.0  50.000  100.0  100.0  100.0  100.0000  0.865  ...   \n",
       "4   7.0  50.0  50.0  50.0   5.322  100.0  100.0  100.0   83.3296  3.704  ...   \n",
       "\n",
       "    asX4   asY1   asY2   asY3   asY4   asZ1   asZ2   asZ3   asZ4  COL  \n",
       "0  0.000 -0.202 -0.000 -0.001 -0.001  0.027  0.006  0.001  0.000  0.0  \n",
       "1 -0.001 -0.000 -0.001 -0.001  0.000  0.006  0.001  0.000 -0.001  0.0  \n",
       "2 -0.000 -0.001 -0.001  0.000  0.000  0.001  0.000 -0.001  0.000  0.0  \n",
       "3  0.000 -0.001  0.000  0.000  0.000  0.000 -0.001  0.000  0.000  0.0  \n",
       "4  0.004  0.000  0.000  0.000 -0.001 -0.001  0.000  0.000  0.005  0.0  \n",
       "\n",
       "[5 rows x 30 columns]"
      ]
     },
     "execution_count": 29,
     "metadata": {},
     "output_type": "execute_result"
    }
   ],
   "source": [
    "df = makeDataUsable(read_csv(\"../data/testGenerateData.csv\"),4, 3)\n",
    "print(df.shape)\n",
    "df.head()"
   ]
  },
  {
   "cell_type": "code",
   "execution_count": 30,
   "metadata": {},
   "outputs": [
    {
     "data": {
      "text/plain": [
       "0.0    501\n",
       "1.0     69\n",
       "Name: COL, dtype: int64"
      ]
     },
     "execution_count": 30,
     "metadata": {},
     "output_type": "execute_result"
    }
   ],
   "source": [
    "df[\"COL\"].value_counts()"
   ]
  },
  {
   "cell_type": "code",
   "execution_count": 31,
   "metadata": {},
   "outputs": [],
   "source": [
    "# df = pd.concat([df[df[\"COL\"] == False].sample(80, random_state=1), df[df[\"COL\"] == True]])"
   ]
  },
  {
   "cell_type": "code",
   "execution_count": 32,
   "metadata": {},
   "outputs": [
    {
     "name": "stdout",
     "output_type": "stream",
     "text": [
      "splitting at 119.\n"
     ]
    }
   ],
   "source": [
    "data = df.copy().drop(columns=df.columns[0], axis=1)\n",
    "trainX, trainY, testX, testY = splitTrainTest(data)"
   ]
  },
  {
   "cell_type": "code",
   "execution_count": 33,
   "metadata": {},
   "outputs": [
    {
     "data": {
      "text/html": [
       "<div>\n",
       "<style scoped>\n",
       "    .dataframe tbody tr th:only-of-type {\n",
       "        vertical-align: middle;\n",
       "    }\n",
       "\n",
       "    .dataframe tbody tr th {\n",
       "        vertical-align: top;\n",
       "    }\n",
       "\n",
       "    .dataframe thead th {\n",
       "        text-align: right;\n",
       "    }\n",
       "</style>\n",
       "<table border=\"1\" class=\"dataframe\">\n",
       "  <thead>\n",
       "    <tr style=\"text-align: right;\">\n",
       "      <th></th>\n",
       "      <th>TTC1</th>\n",
       "      <th>TTC2</th>\n",
       "      <th>TTC3</th>\n",
       "      <th>TTC4</th>\n",
       "      <th>DTO1</th>\n",
       "      <th>DTO2</th>\n",
       "      <th>DTO3</th>\n",
       "      <th>DTO4</th>\n",
       "      <th>JERK1</th>\n",
       "      <th>JERK2</th>\n",
       "      <th>...</th>\n",
       "      <th>asX3</th>\n",
       "      <th>asX4</th>\n",
       "      <th>asY1</th>\n",
       "      <th>asY2</th>\n",
       "      <th>asY3</th>\n",
       "      <th>asY4</th>\n",
       "      <th>asZ1</th>\n",
       "      <th>asZ2</th>\n",
       "      <th>asZ3</th>\n",
       "      <th>asZ4</th>\n",
       "    </tr>\n",
       "  </thead>\n",
       "  <tbody>\n",
       "    <tr>\n",
       "      <th>551</th>\n",
       "      <td>-0.471</td>\n",
       "      <td>50.000</td>\n",
       "      <td>50.0</td>\n",
       "      <td>50.0</td>\n",
       "      <td>-0.0066</td>\n",
       "      <td>-0.0090</td>\n",
       "      <td>44.7045</td>\n",
       "      <td>27.2004</td>\n",
       "      <td>0.753</td>\n",
       "      <td>0.025</td>\n",
       "      <td>...</td>\n",
       "      <td>0.016</td>\n",
       "      <td>0.104</td>\n",
       "      <td>-0.000</td>\n",
       "      <td>-0.000</td>\n",
       "      <td>-0.310</td>\n",
       "      <td>-0.011</td>\n",
       "      <td>-0.000</td>\n",
       "      <td>-0.001</td>\n",
       "      <td>0.016</td>\n",
       "      <td>0.008</td>\n",
       "    </tr>\n",
       "    <tr>\n",
       "      <th>39</th>\n",
       "      <td>-0.007</td>\n",
       "      <td>-2.275</td>\n",
       "      <td>50.0</td>\n",
       "      <td>50.0</td>\n",
       "      <td>-0.0090</td>\n",
       "      <td>-0.0091</td>\n",
       "      <td>0.9216</td>\n",
       "      <td>0.7991</td>\n",
       "      <td>1.445</td>\n",
       "      <td>1.525</td>\n",
       "      <td>...</td>\n",
       "      <td>0.002</td>\n",
       "      <td>0.004</td>\n",
       "      <td>-0.002</td>\n",
       "      <td>0.000</td>\n",
       "      <td>0.001</td>\n",
       "      <td>-0.000</td>\n",
       "      <td>0.003</td>\n",
       "      <td>0.000</td>\n",
       "      <td>-0.001</td>\n",
       "      <td>-0.001</td>\n",
       "    </tr>\n",
       "    <tr>\n",
       "      <th>510</th>\n",
       "      <td>33.527</td>\n",
       "      <td>50.000</td>\n",
       "      <td>50.0</td>\n",
       "      <td>50.0</td>\n",
       "      <td>10.4939</td>\n",
       "      <td>100.0000</td>\n",
       "      <td>39.8169</td>\n",
       "      <td>100.0000</td>\n",
       "      <td>0.588</td>\n",
       "      <td>4.672</td>\n",
       "      <td>...</td>\n",
       "      <td>-0.003</td>\n",
       "      <td>-0.004</td>\n",
       "      <td>-0.001</td>\n",
       "      <td>-0.309</td>\n",
       "      <td>0.001</td>\n",
       "      <td>-0.001</td>\n",
       "      <td>-0.001</td>\n",
       "      <td>-0.030</td>\n",
       "      <td>-0.015</td>\n",
       "      <td>0.002</td>\n",
       "    </tr>\n",
       "  </tbody>\n",
       "</table>\n",
       "<p>3 rows × 28 columns</p>\n",
       "</div>"
      ],
      "text/plain": [
       "       TTC1    TTC2  TTC3  TTC4     DTO1      DTO2     DTO3      DTO4  JERK1  \\\n",
       "551  -0.471  50.000  50.0  50.0  -0.0066   -0.0090  44.7045   27.2004  0.753   \n",
       "39   -0.007  -2.275  50.0  50.0  -0.0090   -0.0091   0.9216    0.7991  1.445   \n",
       "510  33.527  50.000  50.0  50.0  10.4939  100.0000  39.8169  100.0000  0.588   \n",
       "\n",
       "     JERK2  ...   asX3   asX4   asY1   asY2   asY3   asY4   asZ1   asZ2  \\\n",
       "551  0.025  ...  0.016  0.104 -0.000 -0.000 -0.310 -0.011 -0.000 -0.001   \n",
       "39   1.525  ...  0.002  0.004 -0.002  0.000  0.001 -0.000  0.003  0.000   \n",
       "510  4.672  ... -0.003 -0.004 -0.001 -0.309  0.001 -0.001 -0.001 -0.030   \n",
       "\n",
       "      asZ3   asZ4  \n",
       "551  0.016  0.008  \n",
       "39  -0.001 -0.001  \n",
       "510 -0.015  0.002  \n",
       "\n",
       "[3 rows x 28 columns]"
      ]
     },
     "execution_count": 33,
     "metadata": {},
     "output_type": "execute_result"
    }
   ],
   "source": [
    "trainX.head(3)"
   ]
  },
  {
   "cell_type": "code",
   "execution_count": 34,
   "metadata": {},
   "outputs": [],
   "source": [
    "from sklearn.metrics import accuracy_score, precision_score, recall_score, f1_score, confusion_matrix\n",
    "from sklearn.ensemble import RandomForestClassifier\n",
    "from sklearn.svm import SVC\n",
    "from xgboost import XGBClassifier"
   ]
  },
  {
   "cell_type": "code",
   "execution_count": 35,
   "metadata": {},
   "outputs": [
    {
     "name": "stdout",
     "output_type": "stream",
     "text": [
      "Scaler is fitted\n"
     ]
    }
   ],
   "source": [
    "xgb_clf = NewPredicter(XGBClassifier(n_estimators=100, random_state=1))\n",
    "xgb_trainX = xgb_clf.preProcess(trainX.copy())\n",
    "xgb_testX = xgb_clf.preProcess(testX.copy())\n",
    "\n",
    "xgb_trainY, xgb_testY = trainY.to_numpy(), testY.to_numpy()"
   ]
  },
  {
   "cell_type": "code",
   "execution_count": 36,
   "metadata": {},
   "outputs": [],
   "source": [
    "xgb_clf.fit(xgb_trainX, xgb_trainY)"
   ]
  },
  {
   "cell_type": "code",
   "execution_count": 37,
   "metadata": {},
   "outputs": [
    {
     "name": "stdout",
     "output_type": "stream",
     "text": [
      "Total: 30, Collisions: 11\n",
      "Accuracy: 0.7333333333333333, Precision: 0.6666666666666666, Recall: 0.5454545454545454, F1: 0.6\n",
      "Confusion matrix:\n",
      "[[16  3]\n",
      " [ 5  6]]\n"
     ]
    }
   ],
   "source": [
    "len(xgb_testX[0])\n",
    "xgb_pred = xgb_clf.predict(xgb_testX)\n",
    "xgb_score = xgb_clf.getScore(xgb_testY, xgb_pred)"
   ]
  },
  {
   "cell_type": "markdown",
   "metadata": {},
   "source": [
    "TODO - need more data, what is radar?"
   ]
  },
  {
   "cell_type": "code",
   "execution_count": 38,
   "metadata": {},
   "outputs": [
    {
     "data": {
      "text/plain": [
       "'16-3-5-6'"
      ]
     },
     "execution_count": 38,
     "metadata": {},
     "output_type": "execute_result"
    }
   ],
   "source": [
    "# model_score = f\"{score[0][0]}-{score[0][1]}-{score[1][0]}-{score[1][1]}\"\n",
    "model_score = f\"{xgb_score[0][0]}-{xgb_score[0][1]}-{xgb_score[1][0]}-{xgb_score[1][1]}\"\n",
    "model_score"
   ]
  },
  {
   "cell_type": "code",
   "execution_count": 39,
   "metadata": {},
   "outputs": [],
   "source": [
    "# xgb_clf.saveModel(\"xgb_2\", accuracy=model_score)"
   ]
  }
 ],
 "metadata": {
  "kernelspec": {
   "display_name": "Python 3.9.16 ('MasterThesis')",
   "language": "python",
   "name": "python3"
  },
  "language_info": {
   "codemirror_mode": {
    "name": "ipython",
    "version": 3
   },
   "file_extension": ".py",
   "mimetype": "text/x-python",
   "name": "python",
   "nbconvert_exporter": "python",
   "pygments_lexer": "ipython3",
   "version": "3.9.16"
  },
  "orig_nbformat": 4,
  "vscode": {
   "interpreter": {
    "hash": "5ea953018f845277ff9327bc0467e81b58a68076ce0c385be95779bfd3460f16"
   }
  }
 },
 "nbformat": 4,
 "nbformat_minor": 2
}
