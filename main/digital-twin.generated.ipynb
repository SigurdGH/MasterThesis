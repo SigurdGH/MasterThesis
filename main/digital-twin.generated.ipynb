{
 "cells": [
  {
   "cell_type": "code",
   "execution_count": 21,
   "metadata": {},
   "outputs": [],
   "source": [
    "import matplotlib.pyplot as plt\n",
    "import numpy as np\n",
    "import pandas as pd\n",
    "from pandas import DataFrame, read_csv\n",
    "\n",
    "from ML.DTGenerated import DTGenerated\n",
    "import pickle"
   ]
  },
  {
   "cell_type": "code",
   "execution_count": 22,
   "metadata": {},
   "outputs": [],
   "source": [
    "from generateTestingData.useGeneratedData import makeDataUsable, splitTrainTest, NewPredicter"
   ]
  },
  {
   "cell_type": "code",
   "execution_count": 23,
   "metadata": {},
   "outputs": [
    {
     "name": "stdout",
     "output_type": "stream",
     "text": [
      "(2369, 30)\n"
     ]
    },
    {
     "data": {
      "text/html": [
       "<div>\n",
       "<style scoped>\n",
       "    .dataframe tbody tr th:only-of-type {\n",
       "        vertical-align: middle;\n",
       "    }\n",
       "\n",
       "    .dataframe tbody tr th {\n",
       "        vertical-align: top;\n",
       "    }\n",
       "\n",
       "    .dataframe thead th {\n",
       "        text-align: right;\n",
       "    }\n",
       "</style>\n",
       "<table border=\"1\" class=\"dataframe\">\n",
       "  <thead>\n",
       "    <tr style=\"text-align: right;\">\n",
       "      <th></th>\n",
       "      <th>Time</th>\n",
       "      <th>TTC1</th>\n",
       "      <th>TTC2</th>\n",
       "      <th>TTC3</th>\n",
       "      <th>TTC4</th>\n",
       "      <th>DTO1</th>\n",
       "      <th>DTO2</th>\n",
       "      <th>DTO3</th>\n",
       "      <th>DTO4</th>\n",
       "      <th>JERK1</th>\n",
       "      <th>...</th>\n",
       "      <th>asX4</th>\n",
       "      <th>asY1</th>\n",
       "      <th>asY2</th>\n",
       "      <th>asY3</th>\n",
       "      <th>asY4</th>\n",
       "      <th>asZ1</th>\n",
       "      <th>asZ2</th>\n",
       "      <th>asZ3</th>\n",
       "      <th>asZ4</th>\n",
       "      <th>COL</th>\n",
       "    </tr>\n",
       "  </thead>\n",
       "  <tbody>\n",
       "    <tr>\n",
       "      <th>0</th>\n",
       "      <td>3.0</td>\n",
       "      <td>50.0</td>\n",
       "      <td>50.0</td>\n",
       "      <td>50.0</td>\n",
       "      <td>50.000</td>\n",
       "      <td>80.5604</td>\n",
       "      <td>100.0</td>\n",
       "      <td>100.0</td>\n",
       "      <td>100.0000</td>\n",
       "      <td>1.835</td>\n",
       "      <td>...</td>\n",
       "      <td>0.000</td>\n",
       "      <td>0.002</td>\n",
       "      <td>-0.000</td>\n",
       "      <td>-0.001</td>\n",
       "      <td>-0.001</td>\n",
       "      <td>0.007</td>\n",
       "      <td>0.006</td>\n",
       "      <td>0.001</td>\n",
       "      <td>0.000</td>\n",
       "      <td>0.0</td>\n",
       "    </tr>\n",
       "    <tr>\n",
       "      <th>1</th>\n",
       "      <td>4.0</td>\n",
       "      <td>50.0</td>\n",
       "      <td>50.0</td>\n",
       "      <td>50.0</td>\n",
       "      <td>50.000</td>\n",
       "      <td>100.0000</td>\n",
       "      <td>100.0</td>\n",
       "      <td>100.0</td>\n",
       "      <td>100.0000</td>\n",
       "      <td>0.661</td>\n",
       "      <td>...</td>\n",
       "      <td>-0.001</td>\n",
       "      <td>-0.000</td>\n",
       "      <td>-0.001</td>\n",
       "      <td>-0.001</td>\n",
       "      <td>0.000</td>\n",
       "      <td>0.006</td>\n",
       "      <td>0.001</td>\n",
       "      <td>0.000</td>\n",
       "      <td>-0.001</td>\n",
       "      <td>0.0</td>\n",
       "    </tr>\n",
       "    <tr>\n",
       "      <th>2</th>\n",
       "      <td>5.0</td>\n",
       "      <td>50.0</td>\n",
       "      <td>50.0</td>\n",
       "      <td>50.0</td>\n",
       "      <td>50.000</td>\n",
       "      <td>100.0000</td>\n",
       "      <td>100.0</td>\n",
       "      <td>100.0</td>\n",
       "      <td>100.0000</td>\n",
       "      <td>4.117</td>\n",
       "      <td>...</td>\n",
       "      <td>-0.000</td>\n",
       "      <td>-0.001</td>\n",
       "      <td>-0.001</td>\n",
       "      <td>0.000</td>\n",
       "      <td>0.000</td>\n",
       "      <td>0.001</td>\n",
       "      <td>0.000</td>\n",
       "      <td>-0.001</td>\n",
       "      <td>0.000</td>\n",
       "      <td>0.0</td>\n",
       "    </tr>\n",
       "    <tr>\n",
       "      <th>3</th>\n",
       "      <td>6.0</td>\n",
       "      <td>50.0</td>\n",
       "      <td>50.0</td>\n",
       "      <td>50.0</td>\n",
       "      <td>50.000</td>\n",
       "      <td>100.0000</td>\n",
       "      <td>100.0</td>\n",
       "      <td>100.0</td>\n",
       "      <td>100.0000</td>\n",
       "      <td>0.865</td>\n",
       "      <td>...</td>\n",
       "      <td>0.000</td>\n",
       "      <td>-0.001</td>\n",
       "      <td>0.000</td>\n",
       "      <td>0.000</td>\n",
       "      <td>0.000</td>\n",
       "      <td>0.000</td>\n",
       "      <td>-0.001</td>\n",
       "      <td>0.000</td>\n",
       "      <td>0.000</td>\n",
       "      <td>0.0</td>\n",
       "    </tr>\n",
       "    <tr>\n",
       "      <th>4</th>\n",
       "      <td>7.0</td>\n",
       "      <td>50.0</td>\n",
       "      <td>50.0</td>\n",
       "      <td>50.0</td>\n",
       "      <td>5.322</td>\n",
       "      <td>100.0000</td>\n",
       "      <td>100.0</td>\n",
       "      <td>100.0</td>\n",
       "      <td>83.3296</td>\n",
       "      <td>3.704</td>\n",
       "      <td>...</td>\n",
       "      <td>0.004</td>\n",
       "      <td>0.000</td>\n",
       "      <td>0.000</td>\n",
       "      <td>0.000</td>\n",
       "      <td>-0.001</td>\n",
       "      <td>-0.001</td>\n",
       "      <td>0.000</td>\n",
       "      <td>0.000</td>\n",
       "      <td>0.005</td>\n",
       "      <td>0.0</td>\n",
       "    </tr>\n",
       "  </tbody>\n",
       "</table>\n",
       "<p>5 rows × 30 columns</p>\n",
       "</div>"
      ],
      "text/plain": [
       "   Time  TTC1  TTC2  TTC3    TTC4      DTO1   DTO2   DTO3      DTO4  JERK1  \\\n",
       "0   3.0  50.0  50.0  50.0  50.000   80.5604  100.0  100.0  100.0000  1.835   \n",
       "1   4.0  50.0  50.0  50.0  50.000  100.0000  100.0  100.0  100.0000  0.661   \n",
       "2   5.0  50.0  50.0  50.0  50.000  100.0000  100.0  100.0  100.0000  4.117   \n",
       "3   6.0  50.0  50.0  50.0  50.000  100.0000  100.0  100.0  100.0000  0.865   \n",
       "4   7.0  50.0  50.0  50.0   5.322  100.0000  100.0  100.0   83.3296  3.704   \n",
       "\n",
       "   ...   asX4   asY1   asY2   asY3   asY4   asZ1   asZ2   asZ3   asZ4  COL  \n",
       "0  ...  0.000  0.002 -0.000 -0.001 -0.001  0.007  0.006  0.001  0.000  0.0  \n",
       "1  ... -0.001 -0.000 -0.001 -0.001  0.000  0.006  0.001  0.000 -0.001  0.0  \n",
       "2  ... -0.000 -0.001 -0.001  0.000  0.000  0.001  0.000 -0.001  0.000  0.0  \n",
       "3  ...  0.000 -0.001  0.000  0.000  0.000  0.000 -0.001  0.000  0.000  0.0  \n",
       "4  ...  0.004  0.000  0.000  0.000 -0.001 -0.001  0.000  0.000  0.005  0.0  \n",
       "\n",
       "[5 rows x 30 columns]"
      ]
     },
     "execution_count": 23,
     "metadata": {},
     "output_type": "execute_result"
    }
   ],
   "source": [
    "df = makeDataUsable(read_csv(\"../data/testGenerateData.csv\"),4, 3)\n",
    "print(df.shape)\n",
    "df.head()"
   ]
  },
  {
   "cell_type": "code",
   "execution_count": 24,
   "metadata": {},
   "outputs": [
    {
     "data": {
      "text/plain": [
       "0.0    2188\n",
       "1.0     181\n",
       "Name: COL, dtype: int64"
      ]
     },
     "execution_count": 24,
     "metadata": {},
     "output_type": "execute_result"
    }
   ],
   "source": [
    "df[\"COL\"].value_counts()"
   ]
  },
  {
   "cell_type": "code",
   "execution_count": 25,
   "metadata": {},
   "outputs": [
    {
     "data": {
      "text/plain": [
       "Time     -0.056514\n",
       "TTC1     -0.102932\n",
       "TTC2     -0.173143\n",
       "TTC3     -0.218984\n",
       "TTC4     -0.255912\n",
       "DTO1     -0.067642\n",
       "DTO2     -0.108841\n",
       "DTO3     -0.155762\n",
       "DTO4     -0.192370\n",
       "JERK1    -0.025233\n",
       "JERK2    -0.013158\n",
       "JERK3     0.023716\n",
       "JERK4     0.237693\n",
       "Speed1    0.129512\n",
       "Speed2    0.136681\n",
       "Speed3    0.127932\n",
       "Speed4   -0.002580\n",
       "asX1     -0.018938\n",
       "asX2     -0.004479\n",
       "asX3     -0.017248\n",
       "asX4     -0.000513\n",
       "asY1      0.031292\n",
       "asY2      0.007849\n",
       "asY3     -0.002019\n",
       "asY4     -0.026174\n",
       "asZ1      0.033380\n",
       "asZ2      0.027377\n",
       "asZ3      0.045076\n",
       "asZ4      0.008791\n",
       "COL       1.000000\n",
       "Name: COL, dtype: float64"
      ]
     },
     "execution_count": 25,
     "metadata": {},
     "output_type": "execute_result"
    }
   ],
   "source": [
    "df.corr()[\"COL\"]"
   ]
  },
  {
   "cell_type": "code",
   "execution_count": null,
   "metadata": {},
   "outputs": [],
   "source": [
    "\n",
    "# sampleSize = int(len(data[data['COL'] == 1]) * undersampleRatio)\n",
    "# print(\"Undersampling\")\n",
    "# data = concat([data[data[\"COL\"] == 0].sample(sampleSize, random_state=1), data[data[\"COL\"] == True]])"
   ]
  },
  {
   "cell_type": "code",
   "execution_count": 26,
   "metadata": {},
   "outputs": [],
   "source": [
    "df = pd.concat([df[df[\"COL\"] == False].sample(200, random_state=1), df[df[\"COL\"] == True]])"
   ]
  },
  {
   "cell_type": "code",
   "execution_count": 27,
   "metadata": {},
   "outputs": [
    {
     "name": "stdout",
     "output_type": "stream",
     "text": [
      "splitting at 304.\n"
     ]
    }
   ],
   "source": [
    "data = df.copy().drop(columns=df.columns[0], axis=1)\n",
    "trainX, trainY, testX, testY = splitTrainTest(data)"
   ]
  },
  {
   "cell_type": "code",
   "execution_count": 28,
   "metadata": {},
   "outputs": [
    {
     "data": {
      "text/html": [
       "<div>\n",
       "<style scoped>\n",
       "    .dataframe tbody tr th:only-of-type {\n",
       "        vertical-align: middle;\n",
       "    }\n",
       "\n",
       "    .dataframe tbody tr th {\n",
       "        vertical-align: top;\n",
       "    }\n",
       "\n",
       "    .dataframe thead th {\n",
       "        text-align: right;\n",
       "    }\n",
       "</style>\n",
       "<table border=\"1\" class=\"dataframe\">\n",
       "  <thead>\n",
       "    <tr style=\"text-align: right;\">\n",
       "      <th></th>\n",
       "      <th>TTC1</th>\n",
       "      <th>TTC2</th>\n",
       "      <th>TTC3</th>\n",
       "      <th>TTC4</th>\n",
       "      <th>DTO1</th>\n",
       "      <th>DTO2</th>\n",
       "      <th>DTO3</th>\n",
       "      <th>DTO4</th>\n",
       "      <th>JERK1</th>\n",
       "      <th>JERK2</th>\n",
       "      <th>...</th>\n",
       "      <th>asX3</th>\n",
       "      <th>asX4</th>\n",
       "      <th>asY1</th>\n",
       "      <th>asY2</th>\n",
       "      <th>asY3</th>\n",
       "      <th>asY4</th>\n",
       "      <th>asZ1</th>\n",
       "      <th>asZ2</th>\n",
       "      <th>asZ3</th>\n",
       "      <th>asZ4</th>\n",
       "    </tr>\n",
       "  </thead>\n",
       "  <tbody>\n",
       "    <tr>\n",
       "      <th>226</th>\n",
       "      <td>4.181</td>\n",
       "      <td>3.303</td>\n",
       "      <td>2.389</td>\n",
       "      <td>1.448</td>\n",
       "      <td>52.4022</td>\n",
       "      <td>40.3287</td>\n",
       "      <td>28.5215</td>\n",
       "      <td>16.9475</td>\n",
       "      <td>0.451</td>\n",
       "      <td>0.012</td>\n",
       "      <td>...</td>\n",
       "      <td>0.000</td>\n",
       "      <td>-0.000</td>\n",
       "      <td>0.000</td>\n",
       "      <td>0.000</td>\n",
       "      <td>0.000</td>\n",
       "      <td>0.000</td>\n",
       "      <td>0.001</td>\n",
       "      <td>-0.000</td>\n",
       "      <td>-0.000</td>\n",
       "      <td>-0.000</td>\n",
       "    </tr>\n",
       "    <tr>\n",
       "      <th>64</th>\n",
       "      <td>50.000</td>\n",
       "      <td>50.000</td>\n",
       "      <td>50.000</td>\n",
       "      <td>50.000</td>\n",
       "      <td>0.6410</td>\n",
       "      <td>3.9126</td>\n",
       "      <td>13.3183</td>\n",
       "      <td>21.2978</td>\n",
       "      <td>1.463</td>\n",
       "      <td>1.209</td>\n",
       "      <td>...</td>\n",
       "      <td>-0.012</td>\n",
       "      <td>-0.025</td>\n",
       "      <td>0.238</td>\n",
       "      <td>0.719</td>\n",
       "      <td>0.856</td>\n",
       "      <td>-0.014</td>\n",
       "      <td>-0.004</td>\n",
       "      <td>0.012</td>\n",
       "      <td>0.008</td>\n",
       "      <td>-0.004</td>\n",
       "    </tr>\n",
       "    <tr>\n",
       "      <th>695</th>\n",
       "      <td>50.000</td>\n",
       "      <td>4.850</td>\n",
       "      <td>3.686</td>\n",
       "      <td>2.227</td>\n",
       "      <td>31.2345</td>\n",
       "      <td>25.6007</td>\n",
       "      <td>20.1456</td>\n",
       "      <td>12.9023</td>\n",
       "      <td>5.010</td>\n",
       "      <td>4.278</td>\n",
       "      <td>...</td>\n",
       "      <td>0.008</td>\n",
       "      <td>-0.009</td>\n",
       "      <td>-0.001</td>\n",
       "      <td>0.001</td>\n",
       "      <td>0.000</td>\n",
       "      <td>-0.000</td>\n",
       "      <td>0.003</td>\n",
       "      <td>0.002</td>\n",
       "      <td>0.009</td>\n",
       "      <td>-0.010</td>\n",
       "    </tr>\n",
       "  </tbody>\n",
       "</table>\n",
       "<p>3 rows × 28 columns</p>\n",
       "</div>"
      ],
      "text/plain": [
       "       TTC1    TTC2    TTC3    TTC4     DTO1     DTO2     DTO3     DTO4  \\\n",
       "226   4.181   3.303   2.389   1.448  52.4022  40.3287  28.5215  16.9475   \n",
       "64   50.000  50.000  50.000  50.000   0.6410   3.9126  13.3183  21.2978   \n",
       "695  50.000   4.850   3.686   2.227  31.2345  25.6007  20.1456  12.9023   \n",
       "\n",
       "     JERK1  JERK2  ...   asX3   asX4   asY1   asY2   asY3   asY4   asZ1  \\\n",
       "226  0.451  0.012  ...  0.000 -0.000  0.000  0.000  0.000  0.000  0.001   \n",
       "64   1.463  1.209  ... -0.012 -0.025  0.238  0.719  0.856 -0.014 -0.004   \n",
       "695  5.010  4.278  ...  0.008 -0.009 -0.001  0.001  0.000 -0.000  0.003   \n",
       "\n",
       "      asZ2   asZ3   asZ4  \n",
       "226 -0.000 -0.000 -0.000  \n",
       "64   0.012  0.008 -0.004  \n",
       "695  0.002  0.009 -0.010  \n",
       "\n",
       "[3 rows x 28 columns]"
      ]
     },
     "execution_count": 28,
     "metadata": {},
     "output_type": "execute_result"
    }
   ],
   "source": [
    "trainX.head(3)"
   ]
  },
  {
   "cell_type": "code",
   "execution_count": 29,
   "metadata": {},
   "outputs": [],
   "source": [
    "from sklearn.metrics import accuracy_score, precision_score, recall_score, f1_score, confusion_matrix\n",
    "from sklearn.ensemble import RandomForestClassifier\n",
    "from sklearn.svm import SVC\n",
    "from xgboost import XGBClassifier"
   ]
  },
  {
   "cell_type": "code",
   "execution_count": 30,
   "metadata": {},
   "outputs": [
    {
     "name": "stdout",
     "output_type": "stream",
     "text": [
      "Scaler is fitted\n"
     ]
    }
   ],
   "source": [
    "xgb_clf = NewPredicter(XGBClassifier(n_estimators=100, random_state=1))\n",
    "xgb_trainX = xgb_clf.preProcess(trainX.copy())\n",
    "xgb_testX = xgb_clf.preProcess(testX.copy())\n",
    "\n",
    "xgb_trainY, xgb_testY = trainY.to_numpy(), testY.to_numpy()"
   ]
  },
  {
   "cell_type": "code",
   "execution_count": 31,
   "metadata": {},
   "outputs": [],
   "source": [
    "xgb_clf.fit(xgb_trainX, xgb_trainY)"
   ]
  },
  {
   "cell_type": "code",
   "execution_count": 32,
   "metadata": {},
   "outputs": [
    {
     "name": "stdout",
     "output_type": "stream",
     "text": [
      "Total: 77, Collisions: 38\n",
      "Accuracy: 0.7402597402597403, Precision: 0.75, Recall: 0.7105263157894737, F1: 0.7297297297297298\n",
      "Confusion matrix:\n",
      "[[30  9]\n",
      " [11 27]]\n"
     ]
    }
   ],
   "source": [
    "len(xgb_testX[0])\n",
    "xgb_pred = xgb_clf.predict(xgb_testX)\n",
    "xgb_score = xgb_clf.getScore(xgb_testY, xgb_pred)"
   ]
  },
  {
   "attachments": {},
   "cell_type": "markdown",
   "metadata": {},
   "source": [
    "TODO - need more data, what is radar?"
   ]
  },
  {
   "cell_type": "code",
   "execution_count": 33,
   "metadata": {},
   "outputs": [
    {
     "data": {
      "text/plain": [
       "'30-9-11-27'"
      ]
     },
     "execution_count": 33,
     "metadata": {},
     "output_type": "execute_result"
    }
   ],
   "source": [
    "# model_score = f\"{score[0][0]}-{score[0][1]}-{score[1][0]}-{score[1][1]}\"\n",
    "model_score = f\"{xgb_score[0][0]}-{xgb_score[0][1]}-{xgb_score[1][0]}-{xgb_score[1][1]}\"\n",
    "model_score"
   ]
  },
  {
   "cell_type": "code",
   "execution_count": 41,
   "metadata": {},
   "outputs": [
    {
     "name": "stdout",
     "output_type": "stream",
     "text": [
      "Model saved!\n"
     ]
    }
   ],
   "source": [
    "xgb_clf.saveModel(\"xgb_gen\", accuracy=model_score)"
   ]
  }
 ],
 "metadata": {
  "kernelspec": {
   "display_name": "Python 3.9.16 ('MasterThesis')",
   "language": "python",
   "name": "python3"
  },
  "language_info": {
   "codemirror_mode": {
    "name": "ipython",
    "version": 3
   },
   "file_extension": ".py",
   "mimetype": "text/x-python",
   "name": "python",
   "nbconvert_exporter": "python",
   "pygments_lexer": "ipython3",
   "version": "3.9.16"
  },
  "orig_nbformat": 4,
  "vscode": {
   "interpreter": {
    "hash": "5ea953018f845277ff9327bc0467e81b58a68076ce0c385be95779bfd3460f16"
   }
  }
 },
 "nbformat": 4,
 "nbformat_minor": 2
}
