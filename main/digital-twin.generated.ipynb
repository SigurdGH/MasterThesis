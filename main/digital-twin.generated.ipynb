{
 "cells": [
  {
   "cell_type": "code",
   "execution_count": 12,
   "metadata": {},
   "outputs": [],
   "source": [
    "import matplotlib.pyplot as plt\n",
    "import numpy as np\n",
    "import pandas as pd\n",
    "from pandas import DataFrame, read_csv\n",
    "\n",
    "from ML.DTGenerated import DTGenerated\n",
    "import pickle"
   ]
  },
  {
   "cell_type": "code",
   "execution_count": 13,
   "metadata": {},
   "outputs": [],
   "source": [
    "from generateTestingData.useGeneratedData import makeDataUsable, splitTrainTest, NewPredicter"
   ]
  },
  {
   "cell_type": "code",
   "execution_count": 14,
   "metadata": {},
   "outputs": [],
   "source": [
    "MODEL_PREFIX = \"gen\"\n",
    "SAVE_MODELS = False \n",
    "PI = 4 # past importance\n",
    "RBC = 5 # rows before col"
   ]
  },
  {
   "cell_type": "code",
   "execution_count": 15,
   "metadata": {},
   "outputs": [
    {
     "name": "stdout",
     "output_type": "stream",
     "text": [
      "(3950, 30)\n"
     ]
    },
    {
     "data": {
      "text/html": [
       "<div>\n",
       "<style scoped>\n",
       "    .dataframe tbody tr th:only-of-type {\n",
       "        vertical-align: middle;\n",
       "    }\n",
       "\n",
       "    .dataframe tbody tr th {\n",
       "        vertical-align: top;\n",
       "    }\n",
       "\n",
       "    .dataframe thead th {\n",
       "        text-align: right;\n",
       "    }\n",
       "</style>\n",
       "<table border=\"1\" class=\"dataframe\">\n",
       "  <thead>\n",
       "    <tr style=\"text-align: right;\">\n",
       "      <th></th>\n",
       "      <th>Time</th>\n",
       "      <th>TTC1</th>\n",
       "      <th>TTC2</th>\n",
       "      <th>TTC3</th>\n",
       "      <th>TTC4</th>\n",
       "      <th>DTO1</th>\n",
       "      <th>DTO2</th>\n",
       "      <th>DTO3</th>\n",
       "      <th>DTO4</th>\n",
       "      <th>JERK1</th>\n",
       "      <th>...</th>\n",
       "      <th>asX4</th>\n",
       "      <th>asY1</th>\n",
       "      <th>asY2</th>\n",
       "      <th>asY3</th>\n",
       "      <th>asY4</th>\n",
       "      <th>asZ1</th>\n",
       "      <th>asZ2</th>\n",
       "      <th>asZ3</th>\n",
       "      <th>asZ4</th>\n",
       "      <th>COL</th>\n",
       "    </tr>\n",
       "  </thead>\n",
       "  <tbody>\n",
       "    <tr>\n",
       "      <th>0</th>\n",
       "      <td>3.0</td>\n",
       "      <td>50.0</td>\n",
       "      <td>50.0</td>\n",
       "      <td>50.0</td>\n",
       "      <td>50.000</td>\n",
       "      <td>16.6264</td>\n",
       "      <td>100.0</td>\n",
       "      <td>100.0</td>\n",
       "      <td>100.0000</td>\n",
       "      <td>0.004</td>\n",
       "      <td>...</td>\n",
       "      <td>0.000</td>\n",
       "      <td>0.000</td>\n",
       "      <td>-0.000</td>\n",
       "      <td>-0.001</td>\n",
       "      <td>-0.001</td>\n",
       "      <td>0.000</td>\n",
       "      <td>0.006</td>\n",
       "      <td>0.001</td>\n",
       "      <td>0.000</td>\n",
       "      <td>0.0</td>\n",
       "    </tr>\n",
       "    <tr>\n",
       "      <th>1</th>\n",
       "      <td>4.0</td>\n",
       "      <td>50.0</td>\n",
       "      <td>50.0</td>\n",
       "      <td>50.0</td>\n",
       "      <td>50.000</td>\n",
       "      <td>100.0000</td>\n",
       "      <td>100.0</td>\n",
       "      <td>100.0</td>\n",
       "      <td>100.0000</td>\n",
       "      <td>0.661</td>\n",
       "      <td>...</td>\n",
       "      <td>-0.001</td>\n",
       "      <td>-0.000</td>\n",
       "      <td>-0.001</td>\n",
       "      <td>-0.001</td>\n",
       "      <td>0.000</td>\n",
       "      <td>0.006</td>\n",
       "      <td>0.001</td>\n",
       "      <td>0.000</td>\n",
       "      <td>-0.001</td>\n",
       "      <td>0.0</td>\n",
       "    </tr>\n",
       "    <tr>\n",
       "      <th>2</th>\n",
       "      <td>5.0</td>\n",
       "      <td>50.0</td>\n",
       "      <td>50.0</td>\n",
       "      <td>50.0</td>\n",
       "      <td>50.000</td>\n",
       "      <td>100.0000</td>\n",
       "      <td>100.0</td>\n",
       "      <td>100.0</td>\n",
       "      <td>100.0000</td>\n",
       "      <td>4.117</td>\n",
       "      <td>...</td>\n",
       "      <td>-0.000</td>\n",
       "      <td>-0.001</td>\n",
       "      <td>-0.001</td>\n",
       "      <td>0.000</td>\n",
       "      <td>0.000</td>\n",
       "      <td>0.001</td>\n",
       "      <td>0.000</td>\n",
       "      <td>-0.001</td>\n",
       "      <td>0.000</td>\n",
       "      <td>0.0</td>\n",
       "    </tr>\n",
       "    <tr>\n",
       "      <th>3</th>\n",
       "      <td>6.0</td>\n",
       "      <td>50.0</td>\n",
       "      <td>50.0</td>\n",
       "      <td>50.0</td>\n",
       "      <td>50.000</td>\n",
       "      <td>100.0000</td>\n",
       "      <td>100.0</td>\n",
       "      <td>100.0</td>\n",
       "      <td>100.0000</td>\n",
       "      <td>0.865</td>\n",
       "      <td>...</td>\n",
       "      <td>0.000</td>\n",
       "      <td>-0.001</td>\n",
       "      <td>0.000</td>\n",
       "      <td>0.000</td>\n",
       "      <td>0.000</td>\n",
       "      <td>0.000</td>\n",
       "      <td>-0.001</td>\n",
       "      <td>0.000</td>\n",
       "      <td>0.000</td>\n",
       "      <td>0.0</td>\n",
       "    </tr>\n",
       "    <tr>\n",
       "      <th>4</th>\n",
       "      <td>7.0</td>\n",
       "      <td>50.0</td>\n",
       "      <td>50.0</td>\n",
       "      <td>50.0</td>\n",
       "      <td>5.322</td>\n",
       "      <td>100.0000</td>\n",
       "      <td>100.0</td>\n",
       "      <td>100.0</td>\n",
       "      <td>83.3296</td>\n",
       "      <td>3.704</td>\n",
       "      <td>...</td>\n",
       "      <td>0.004</td>\n",
       "      <td>0.000</td>\n",
       "      <td>0.000</td>\n",
       "      <td>0.000</td>\n",
       "      <td>-0.001</td>\n",
       "      <td>-0.001</td>\n",
       "      <td>0.000</td>\n",
       "      <td>0.000</td>\n",
       "      <td>0.005</td>\n",
       "      <td>0.0</td>\n",
       "    </tr>\n",
       "  </tbody>\n",
       "</table>\n",
       "<p>5 rows × 30 columns</p>\n",
       "</div>"
      ],
      "text/plain": [
       "   Time  TTC1  TTC2  TTC3    TTC4      DTO1   DTO2   DTO3      DTO4  JERK1  \\\n",
       "0   3.0  50.0  50.0  50.0  50.000   16.6264  100.0  100.0  100.0000  0.004   \n",
       "1   4.0  50.0  50.0  50.0  50.000  100.0000  100.0  100.0  100.0000  0.661   \n",
       "2   5.0  50.0  50.0  50.0  50.000  100.0000  100.0  100.0  100.0000  4.117   \n",
       "3   6.0  50.0  50.0  50.0  50.000  100.0000  100.0  100.0  100.0000  0.865   \n",
       "4   7.0  50.0  50.0  50.0   5.322  100.0000  100.0  100.0   83.3296  3.704   \n",
       "\n",
       "   ...   asX4   asY1   asY2   asY3   asY4   asZ1   asZ2   asZ3   asZ4  COL  \n",
       "0  ...  0.000  0.000 -0.000 -0.001 -0.001  0.000  0.006  0.001  0.000  0.0  \n",
       "1  ... -0.001 -0.000 -0.001 -0.001  0.000  0.006  0.001  0.000 -0.001  0.0  \n",
       "2  ... -0.000 -0.001 -0.001  0.000  0.000  0.001  0.000 -0.001  0.000  0.0  \n",
       "3  ...  0.000 -0.001  0.000  0.000  0.000  0.000 -0.001  0.000  0.000  0.0  \n",
       "4  ...  0.004  0.000  0.000  0.000 -0.001 -0.001  0.000  0.000  0.005  0.0  \n",
       "\n",
       "[5 rows x 30 columns]"
      ]
     },
     "execution_count": 15,
     "metadata": {},
     "output_type": "execute_result"
    }
   ],
   "source": [
    "df = makeDataUsable(read_csv(\"../data/generatedData.csv\"), PI, RBC)\n",
    "print(df.shape)\n",
    "df.head()"
   ]
  },
  {
   "cell_type": "code",
   "execution_count": 16,
   "metadata": {},
   "outputs": [
    {
     "data": {
      "text/plain": [
       "COL\n",
       "0.0    3458\n",
       "1.0     492\n",
       "Name: count, dtype: int64"
      ]
     },
     "execution_count": 16,
     "metadata": {},
     "output_type": "execute_result"
    }
   ],
   "source": [
    "df[\"COL\"].value_counts()"
   ]
  },
  {
   "cell_type": "code",
   "execution_count": 17,
   "metadata": {},
   "outputs": [],
   "source": [
    "sampleSize = int(len(df[df['COL'] == 1]) * 1.05)\n",
    "df = pd.concat([df[df[\"COL\"] == False].sample(sampleSize, random_state=1), df[df[\"COL\"] == True]])"
   ]
  },
  {
   "cell_type": "code",
   "execution_count": 18,
   "metadata": {},
   "outputs": [
    {
     "name": "stdout",
     "output_type": "stream",
     "text": [
      "Splitting at 806, total rows: 1008\n"
     ]
    }
   ],
   "source": [
    "data = df.copy().drop(columns=df.columns[0], axis=1)\n",
    "trainX, trainY, testX, testY = splitTrainTest(data)"
   ]
  },
  {
   "cell_type": "code",
   "execution_count": 19,
   "metadata": {},
   "outputs": [
    {
     "data": {
      "text/html": [
       "<div>\n",
       "<style scoped>\n",
       "    .dataframe tbody tr th:only-of-type {\n",
       "        vertical-align: middle;\n",
       "    }\n",
       "\n",
       "    .dataframe tbody tr th {\n",
       "        vertical-align: top;\n",
       "    }\n",
       "\n",
       "    .dataframe thead th {\n",
       "        text-align: right;\n",
       "    }\n",
       "</style>\n",
       "<table border=\"1\" class=\"dataframe\">\n",
       "  <thead>\n",
       "    <tr style=\"text-align: right;\">\n",
       "      <th></th>\n",
       "      <th>TTC1</th>\n",
       "      <th>TTC2</th>\n",
       "      <th>TTC3</th>\n",
       "      <th>TTC4</th>\n",
       "      <th>DTO1</th>\n",
       "      <th>DTO2</th>\n",
       "      <th>DTO3</th>\n",
       "      <th>DTO4</th>\n",
       "      <th>JERK1</th>\n",
       "      <th>JERK2</th>\n",
       "      <th>...</th>\n",
       "      <th>asX3</th>\n",
       "      <th>asX4</th>\n",
       "      <th>asY1</th>\n",
       "      <th>asY2</th>\n",
       "      <th>asY3</th>\n",
       "      <th>asY4</th>\n",
       "      <th>asZ1</th>\n",
       "      <th>asZ2</th>\n",
       "      <th>asZ3</th>\n",
       "      <th>asZ4</th>\n",
       "    </tr>\n",
       "  </thead>\n",
       "  <tbody>\n",
       "    <tr>\n",
       "      <th>3534</th>\n",
       "      <td>50.000</td>\n",
       "      <td>50.0</td>\n",
       "      <td>2.244</td>\n",
       "      <td>1.911</td>\n",
       "      <td>73.3941</td>\n",
       "      <td>16.2252</td>\n",
       "      <td>13.1836</td>\n",
       "      <td>10.4597</td>\n",
       "      <td>0.476</td>\n",
       "      <td>5.264</td>\n",
       "      <td>...</td>\n",
       "      <td>-0.003</td>\n",
       "      <td>-0.004</td>\n",
       "      <td>-0.0</td>\n",
       "      <td>-0.017</td>\n",
       "      <td>-0.229</td>\n",
       "      <td>-0.000</td>\n",
       "      <td>0.012</td>\n",
       "      <td>-0.022</td>\n",
       "      <td>0.01</td>\n",
       "      <td>0.004</td>\n",
       "    </tr>\n",
       "    <tr>\n",
       "      <th>3575</th>\n",
       "      <td>50.000</td>\n",
       "      <td>50.0</td>\n",
       "      <td>50.000</td>\n",
       "      <td>0.256</td>\n",
       "      <td>34.7847</td>\n",
       "      <td>100.0000</td>\n",
       "      <td>30.5879</td>\n",
       "      <td>10.3737</td>\n",
       "      <td>0.096</td>\n",
       "      <td>0.012</td>\n",
       "      <td>...</td>\n",
       "      <td>-0.000</td>\n",
       "      <td>0.000</td>\n",
       "      <td>-0.0</td>\n",
       "      <td>0.000</td>\n",
       "      <td>0.000</td>\n",
       "      <td>0.000</td>\n",
       "      <td>0.005</td>\n",
       "      <td>0.000</td>\n",
       "      <td>0.00</td>\n",
       "      <td>-0.000</td>\n",
       "    </tr>\n",
       "    <tr>\n",
       "      <th>411</th>\n",
       "      <td>22.961</td>\n",
       "      <td>50.0</td>\n",
       "      <td>13.351</td>\n",
       "      <td>50.000</td>\n",
       "      <td>42.6613</td>\n",
       "      <td>59.3565</td>\n",
       "      <td>55.2873</td>\n",
       "      <td>100.0000</td>\n",
       "      <td>0.386</td>\n",
       "      <td>0.006</td>\n",
       "      <td>...</td>\n",
       "      <td>-0.000</td>\n",
       "      <td>-0.027</td>\n",
       "      <td>0.0</td>\n",
       "      <td>0.000</td>\n",
       "      <td>0.000</td>\n",
       "      <td>-0.134</td>\n",
       "      <td>-0.000</td>\n",
       "      <td>-0.000</td>\n",
       "      <td>0.00</td>\n",
       "      <td>0.011</td>\n",
       "    </tr>\n",
       "  </tbody>\n",
       "</table>\n",
       "<p>3 rows × 28 columns</p>\n",
       "</div>"
      ],
      "text/plain": [
       "        TTC1  TTC2    TTC3    TTC4     DTO1      DTO2     DTO3      DTO4  \\\n",
       "3534  50.000  50.0   2.244   1.911  73.3941   16.2252  13.1836   10.4597   \n",
       "3575  50.000  50.0  50.000   0.256  34.7847  100.0000  30.5879   10.3737   \n",
       "411   22.961  50.0  13.351  50.000  42.6613   59.3565  55.2873  100.0000   \n",
       "\n",
       "      JERK1  JERK2  ...   asX3   asX4  asY1   asY2   asY3   asY4   asZ1  \\\n",
       "3534  0.476  5.264  ... -0.003 -0.004  -0.0 -0.017 -0.229 -0.000  0.012   \n",
       "3575  0.096  0.012  ... -0.000  0.000  -0.0  0.000  0.000  0.000  0.005   \n",
       "411   0.386  0.006  ... -0.000 -0.027   0.0  0.000  0.000 -0.134 -0.000   \n",
       "\n",
       "       asZ2  asZ3   asZ4  \n",
       "3534 -0.022  0.01  0.004  \n",
       "3575  0.000  0.00 -0.000  \n",
       "411  -0.000  0.00  0.011  \n",
       "\n",
       "[3 rows x 28 columns]"
      ]
     },
     "execution_count": 19,
     "metadata": {},
     "output_type": "execute_result"
    }
   ],
   "source": [
    "trainX.head(3)"
   ]
  },
  {
   "attachments": {},
   "cell_type": "markdown",
   "metadata": {},
   "source": [
    "## Model"
   ]
  },
  {
   "cell_type": "code",
   "execution_count": 20,
   "metadata": {},
   "outputs": [],
   "source": [
    "from sklearn.metrics import accuracy_score, precision_score, recall_score, f1_score, confusion_matrix, roc_curve, auc\n",
    "from sklearn.ensemble import RandomForestClassifier\n",
    "from sklearn.svm import SVC\n",
    "from xgboost import XGBClassifier"
   ]
  },
  {
   "attachments": {},
   "cell_type": "markdown",
   "metadata": {},
   "source": [
    "### MLP Classifier"
   ]
  },
  {
   "cell_type": "code",
   "execution_count": 21,
   "metadata": {},
   "outputs": [
    {
     "name": "stdout",
     "output_type": "stream",
     "text": [
      "Scaler is fitted\n"
     ]
    }
   ],
   "source": [
    "mlp_clf = NewPredicter()\n",
    "mlp_trainX = mlp_clf.preProcess(trainX.copy())\n",
    "mlp_testX = mlp_clf.preProcess(testX.copy())\n",
    "\n",
    "mlp_trainY, mlp_testY = trainY.to_numpy(), testY.to_numpy()\n",
    "\n",
    "mlp_clf.fit(mlp_trainX, mlp_trainY)"
   ]
  },
  {
   "cell_type": "code",
   "execution_count": 22,
   "metadata": {},
   "outputs": [
    {
     "name": "stdout",
     "output_type": "stream",
     "text": [
      "Total: 202, Collisions: 82\n",
      "Accuracy: 0.7574257425742574, Precision: 0.6666666666666666, Recall: 0.8048780487804879, F1: 0.7292817679558011\n",
      "Confusion matrix:\n",
      "[[87 33]\n",
      " [16 66]]\n"
     ]
    }
   ],
   "source": [
    "mlp_pred = mlp_clf.predict(mlp_testX)\n",
    "mlp_score = mlp_clf.getScore(mlp_pred, mlp_testY)"
   ]
  },
  {
   "cell_type": "code",
   "execution_count": 23,
   "metadata": {},
   "outputs": [],
   "source": [
    "mlp_fpr, mlp_tpr, mlp_thresholds = roc_curve(mlp_testY, mlp_pred)\n",
    "mlp_roc_auc = auc(mlp_fpr, mlp_tpr)"
   ]
  },
  {
   "cell_type": "code",
   "execution_count": 24,
   "metadata": {},
   "outputs": [],
   "source": [
    "model_score = f\"{mlp_score[0][0]}-{mlp_score[0][1]}-{mlp_score[1][0]}-{mlp_score[1][1]}\"\n",
    "\n",
    "if SAVE_MODELS:\n",
    "    mlp_clf.saveModel(f\"MLPClassifier_{MODEL_PREFIX}_PI{PI}_RBC{RBC}\", accuracy=model_score)"
   ]
  },
  {
   "attachments": {},
   "cell_type": "markdown",
   "metadata": {},
   "source": [
    "### Random Forest Classifier"
   ]
  },
  {
   "cell_type": "code",
   "execution_count": 25,
   "metadata": {},
   "outputs": [
    {
     "name": "stdout",
     "output_type": "stream",
     "text": [
      "Scaler is fitted\n"
     ]
    }
   ],
   "source": [
    "rf_clf = NewPredicter(RandomForestClassifier(n_estimators=100, max_depth=10, random_state=1))\n",
    "rf_trainX = rf_clf.preProcess(trainX.copy())\n",
    "rf_testX = rf_clf.preProcess(testX.copy())\n",
    "\n",
    "rf_trainY, rf_testY = trainY.to_numpy(), testY.to_numpy()\n",
    "\n",
    "rf_clf.fit(rf_trainX, rf_trainY)"
   ]
  },
  {
   "cell_type": "code",
   "execution_count": 26,
   "metadata": {},
   "outputs": [
    {
     "name": "stdout",
     "output_type": "stream",
     "text": [
      "Total: 202, Collisions: 84\n",
      "Accuracy: 0.7475247524752475, Precision: 0.6666666666666666, Recall: 0.7857142857142857, F1: 0.721311475409836\n",
      "Confusion matrix:\n",
      "[[85 33]\n",
      " [18 66]]\n"
     ]
    }
   ],
   "source": [
    "rf_pred = rf_clf.predict(rf_testX)\n",
    "rf_score = rf_clf.getScore(rf_pred, rf_testY)"
   ]
  },
  {
   "cell_type": "code",
   "execution_count": 27,
   "metadata": {},
   "outputs": [],
   "source": [
    "rf_fpr, rf_tpr, rf_thresholds = roc_curve(rf_testY, rf_pred)\n",
    "rf_roc_auc = auc(rf_fpr, rf_tpr)"
   ]
  },
  {
   "cell_type": "code",
   "execution_count": 28,
   "metadata": {},
   "outputs": [],
   "source": [
    "model_score = f\"{rf_score[0][0]}-{rf_score[0][1]}-{rf_score[1][0]}-{rf_score[1][1]}\"\n",
    "\n",
    "if SAVE_MODELS:\n",
    "    rf_clf.saveModel(f\"RandomForestClassifier_{MODEL_PREFIX}_PI{PI}_RBC{RBC}\", accuracy=model_score)"
   ]
  },
  {
   "attachments": {},
   "cell_type": "markdown",
   "metadata": {},
   "source": [
    "### SVM Classifier"
   ]
  },
  {
   "cell_type": "code",
   "execution_count": 29,
   "metadata": {},
   "outputs": [
    {
     "name": "stdout",
     "output_type": "stream",
     "text": [
      "Scaler is fitted\n"
     ]
    }
   ],
   "source": [
    "svm_clf = NewPredicter(SVC(random_state=1))\n",
    "svm_trainX = svm_clf.preProcess(trainX.copy())\n",
    "svm_testX = svm_clf.preProcess(testX.copy())\n",
    "\n",
    "svm_trainY, svm_testY = trainY.to_numpy(), testY.to_numpy()\n",
    "\n",
    "svm_clf.fit(svm_trainX, svm_trainY)"
   ]
  },
  {
   "cell_type": "code",
   "execution_count": 30,
   "metadata": {},
   "outputs": [
    {
     "name": "stdout",
     "output_type": "stream",
     "text": [
      "Total: 202, Collisions: 83\n",
      "Accuracy: 0.7623762376237624, Precision: 0.6767676767676768, Recall: 0.8072289156626506, F1: 0.7362637362637363\n",
      "Confusion matrix:\n",
      "[[87 32]\n",
      " [16 67]]\n"
     ]
    }
   ],
   "source": [
    "svm_pred = svm_clf.predict(svm_testX)\n",
    "svm_score = svm_clf.getScore(svm_pred, svm_testY)"
   ]
  },
  {
   "cell_type": "code",
   "execution_count": 31,
   "metadata": {},
   "outputs": [],
   "source": [
    "svm_fpr, svm_tpr, svm_thresholds = roc_curve(svm_testY, svm_pred)\n",
    "svm_roc_auc = auc(svm_fpr, svm_tpr)"
   ]
  },
  {
   "cell_type": "code",
   "execution_count": 32,
   "metadata": {},
   "outputs": [],
   "source": [
    "model_score = f\"{svm_score[0][0]}-{svm_score[0][1]}-{svm_score[1][0]}-{svm_score[1][1]}\"\n",
    "\n",
    "if SAVE_MODELS:\n",
    "    svm_clf.saveModel(f\"SVC_{MODEL_PREFIX}_PI{PI}_RBC{RBC}\", accuracy=model_score)"
   ]
  },
  {
   "attachments": {},
   "cell_type": "markdown",
   "metadata": {},
   "source": [
    "### XGBoost Classifier"
   ]
  },
  {
   "cell_type": "code",
   "execution_count": 33,
   "metadata": {},
   "outputs": [
    {
     "name": "stdout",
     "output_type": "stream",
     "text": [
      "Scaler is fitted\n"
     ]
    }
   ],
   "source": [
    "xgb_clf = NewPredicter(XGBClassifier(n_estimators=100, random_state=1))\n",
    "xgb_trainX = xgb_clf.preProcess(trainX.copy())\n",
    "xgb_testX = xgb_clf.preProcess(testX.copy())\n",
    "\n",
    "xgb_trainY, xgb_testY = trainY.to_numpy(), testY.to_numpy()"
   ]
  },
  {
   "cell_type": "code",
   "execution_count": 34,
   "metadata": {},
   "outputs": [],
   "source": [
    "xgb_clf.fit(xgb_trainX, xgb_trainY)"
   ]
  },
  {
   "cell_type": "code",
   "execution_count": 35,
   "metadata": {},
   "outputs": [
    {
     "name": "stdout",
     "output_type": "stream",
     "text": [
      "Total: 202, Collisions: 99\n",
      "Accuracy: 0.7425742574257426, Precision: 0.7640449438202247, Recall: 0.6868686868686869, F1: 0.7234042553191489\n",
      "Confusion matrix:\n",
      "[[82 21]\n",
      " [31 68]]\n"
     ]
    }
   ],
   "source": [
    "xgb_pred = xgb_clf.predict(xgb_testX)\n",
    "xgb_score = xgb_clf.getScore(xgb_testY, xgb_pred)"
   ]
  },
  {
   "cell_type": "code",
   "execution_count": 36,
   "metadata": {},
   "outputs": [],
   "source": [
    "xgb_fpr, xgb_tpr, xgb_thresholds = roc_curve(xgb_testY, xgb_pred)\n",
    "xgb_roc_auc = auc(xgb_fpr, xgb_tpr)"
   ]
  },
  {
   "cell_type": "code",
   "execution_count": 37,
   "metadata": {},
   "outputs": [],
   "source": [
    "# model_score = f\"{score[0][0]}-{score[0][1]}-{score[1][0]}-{score[1][1]}\"\n",
    "model_score = f\"{xgb_score[0][0]}-{xgb_score[0][1]}-{xgb_score[1][0]}-{xgb_score[1][1]}\"\n",
    "\n",
    "if SAVE_MODELS:\n",
    "    xgb_clf.saveModel(f\"XGBClassifier_{MODEL_PREFIX}_PI{PI}_RBC{RBC}\", accuracy=model_score)"
   ]
  },
  {
   "attachments": {},
   "cell_type": "markdown",
   "metadata": {},
   "source": [
    "---"
   ]
  },
  {
   "cell_type": "code",
   "execution_count": 40,
   "metadata": {},
   "outputs": [
    {
     "data": {
      "image/png": "[encoded data removed]",
      "text/plain": [
       "<Figure size 700x500 with 1 Axes>"
      ]
     },
     "metadata": {},
     "output_type": "display_data"
    }
   ],
   "source": [
    "plt.figure(figsize=(7, 5))\n",
    "plt.plot(mlp_fpr, mlp_tpr, label=f\"MLP (area = {mlp_roc_auc:.2f})\", linestyle=\"dashed\")\n",
    "plt.plot(rf_fpr, rf_tpr, label=f\"Random Forest (area = {rf_roc_auc:.2f})\", linestyle=\"dashed\")\n",
    "plt.plot(svm_fpr, svm_tpr, label=f\"SVM (area = {svm_roc_auc:.2f})\", linestyle=\"dashed\")\n",
    "plt.plot(xgb_fpr, xgb_tpr, label=f\"XGBoost (area = {xgb_roc_auc:.2f})\", linestyle=\"dashed\")\n",
    "plt.plot([0, 1], [0, 1], \"k--\")\n",
    "plt.xlim([0.0, 1.0])\n",
    "plt.ylim([0.0, 1.05])\n",
    "plt.xlabel(\"False Positive Rate\")\n",
    "plt.ylabel(\"True Positive Rate\")\n",
    "plt.title(f\"ROC - Self-Generated Data Models\")\n",
    "plt.legend(loc=\"lower right\")\n",
    "plt.show()"
   ]
  }
 ],
 "metadata": {
  "kernelspec": {
   "display_name": "MasterThesis",
   "language": "python",
   "name": "python3"
  },
  "language_info": {
   "codemirror_mode": {
    "name": "ipython",
    "version": 3
   },
   "file_extension": ".py",
   "mimetype": "text/x-python",
   "name": "python",
   "nbconvert_exporter": "python",
   "pygments_lexer": "ipython3",
   "version": "3.10.0"
  },
  "orig_nbformat": 4,
  "vscode": {
   "interpreter": {
    "hash": "3c48bd5dd36c77358fcda3a70586f476a14f05f0339d3dc1a8b2380bfb5f1c8c"
   }
  }
 },
 "nbformat": 4,
 "nbformat_minor": 2
}
