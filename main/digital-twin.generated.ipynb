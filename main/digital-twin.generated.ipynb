{
 "cells": [
  {
   "cell_type": "code",
   "execution_count": 8,
   "metadata": {},
   "outputs": [],
   "source": [
    "import matplotlib.pyplot as plt\n",
    "import numpy as np\n",
    "import pandas as pd\n",
    "from pandas import DataFrame, read_csv\n",
    "\n",
    "from ML.DTGenerated import DTGenerated\n",
    "import pickle"
   ]
  },
  {
   "cell_type": "code",
   "execution_count": 9,
   "metadata": {},
   "outputs": [],
   "source": [
    "from generateTestingData.useGeneratedData import makeDataUsable, splitTrainTest, NewPredicter"
   ]
  },
  {
   "cell_type": "code",
   "execution_count": 10,
   "metadata": {},
   "outputs": [],
   "source": [
    "MODEL_PREFIX = \"gen\"\n",
    "PI = 4 # past importance\n",
    "RBC = 5 # rows before col"
   ]
  },
  {
   "cell_type": "code",
   "execution_count": 7,
   "metadata": {},
   "outputs": [
    {
     "name": "stdout",
     "output_type": "stream",
     "text": [
      "(3950, 30)\n"
     ]
    },
    {
     "data": {
      "text/html": [
       "<div>\n",
       "<style scoped>\n",
       "    .dataframe tbody tr th:only-of-type {\n",
       "        vertical-align: middle;\n",
       "    }\n",
       "\n",
       "    .dataframe tbody tr th {\n",
       "        vertical-align: top;\n",
       "    }\n",
       "\n",
       "    .dataframe thead th {\n",
       "        text-align: right;\n",
       "    }\n",
       "</style>\n",
       "<table border=\"1\" class=\"dataframe\">\n",
       "  <thead>\n",
       "    <tr style=\"text-align: right;\">\n",
       "      <th></th>\n",
       "      <th>Time</th>\n",
       "      <th>TTC1</th>\n",
       "      <th>TTC2</th>\n",
       "      <th>TTC3</th>\n",
       "      <th>TTC4</th>\n",
       "      <th>DTO1</th>\n",
       "      <th>DTO2</th>\n",
       "      <th>DTO3</th>\n",
       "      <th>DTO4</th>\n",
       "      <th>JERK1</th>\n",
       "      <th>...</th>\n",
       "      <th>asX4</th>\n",
       "      <th>asY1</th>\n",
       "      <th>asY2</th>\n",
       "      <th>asY3</th>\n",
       "      <th>asY4</th>\n",
       "      <th>asZ1</th>\n",
       "      <th>asZ2</th>\n",
       "      <th>asZ3</th>\n",
       "      <th>asZ4</th>\n",
       "      <th>COL</th>\n",
       "    </tr>\n",
       "  </thead>\n",
       "  <tbody>\n",
       "    <tr>\n",
       "      <th>0</th>\n",
       "      <td>3.0</td>\n",
       "      <td>50.0</td>\n",
       "      <td>50.0</td>\n",
       "      <td>50.0</td>\n",
       "      <td>50.000</td>\n",
       "      <td>16.6264</td>\n",
       "      <td>100.0</td>\n",
       "      <td>100.0</td>\n",
       "      <td>100.0000</td>\n",
       "      <td>0.004</td>\n",
       "      <td>...</td>\n",
       "      <td>0.000</td>\n",
       "      <td>0.000</td>\n",
       "      <td>-0.000</td>\n",
       "      <td>-0.001</td>\n",
       "      <td>-0.001</td>\n",
       "      <td>0.000</td>\n",
       "      <td>0.006</td>\n",
       "      <td>0.001</td>\n",
       "      <td>0.000</td>\n",
       "      <td>0.0</td>\n",
       "    </tr>\n",
       "    <tr>\n",
       "      <th>1</th>\n",
       "      <td>4.0</td>\n",
       "      <td>50.0</td>\n",
       "      <td>50.0</td>\n",
       "      <td>50.0</td>\n",
       "      <td>50.000</td>\n",
       "      <td>100.0000</td>\n",
       "      <td>100.0</td>\n",
       "      <td>100.0</td>\n",
       "      <td>100.0000</td>\n",
       "      <td>0.661</td>\n",
       "      <td>...</td>\n",
       "      <td>-0.001</td>\n",
       "      <td>-0.000</td>\n",
       "      <td>-0.001</td>\n",
       "      <td>-0.001</td>\n",
       "      <td>0.000</td>\n",
       "      <td>0.006</td>\n",
       "      <td>0.001</td>\n",
       "      <td>0.000</td>\n",
       "      <td>-0.001</td>\n",
       "      <td>0.0</td>\n",
       "    </tr>\n",
       "    <tr>\n",
       "      <th>2</th>\n",
       "      <td>5.0</td>\n",
       "      <td>50.0</td>\n",
       "      <td>50.0</td>\n",
       "      <td>50.0</td>\n",
       "      <td>50.000</td>\n",
       "      <td>100.0000</td>\n",
       "      <td>100.0</td>\n",
       "      <td>100.0</td>\n",
       "      <td>100.0000</td>\n",
       "      <td>4.117</td>\n",
       "      <td>...</td>\n",
       "      <td>-0.000</td>\n",
       "      <td>-0.001</td>\n",
       "      <td>-0.001</td>\n",
       "      <td>0.000</td>\n",
       "      <td>0.000</td>\n",
       "      <td>0.001</td>\n",
       "      <td>0.000</td>\n",
       "      <td>-0.001</td>\n",
       "      <td>0.000</td>\n",
       "      <td>0.0</td>\n",
       "    </tr>\n",
       "    <tr>\n",
       "      <th>3</th>\n",
       "      <td>6.0</td>\n",
       "      <td>50.0</td>\n",
       "      <td>50.0</td>\n",
       "      <td>50.0</td>\n",
       "      <td>50.000</td>\n",
       "      <td>100.0000</td>\n",
       "      <td>100.0</td>\n",
       "      <td>100.0</td>\n",
       "      <td>100.0000</td>\n",
       "      <td>0.865</td>\n",
       "      <td>...</td>\n",
       "      <td>0.000</td>\n",
       "      <td>-0.001</td>\n",
       "      <td>0.000</td>\n",
       "      <td>0.000</td>\n",
       "      <td>0.000</td>\n",
       "      <td>0.000</td>\n",
       "      <td>-0.001</td>\n",
       "      <td>0.000</td>\n",
       "      <td>0.000</td>\n",
       "      <td>0.0</td>\n",
       "    </tr>\n",
       "    <tr>\n",
       "      <th>4</th>\n",
       "      <td>7.0</td>\n",
       "      <td>50.0</td>\n",
       "      <td>50.0</td>\n",
       "      <td>50.0</td>\n",
       "      <td>5.322</td>\n",
       "      <td>100.0000</td>\n",
       "      <td>100.0</td>\n",
       "      <td>100.0</td>\n",
       "      <td>83.3296</td>\n",
       "      <td>3.704</td>\n",
       "      <td>...</td>\n",
       "      <td>0.004</td>\n",
       "      <td>0.000</td>\n",
       "      <td>0.000</td>\n",
       "      <td>0.000</td>\n",
       "      <td>-0.001</td>\n",
       "      <td>-0.001</td>\n",
       "      <td>0.000</td>\n",
       "      <td>0.000</td>\n",
       "      <td>0.005</td>\n",
       "      <td>0.0</td>\n",
       "    </tr>\n",
       "  </tbody>\n",
       "</table>\n",
       "<p>5 rows × 30 columns</p>\n",
       "</div>"
      ],
      "text/plain": [
       "   Time  TTC1  TTC2  TTC3    TTC4      DTO1   DTO2   DTO3      DTO4  JERK1  \\\n",
       "0   3.0  50.0  50.0  50.0  50.000   16.6264  100.0  100.0  100.0000  0.004   \n",
       "1   4.0  50.0  50.0  50.0  50.000  100.0000  100.0  100.0  100.0000  0.661   \n",
       "2   5.0  50.0  50.0  50.0  50.000  100.0000  100.0  100.0  100.0000  4.117   \n",
       "3   6.0  50.0  50.0  50.0  50.000  100.0000  100.0  100.0  100.0000  0.865   \n",
       "4   7.0  50.0  50.0  50.0   5.322  100.0000  100.0  100.0   83.3296  3.704   \n",
       "\n",
       "   ...   asX4   asY1   asY2   asY3   asY4   asZ1   asZ2   asZ3   asZ4  COL  \n",
       "0  ...  0.000  0.000 -0.000 -0.001 -0.001  0.000  0.006  0.001  0.000  0.0  \n",
       "1  ... -0.001 -0.000 -0.001 -0.001  0.000  0.006  0.001  0.000 -0.001  0.0  \n",
       "2  ... -0.000 -0.001 -0.001  0.000  0.000  0.001  0.000 -0.001  0.000  0.0  \n",
       "3  ...  0.000 -0.001  0.000  0.000  0.000  0.000 -0.001  0.000  0.000  0.0  \n",
       "4  ...  0.004  0.000  0.000  0.000 -0.001 -0.001  0.000  0.000  0.005  0.0  \n",
       "\n",
       "[5 rows x 30 columns]"
      ]
     },
     "execution_count": 7,
     "metadata": {},
     "output_type": "execute_result"
    }
   ],
   "source": [
    "df = makeDataUsable(read_csv(\"../data/generatedData.csv\"), PI, RBC)\n",
    "print(df.shape)\n",
    "df.head()"
   ]
  },
  {
   "cell_type": "code",
   "execution_count": 11,
   "metadata": {},
   "outputs": [
    {
     "data": {
      "text/plain": [
       "0.0    3458\n",
       "1.0     492\n",
       "Name: COL, dtype: int64"
      ]
     },
     "execution_count": 11,
     "metadata": {},
     "output_type": "execute_result"
    }
   ],
   "source": [
    "df[\"COL\"].value_counts()"
   ]
  },
  {
   "cell_type": "code",
   "execution_count": 12,
   "metadata": {},
   "outputs": [],
   "source": [
    "\n",
    "# sampleSize = int(len(data[data['COL'] == 1]) * undersampleRatio)\n",
    "# print(\"Undersampling\")\n",
    "# data = concat([data[data[\"COL\"] == 0].sample(sampleSize, random_state=1), data[data[\"COL\"] == True]])"
   ]
  },
  {
   "attachments": {},
   "cell_type": "markdown",
   "metadata": {},
   "source": [
    "TODO: need to either get more crash data or keep undersample below"
   ]
  },
  {
   "cell_type": "code",
   "execution_count": 13,
   "metadata": {},
   "outputs": [],
   "source": [
    "df = pd.concat([df[df[\"COL\"] == False].sample(500, random_state=1), df[df[\"COL\"] == True]])"
   ]
  },
  {
   "cell_type": "code",
   "execution_count": 14,
   "metadata": {},
   "outputs": [
    {
     "name": "stdout",
     "output_type": "stream",
     "text": [
      "Splitting at 793, total rows: 992\n"
     ]
    }
   ],
   "source": [
    "data = df.copy().drop(columns=df.columns[0], axis=1)\n",
    "trainX, trainY, testX, testY = splitTrainTest(data)"
   ]
  },
  {
   "cell_type": "code",
   "execution_count": 15,
   "metadata": {},
   "outputs": [
    {
     "data": {
      "text/html": [
       "<div>\n",
       "<style scoped>\n",
       "    .dataframe tbody tr th:only-of-type {\n",
       "        vertical-align: middle;\n",
       "    }\n",
       "\n",
       "    .dataframe tbody tr th {\n",
       "        vertical-align: top;\n",
       "    }\n",
       "\n",
       "    .dataframe thead th {\n",
       "        text-align: right;\n",
       "    }\n",
       "</style>\n",
       "<table border=\"1\" class=\"dataframe\">\n",
       "  <thead>\n",
       "    <tr style=\"text-align: right;\">\n",
       "      <th></th>\n",
       "      <th>TTC1</th>\n",
       "      <th>TTC2</th>\n",
       "      <th>TTC3</th>\n",
       "      <th>TTC4</th>\n",
       "      <th>DTO1</th>\n",
       "      <th>DTO2</th>\n",
       "      <th>DTO3</th>\n",
       "      <th>DTO4</th>\n",
       "      <th>JERK1</th>\n",
       "      <th>JERK2</th>\n",
       "      <th>...</th>\n",
       "      <th>asX3</th>\n",
       "      <th>asX4</th>\n",
       "      <th>asY1</th>\n",
       "      <th>asY2</th>\n",
       "      <th>asY3</th>\n",
       "      <th>asY4</th>\n",
       "      <th>asZ1</th>\n",
       "      <th>asZ2</th>\n",
       "      <th>asZ3</th>\n",
       "      <th>asZ4</th>\n",
       "    </tr>\n",
       "  </thead>\n",
       "  <tbody>\n",
       "    <tr>\n",
       "      <th>1302</th>\n",
       "      <td>50.000</td>\n",
       "      <td>50.000</td>\n",
       "      <td>50.000</td>\n",
       "      <td>50.000</td>\n",
       "      <td>6.1382</td>\n",
       "      <td>6.9333</td>\n",
       "      <td>8.1275</td>\n",
       "      <td>9.6133</td>\n",
       "      <td>0.099</td>\n",
       "      <td>0.035</td>\n",
       "      <td>...</td>\n",
       "      <td>0.0</td>\n",
       "      <td>0.003</td>\n",
       "      <td>0.0</td>\n",
       "      <td>-0.207</td>\n",
       "      <td>0.088</td>\n",
       "      <td>0.013</td>\n",
       "      <td>-0.0</td>\n",
       "      <td>0.036</td>\n",
       "      <td>-0.0</td>\n",
       "      <td>-0.003</td>\n",
       "    </tr>\n",
       "    <tr>\n",
       "      <th>2365</th>\n",
       "      <td>50.000</td>\n",
       "      <td>50.000</td>\n",
       "      <td>50.000</td>\n",
       "      <td>50.000</td>\n",
       "      <td>1.7815</td>\n",
       "      <td>3.1742</td>\n",
       "      <td>4.5489</td>\n",
       "      <td>5.8832</td>\n",
       "      <td>19.134</td>\n",
       "      <td>1.000</td>\n",
       "      <td>...</td>\n",
       "      <td>0.0</td>\n",
       "      <td>-0.000</td>\n",
       "      <td>-0.0</td>\n",
       "      <td>-0.000</td>\n",
       "      <td>-0.000</td>\n",
       "      <td>-0.000</td>\n",
       "      <td>-0.0</td>\n",
       "      <td>-0.000</td>\n",
       "      <td>0.0</td>\n",
       "      <td>0.000</td>\n",
       "    </tr>\n",
       "    <tr>\n",
       "      <th>2641</th>\n",
       "      <td>8.398</td>\n",
       "      <td>8.551</td>\n",
       "      <td>8.794</td>\n",
       "      <td>9.336</td>\n",
       "      <td>20.0793</td>\n",
       "      <td>19.0091</td>\n",
       "      <td>18.0272</td>\n",
       "      <td>17.1499</td>\n",
       "      <td>0.000</td>\n",
       "      <td>0.024</td>\n",
       "      <td>...</td>\n",
       "      <td>-0.0</td>\n",
       "      <td>-0.002</td>\n",
       "      <td>0.0</td>\n",
       "      <td>0.000</td>\n",
       "      <td>-0.023</td>\n",
       "      <td>-0.000</td>\n",
       "      <td>-0.0</td>\n",
       "      <td>-0.000</td>\n",
       "      <td>0.0</td>\n",
       "      <td>0.002</td>\n",
       "    </tr>\n",
       "  </tbody>\n",
       "</table>\n",
       "<p>3 rows × 28 columns</p>\n",
       "</div>"
      ],
      "text/plain": [
       "        TTC1    TTC2    TTC3    TTC4     DTO1     DTO2     DTO3     DTO4  \\\n",
       "1302  50.000  50.000  50.000  50.000   6.1382   6.9333   8.1275   9.6133   \n",
       "2365  50.000  50.000  50.000  50.000   1.7815   3.1742   4.5489   5.8832   \n",
       "2641   8.398   8.551   8.794   9.336  20.0793  19.0091  18.0272  17.1499   \n",
       "\n",
       "       JERK1  JERK2  ...  asX3   asX4  asY1   asY2   asY3   asY4  asZ1   asZ2  \\\n",
       "1302   0.099  0.035  ...   0.0  0.003   0.0 -0.207  0.088  0.013  -0.0  0.036   \n",
       "2365  19.134  1.000  ...   0.0 -0.000  -0.0 -0.000 -0.000 -0.000  -0.0 -0.000   \n",
       "2641   0.000  0.024  ...  -0.0 -0.002   0.0  0.000 -0.023 -0.000  -0.0 -0.000   \n",
       "\n",
       "      asZ3   asZ4  \n",
       "1302  -0.0 -0.003  \n",
       "2365   0.0  0.000  \n",
       "2641   0.0  0.002  \n",
       "\n",
       "[3 rows x 28 columns]"
      ]
     },
     "execution_count": 15,
     "metadata": {},
     "output_type": "execute_result"
    }
   ],
   "source": [
    "trainX.head(3)"
   ]
  },
  {
   "attachments": {},
   "cell_type": "markdown",
   "metadata": {},
   "source": [
    "## Model"
   ]
  },
  {
   "cell_type": "code",
   "execution_count": 16,
   "metadata": {},
   "outputs": [],
   "source": [
    "from sklearn.metrics import accuracy_score, precision_score, recall_score, f1_score, confusion_matrix\n",
    "from sklearn.ensemble import RandomForestClassifier\n",
    "from sklearn.svm import SVC\n",
    "from xgboost import XGBClassifier"
   ]
  },
  {
   "attachments": {},
   "cell_type": "markdown",
   "metadata": {},
   "source": [
    "### MLP Classifier"
   ]
  },
  {
   "cell_type": "code",
   "execution_count": 17,
   "metadata": {},
   "outputs": [
    {
     "name": "stdout",
     "output_type": "stream",
     "text": [
      "Scaler is fitted\n"
     ]
    },
    {
     "name": "stderr",
     "output_type": "stream",
     "text": [
      "c:\\Users\\Sigurd\\AppData\\Local\\Programs\\Python\\Python39\\lib\\site-packages\\sklearn\\neural_network\\_multilayer_perceptron.py:686: ConvergenceWarning: Stochastic Optimizer: Maximum iterations (1000) reached and the optimization hasn't converged yet.\n",
      "  warnings.warn(\n"
     ]
    }
   ],
   "source": [
    "mlp_clf = NewPredicter()\n",
    "mlp_trainX = mlp_clf.preProcess(trainX.copy())\n",
    "mlp_testX = mlp_clf.preProcess(testX.copy())\n",
    "\n",
    "mlp_trainY, mlp_testY = trainY.to_numpy(), testY.to_numpy()\n",
    "\n",
    "mlp_clf.fit(mlp_trainX, mlp_trainY)"
   ]
  },
  {
   "cell_type": "code",
   "execution_count": 18,
   "metadata": {},
   "outputs": [
    {
     "name": "stdout",
     "output_type": "stream",
     "text": [
      "Total: 199, Collisions: 90\n",
      "Accuracy: 0.7185929648241206, Precision: 0.6666666666666666, Recall: 0.7555555555555555, F1: 0.7083333333333334\n",
      "Confusion matrix:\n",
      "[[75 34]\n",
      " [22 68]]\n"
     ]
    }
   ],
   "source": [
    "mlp_pred = mlp_clf.predict(mlp_testX)\n",
    "mlp_score = mlp_clf.getScore(mlp_pred, mlp_testY)"
   ]
  },
  {
   "cell_type": "code",
   "execution_count": 19,
   "metadata": {},
   "outputs": [
    {
     "name": "stdout",
     "output_type": "stream",
     "text": [
      "Model saved!\n"
     ]
    }
   ],
   "source": [
    "model_score = f\"{mlp_score[0][0]}-{mlp_score[0][1]}-{mlp_score[1][0]}-{mlp_score[1][1]}\"\n",
    "mlp_clf.saveModel(f\"MLPClassifier_{MODEL_PREFIX}_PI{PI}_RBC{RBC}\", accuracy=model_score)"
   ]
  },
  {
   "attachments": {},
   "cell_type": "markdown",
   "metadata": {},
   "source": [
    "### Random Forest Classifier"
   ]
  },
  {
   "cell_type": "code",
   "execution_count": 20,
   "metadata": {},
   "outputs": [
    {
     "name": "stdout",
     "output_type": "stream",
     "text": [
      "Scaler is fitted\n"
     ]
    }
   ],
   "source": [
    "rf_clf = NewPredicter(RandomForestClassifier(n_estimators=100, max_depth=10, random_state=1))\n",
    "rf_trainX = rf_clf.preProcess(trainX.copy())\n",
    "rf_testX = rf_clf.preProcess(testX.copy())\n",
    "\n",
    "rf_trainY, rf_testY = trainY.to_numpy(), testY.to_numpy()\n",
    "\n",
    "rf_clf.fit(rf_trainX, rf_trainY)"
   ]
  },
  {
   "cell_type": "code",
   "execution_count": 21,
   "metadata": {},
   "outputs": [
    {
     "name": "stdout",
     "output_type": "stream",
     "text": [
      "Total: 199, Collisions: 83\n",
      "Accuracy: 0.7537688442211056, Precision: 0.6666666666666666, Recall: 0.8192771084337349, F1: 0.7351351351351351\n",
      "Confusion matrix:\n",
      "[[82 34]\n",
      " [15 68]]\n"
     ]
    }
   ],
   "source": [
    "rf_pred = rf_clf.predict(rf_testX)\n",
    "rf_score = rf_clf.getScore(rf_pred, rf_testY)"
   ]
  },
  {
   "cell_type": "code",
   "execution_count": 22,
   "metadata": {},
   "outputs": [
    {
     "name": "stdout",
     "output_type": "stream",
     "text": [
      "Model saved!\n"
     ]
    }
   ],
   "source": [
    "model_score = f\"{rf_score[0][0]}-{rf_score[0][1]}-{rf_score[1][0]}-{rf_score[1][1]}\"\n",
    "rf_clf.saveModel(f\"RandomForestClassifier_{MODEL_PREFIX}_PI{PI}_RBC{RBC}\", accuracy=model_score)"
   ]
  },
  {
   "attachments": {},
   "cell_type": "markdown",
   "metadata": {},
   "source": [
    "### SVM Classifier"
   ]
  },
  {
   "cell_type": "code",
   "execution_count": 23,
   "metadata": {},
   "outputs": [
    {
     "name": "stdout",
     "output_type": "stream",
     "text": [
      "Scaler is fitted\n"
     ]
    }
   ],
   "source": [
    "svm_clf = NewPredicter(SVC(random_state=1))\n",
    "svm_trainX = svm_clf.preProcess(trainX.copy())\n",
    "svm_testX = svm_clf.preProcess(testX.copy())\n",
    "\n",
    "svm_trainY, svm_testY = trainY.to_numpy(), testY.to_numpy()\n",
    "\n",
    "svm_clf.fit(svm_trainX, svm_trainY)"
   ]
  },
  {
   "cell_type": "code",
   "execution_count": 24,
   "metadata": {},
   "outputs": [
    {
     "name": "stdout",
     "output_type": "stream",
     "text": [
      "Total: 199, Collisions: 79\n",
      "Accuracy: 0.7336683417085427, Precision: 0.6274509803921569, Recall: 0.810126582278481, F1: 0.7071823204419889\n",
      "Confusion matrix:\n",
      "[[82 38]\n",
      " [15 64]]\n"
     ]
    }
   ],
   "source": [
    "svm_pred = svm_clf.predict(svm_testX)\n",
    "svm_score = svm_clf.getScore(svm_pred, svm_testY)"
   ]
  },
  {
   "cell_type": "code",
   "execution_count": 25,
   "metadata": {},
   "outputs": [
    {
     "name": "stdout",
     "output_type": "stream",
     "text": [
      "Model saved!\n"
     ]
    }
   ],
   "source": [
    "model_score = f\"{svm_score[0][0]}-{svm_score[0][1]}-{svm_score[1][0]}-{svm_score[1][1]}\"\n",
    "svm_clf.saveModel(f\"SVC_{MODEL_PREFIX}_PI{PI}_RBC{RBC}\", accuracy=model_score)"
   ]
  },
  {
   "attachments": {},
   "cell_type": "markdown",
   "metadata": {},
   "source": [
    "### XGBoost Classifier"
   ]
  },
  {
   "cell_type": "code",
   "execution_count": 26,
   "metadata": {},
   "outputs": [
    {
     "name": "stdout",
     "output_type": "stream",
     "text": [
      "Scaler is fitted\n"
     ]
    }
   ],
   "source": [
    "xgb_clf = NewPredicter(XGBClassifier(n_estimators=100, random_state=1))\n",
    "xgb_trainX = xgb_clf.preProcess(trainX.copy())\n",
    "xgb_testX = xgb_clf.preProcess(testX.copy())\n",
    "\n",
    "xgb_trainY, xgb_testY = trainY.to_numpy(), testY.to_numpy()"
   ]
  },
  {
   "cell_type": "code",
   "execution_count": 27,
   "metadata": {},
   "outputs": [],
   "source": [
    "xgb_clf.fit(xgb_trainX, xgb_trainY)"
   ]
  },
  {
   "cell_type": "code",
   "execution_count": 28,
   "metadata": {},
   "outputs": [
    {
     "name": "stdout",
     "output_type": "stream",
     "text": [
      "Total: 199, Collisions: 102\n",
      "Accuracy: 0.7889447236180904, Precision: 0.8333333333333334, Recall: 0.7352941176470589, F1: 0.78125\n",
      "Confusion matrix:\n",
      "[[82 15]\n",
      " [27 75]]\n"
     ]
    }
   ],
   "source": [
    "len(xgb_testX[0])\n",
    "xgb_pred = xgb_clf.predict(xgb_testX)\n",
    "xgb_score = xgb_clf.getScore(xgb_testY, xgb_pred)"
   ]
  },
  {
   "attachments": {},
   "cell_type": "markdown",
   "metadata": {},
   "source": [
    "TODO - need more data, what is radar?"
   ]
  },
  {
   "cell_type": "code",
   "execution_count": 29,
   "metadata": {},
   "outputs": [
    {
     "name": "stdout",
     "output_type": "stream",
     "text": [
      "Model saved!\n"
     ]
    }
   ],
   "source": [
    "# model_score = f\"{score[0][0]}-{score[0][1]}-{score[1][0]}-{score[1][1]}\"\n",
    "model_score = f\"{xgb_score[0][0]}-{xgb_score[0][1]}-{xgb_score[1][0]}-{xgb_score[1][1]}\"\n",
    "xgb_clf.saveModel(f\"XGBClassifier_{MODEL_PREFIX}_PI{PI}_RBC{RBC}\", accuracy=model_score)"
   ]
  }
 ],
 "metadata": {
  "kernelspec": {
   "display_name": "Python 3.9.16 ('MasterThesis')",
   "language": "python",
   "name": "python3"
  },
  "language_info": {
   "codemirror_mode": {
    "name": "ipython",
    "version": 3
   },
   "file_extension": ".py",
   "mimetype": "text/x-python",
   "name": "python",
   "nbconvert_exporter": "python",
   "pygments_lexer": "ipython3",
   "version": "3.9.1"
  },
  "orig_nbformat": 4,
  "vscode": {
   "interpreter": {
    "hash": "5ea953018f845277ff9327bc0467e81b58a68076ce0c385be95779bfd3460f16"
   }
  }
 },
 "nbformat": 4,
 "nbformat_minor": 2
}
