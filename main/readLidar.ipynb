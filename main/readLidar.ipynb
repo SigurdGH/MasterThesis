{
 "cells": [
  {
   "cell_type": "code",
   "execution_count": 1,
   "metadata": {},
   "outputs": [
    {
     "name": "stdout",
     "output_type": "stream",
     "text": [
      "Jupyter environment detected. Enabling Open3D WebVisualizer.\n",
      "[Open3D INFO] WebRTC GUI backend enabled.\n",
      "[Open3D INFO] WebRTCWindowSystem: HTTP handshake server disabled.\n"
     ]
    }
   ],
   "source": [
    "import numpy as np\n",
    "import open3d as o3d\n",
    "import matplotlib.pyplot as plt"
   ]
  },
  {
   "cell_type": "code",
   "execution_count": 1,
   "metadata": {},
   "outputs": [],
   "source": [
    "# with open(\"../data/lidar.pcd\", \"rb\") as f:\n",
    "#     byte = f.read(1)\n",
    "#     while byte != b\"\":\n",
    "#         # Do stuff with byte.\n",
    "#         byte = f.read(1)\n",
    "#         print(byte)\n",
    "\n"
   ]
  },
  {
   "attachments": {},
   "cell_type": "markdown",
   "metadata": {},
   "source": [
    "Data from the lidar sensor:\n",
    "* min_distance: 0.5\n",
    "* max_distance: 100\n",
    "* rays: 32\n",
    "* rotations: 10    \n",
    "* measurements: 360    \n",
    "* fov: 41.3300018310547\n",
    "* angle: 10\n",
    "* compensated: True "
   ]
  },
  {
   "attachments": {},
   "cell_type": "markdown",
   "metadata": {},
   "source": [
    "### Load the point cloud"
   ]
  },
  {
   "cell_type": "code",
   "execution_count": 2,
   "metadata": {},
   "outputs": [
    {
     "name": "stdout",
     "output_type": "stream",
     "text": [
      "PointCloud with 11145 points.\n",
      "[[-1.97735310e+00  5.76935463e-06 -1.17242849e+00]\n",
      " [-1.97728515e+00  3.45212743e-02 -1.17256761e+00]\n",
      " [-1.97640276e+00  6.90236911e-02 -1.17257905e+00]\n",
      " ...\n",
      " [-3.62439728e+01 -3.17092109e+00  6.00578737e+00]\n",
      " [-3.59373322e+01 -2.51295590e+00  5.94680309e+00]\n",
      " [-3.52411079e+01 -1.23063064e+00  5.82093382e+00]]\n"
     ]
    }
   ],
   "source": [
    "pcd = o3d.io.read_point_cloud(\"../data/lidar.pcd\")\n",
    "print(pcd)\n",
    "arr = np.asarray(pcd.points)\n",
    "print(arr)\n",
    "# o3d.visualization.draw_geometries([pcd])"
   ]
  },
  {
   "cell_type": "code",
   "execution_count": 26,
   "metadata": {},
   "outputs": [
    {
     "name": "stdout",
     "output_type": "stream",
     "text": [
      "std::vector<Eigen::Vector3d> with 361 elements.\n",
      "Use numpy.asarray() to access data.\n"
     ]
    }
   ],
   "source": [
    "pc = o3d.geometry.PointCloud()\n",
    "pc.points = o3d.utility.Vector3dVector(arr[:1*369])\n",
    "print(pc.points)"
   ]
  },
  {
   "attachments": {},
   "cell_type": "markdown",
   "metadata": {},
   "source": [
    "### Visualizing"
   ]
  },
  {
   "cell_type": "code",
   "execution_count": 27,
   "metadata": {},
   "outputs": [],
   "source": [
    "o3d.visualization.draw_geometries([pc])"
   ]
  },
  {
   "cell_type": "code",
   "execution_count": 5,
   "metadata": {},
   "outputs": [],
   "source": [
    "# Something about normals? \n",
    "# See http://www.open3d.org/docs/0.7.0/tutorial/Basic/pointcloud.html#vertex-normal-estimation\n",
    "pc.estimate_normals(search_param=o3d.geometry.KDTreeSearchParamHybrid(radius=0.1, max_nn=10))\n",
    "o3d.visualization.draw_geometries([pc], point_show_normal=True)"
   ]
  },
  {
   "attachments": {},
   "cell_type": "markdown",
   "metadata": {},
   "source": [
    "### Only keep points that are within a certain distance\n",
    "Seems like the distance is not calculated in meters..."
   ]
  },
  {
   "cell_type": "code",
   "execution_count": 6,
   "metadata": {},
   "outputs": [
    {
     "name": "stdout",
     "output_type": "stream",
     "text": [
      "8951\n"
     ]
    }
   ],
   "source": [
    "mdis = pcd.compute_mahalanobis_distance() # Mahalanobis distance to each point from center\n",
    "approvedPoints = np.array([])\n",
    "for point, dis in zip(arr, mdis):\n",
    "    if (dis > 2 and dis < 10) or dis < 1:\n",
    "        if len(approvedPoints) < 1:\n",
    "            approvedPoints = np.array([point])\n",
    "        else:\n",
    "            approvedPoints = np.vstack([approvedPoints, point])\n",
    "print(len(approvedPoints))"
   ]
  },
  {
   "cell_type": "code",
   "execution_count": 7,
   "metadata": {},
   "outputs": [
    {
     "data": {
      "text/plain": [
       "0.4576711708063753"
      ]
     },
     "execution_count": 7,
     "metadata": {},
     "output_type": "execute_result"
    }
   ],
   "source": [
    "np.average(mdis[:360])"
   ]
  },
  {
   "cell_type": "code",
   "execution_count": 8,
   "metadata": {},
   "outputs": [],
   "source": [
    "# Visualization of new point cloud\n",
    "newCloud = o3d.geometry.PointCloud()\n",
    "newCloud.points = o3d.utility.Vector3dVector(approvedPoints)\n",
    "o3d.visualization.draw_geometries([newCloud])"
   ]
  },
  {
   "attachments": {},
   "cell_type": "markdown",
   "metadata": {},
   "source": [
    "## Annet"
   ]
  },
  {
   "cell_type": "code",
   "execution_count": 3,
   "metadata": {},
   "outputs": [
    {
     "data": {
      "text/plain": [
       "0.4180552444391524"
      ]
     },
     "execution_count": 3,
     "metadata": {},
     "output_type": "execute_result"
    }
   ],
   "source": [
    "dv = pcd.compute_nearest_neighbor_distance()\n",
    "np.average(dv)"
   ]
  },
  {
   "cell_type": "code",
   "execution_count": 4,
   "metadata": {},
   "outputs": [
    {
     "name": "stdout",
     "output_type": "stream",
     "text": [
      "Downsample the point cloud with a voxel of 0.05\n"
     ]
    }
   ],
   "source": [
    "print(\"Downsample the point cloud with a voxel of 0.05\")\n",
    "downpcd = pcd.voxel_down_sample(voxel_size=0.01)\n",
    "o3d.visualization.draw_geometries([downpcd])\n"
   ]
  },
  {
   "cell_type": "code",
   "execution_count": 5,
   "metadata": {},
   "outputs": [
    {
     "name": "stdout",
     "output_type": "stream",
     "text": [
      "Recompute the normal of the downsampled point cloud\n"
     ]
    }
   ],
   "source": [
    "\n",
    "print(\"Recompute the normal of the downsampled point cloud\")\n",
    "downpcd.estimate_normals(search_param=o3d.geometry.KDTreeSearchParamHybrid(radius=0.1, max_nn=30))\n",
    "o3d.visualization.draw_geometries([downpcd])\n"
   ]
  },
  {
   "attachments": {},
   "cell_type": "markdown",
   "metadata": {},
   "source": [
    "compute_mahalanobis_distance\n",
    "\n",
    "crop(...)\n",
    " |      crop(*args, **kwargs)\n",
    " |      Overloaded function.\n",
    " |      \n",
    " |      \n",
    " |      1. crop(self, bounding_box)\n",
    " |          Function to crop input pointcloud into output pointcloud\n",
    " |      \n",
    " |      Args:\n",
    " |          bounding_box (open3d.geometry.AxisAlignedBoundingBox): AxisAlignedBoundingBox to crop points\n",
    " |      \n",
    " |      Returns:\n",
    " |          open3d.geometry.PointCloud\n",
    " |      \n",
    " |      2. crop(self, bounding_box)\n",
    " |          Function to crop input pointcloud into output pointcloud\n",
    " |      \n",
    " |      Args:\n",
    " |          bounding_box (open3d.geometry.OrientedBoundingBox): AxisAlignedBoundingBox to crop points\n",
    " |      \n",
    " |      Returns:\n",
    " |          open3d.geometry.PointCloud"
   ]
  },
  {
   "cell_type": "code",
   "execution_count": 32,
   "metadata": {},
   "outputs": [
    {
     "name": "stdout",
     "output_type": "stream",
     "text": [
      "[-1.97735310e+00  5.76935463e-06 -1.17242849e+00]\n",
      "DoubleVector[0.133173, 0.133377, 0.133546, 0.13378, 0.133993, 0.134278, 0.134648, 0.135216, 0.135857, 0.136596, 0.137606, 0.138855, 0.140122, 0.141674, 0.143354, 0.145004, 0.146977, 0.538194, 0.538089, 0.53798]\n"
     ]
    }
   ],
   "source": [
    "# help(downpcd)\n",
    "mdis = pcd.compute_mahalanobis_distance()\n",
    "print(np.asarray(pcd.points)[0])\n",
    "print((mdis[0:20]))\n"
   ]
  },
  {
   "cell_type": "code",
   "execution_count": 35,
   "metadata": {},
   "outputs": [
    {
     "name": "stdout",
     "output_type": "stream",
     "text": [
      "Print a normal vector of the 0th point\n",
      "[0. 0. 1.]\n",
      "Print the normal vectors of the first 10 points\n",
      "[[ 0.00000000e+00  0.00000000e+00  1.00000000e+00]\n",
      " [ 8.22327732e-01  8.39817724e-02 -5.62782518e-01]\n",
      " [-1.29269318e-03  4.20271100e-04 -9.99999076e-01]\n",
      " [ 0.00000000e+00  0.00000000e+00  1.00000000e+00]\n",
      " [ 0.00000000e+00  0.00000000e+00  1.00000000e+00]\n",
      " [ 0.00000000e+00  0.00000000e+00  1.00000000e+00]\n",
      " [-7.19252606e-02 -1.67461594e-06 -9.97410024e-01]\n",
      " [ 0.00000000e+00  0.00000000e+00  1.00000000e+00]\n",
      " [-3.36616127e-04 -1.33513029e-02 -9.99910811e-01]\n",
      " [-5.83226912e-03  1.02075167e-02 -9.99930893e-01]]\n",
      "\n"
     ]
    }
   ],
   "source": [
    "\n",
    "print(\"Print a normal vector of the 0th point\")\n",
    "print(downpcd.normals[0])\n",
    "print(\"Print the normal vectors of the first 10 points\")\n",
    "print(np.asarray(downpcd.normals)[:10, :])\n",
    "print(\"\")\n"
   ]
  },
  {
   "cell_type": "code",
   "execution_count": 47,
   "metadata": {},
   "outputs": [
    {
     "data": {
      "text/plain": [
       "(array([-1.37772025, -0.46522382, -0.80105595]),\n",
       " array([[442.5370421 , -20.33351605,  -8.24120481],\n",
       "        [-20.33351605, 442.45936844,  -3.82447938],\n",
       "        [ -8.24120481,  -3.82447938,   8.87620334]]))"
      ]
     },
     "execution_count": 47,
     "metadata": {},
     "output_type": "execute_result"
    }
   ],
   "source": [
    "# plt.imshow(np.asarray(downpcd.RGBDImage))\n",
    "downpcd.compute_mean_and_covariance()"
   ]
  },
  {
   "cell_type": "code",
   "execution_count": 133,
   "metadata": {},
   "outputs": [],
   "source": [
    "downpcd.estimate_normals(search_param=o3d.geometry.KDTreeSearchParamHybrid(radius=0.1, max_nn=30))\n",
    "o3d.visualization.draw_geometries([downpcd], point_show_normal=True)"
   ]
  },
  {
   "cell_type": "code",
   "execution_count": 33,
   "metadata": {},
   "outputs": [
    {
     "ename": "TypeError",
     "evalue": "'open3d.cpu.pybind.geometry.PointCloud' object is not subscriptable",
     "output_type": "error",
     "traceback": [
      "\u001b[1;31m---------------------------------------------------------------------------\u001b[0m",
      "\u001b[1;31mTypeError\u001b[0m                                 Traceback (most recent call last)",
      "\u001b[1;32m~\\AppData\\Local\\Temp/ipykernel_10660/2689669541.py\u001b[0m in \u001b[0;36m<module>\u001b[1;34m\u001b[0m\n\u001b[1;32m----> 1\u001b[1;33m \u001b[0mdownpcd\u001b[0m\u001b[1;33m[\u001b[0m\u001b[1;33m:\u001b[0m\u001b[1;36m300\u001b[0m\u001b[1;33m]\u001b[0m\u001b[1;33m\u001b[0m\u001b[1;33m\u001b[0m\u001b[0m\n\u001b[0m",
      "\u001b[1;31mTypeError\u001b[0m: 'open3d.cpu.pybind.geometry.PointCloud' object is not subscriptable"
     ]
    }
   ],
   "source": [
    "downpcd[:300]"
   ]
  }
 ],
 "metadata": {
  "kernelspec": {
   "display_name": "Python 3",
   "language": "python",
   "name": "python3"
  },
  "language_info": {
   "codemirror_mode": {
    "name": "ipython",
    "version": 3
   },
   "file_extension": ".py",
   "mimetype": "text/x-python",
   "name": "python",
   "nbconvert_exporter": "python",
   "pygments_lexer": "ipython3",
   "version": "3.9.1"
  },
  "orig_nbformat": 4
 },
 "nbformat": 4,
 "nbformat_minor": 2
}
