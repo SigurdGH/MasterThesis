{
 "cells": [
  {
   "cell_type": "code",
   "execution_count": 1,
   "metadata": {},
   "outputs": [
    {
     "name": "stdout",
     "output_type": "stream",
     "text": [
      "Jupyter environment detected. Enabling Open3D WebVisualizer.\n",
      "[Open3D INFO] WebRTC GUI backend enabled.\n",
      "[Open3D INFO] WebRTCWindowSystem: HTTP handshake server disabled.\n"
     ]
    }
   ],
   "source": [
    "import numpy as np\n",
    "import open3d as o3d\n",
    "import matplotlib.pyplot as plt"
   ]
  },
  {
   "cell_type": "code",
   "execution_count": 2,
   "metadata": {},
   "outputs": [],
   "source": [
    "# with open(\"../data/lidar.pcd\", \"rb\") as f:\n",
    "#     byte = f.read(1)\n",
    "#     while byte != b\"\":\n",
    "#         # Do stuff with byte.\n",
    "#         byte = f.read(1)\n",
    "#         print(byte)\n",
    "\n"
   ]
  },
  {
   "attachments": {},
   "cell_type": "markdown",
   "metadata": {},
   "source": [
    "Data from the lidar sensor:\n",
    "* min_distance: 0.5\n",
    "* max_distance: 100\n",
    "* rays: 32\n",
    "* rotations: 10    \n",
    "* measurements: 360    \n",
    "* fov: 41.3300018310547\n",
    "* angle: 10\n",
    "* compensated: True "
   ]
  },
  {
   "attachments": {},
   "cell_type": "markdown",
   "metadata": {},
   "source": [
    "### Load the point cloud"
   ]
  },
  {
   "cell_type": "code",
   "execution_count": 173,
   "metadata": {},
   "outputs": [
    {
     "name": "stdout",
     "output_type": "stream",
     "text": [
      "PointCloud with 11143 points.\n",
      "[[-1.97735310e+00  5.76930370e-06 -1.17242849e+00]\n",
      " [-1.97728515e+00  3.45212743e-02 -1.17256761e+00]\n",
      " [-1.97640276e+00  6.90236911e-02 -1.17257905e+00]\n",
      " ...\n",
      " [-3.62439728e+01 -3.17092109e+00  6.00578737e+00]\n",
      " [-3.59373322e+01 -2.51295590e+00  5.94680309e+00]\n",
      " [-3.52411079e+01 -1.23063064e+00  5.82093382e+00]]\n"
     ]
    }
   ],
   "source": [
    "pcd = o3d.io.read_point_cloud(\"../data/lidar2.pcd\")\n",
    "print(pcd)\n",
    "vectorList = np.asarray(pcd.points)\n",
    "print(vectorList)\n",
    "# o3d.visualization.draw_geometries([pcd])"
   ]
  },
  {
   "cell_type": "code",
   "execution_count": 144,
   "metadata": {},
   "outputs": [
    {
     "name": "stdout",
     "output_type": "stream",
     "text": [
      "std::vector<Eigen::Vector3d> with 25 elements.\n",
      "Use numpy.asarray() to access data.\n"
     ]
    }
   ],
   "source": [
    "pc = o3d.geometry.PointCloud()\n",
    "# pc.points = o3d.utility.Vector3dVector(arr[:10*360])\n",
    "pc.points = o3d.utility.Vector3dVector(vectorList[168:193])\n",
    "print(pc.points)\n",
    "# test = arr[:360*3]"
   ]
  },
  {
   "cell_type": "code",
   "execution_count": 98,
   "metadata": {},
   "outputs": [],
   "source": [
    "# test = np.arange(0, 1080)\n",
    "test = vectorList[0:1080]"
   ]
  },
  {
   "attachments": {},
   "cell_type": "markdown",
   "metadata": {},
   "source": [
    " ### Keeps only the points right in front of the vehicle"
   ]
  },
  {
   "cell_type": "code",
   "execution_count": 170,
   "metadata": {},
   "outputs": [],
   "source": [
    "window = 20\n",
    "mid = 180\n",
    "size = 360*20\n",
    "indexes = np.arange(size)\n",
    "\n",
    "\n",
    "def keep(index):\n",
    "    if index % 360 >= mid-window and index % 360 <= mid+window:\n",
    "        return True\n",
    "    else:\n",
    "        return False\n",
    "\n",
    "# t = np.array([x for (x, i) in zip(arr[:size], indexes) if keep(i)])\n",
    "infront = np.array([x for (x, i) in zip(vectorList[:size], indexes) if i % 360 >= mid-window and i % 360 <= mid+window])\n",
    "len(infront)\n",
    "# test[]\n",
    "# print(np.vstack([[0,0,0],  infront]))\n",
    "\n",
    "# NOTE [front|behind, left|right, up|down], right hand system, x, y, z\n",
    "# infront = np.vstack([[-2,0,-2],[-1,0,-1],[0,0,0],[1,0,1],[2,0,2],  infront]) # Added origo to point cloud\n",
    "# infront = np.vstack([[0,0,0], [0,0,-2.31],  infront])\n",
    "infrontCloud = o3d.geometry.PointCloud()\n",
    "infrontCloud.points = o3d.utility.Vector3dVector(infront)"
   ]
  },
  {
   "cell_type": "code",
   "execution_count": 171,
   "metadata": {},
   "outputs": [],
   "source": [
    "o3d.visualization.draw_geometries([infrontCloud])"
   ]
  },
  {
   "cell_type": "code",
   "execution_count": 167,
   "metadata": {},
   "outputs": [
    {
     "name": "stdout",
     "output_type": "stream",
     "text": [
      "[[ 0.    0.    0.  ]\n",
      " [ 2.16  0.   -1.28]\n",
      " [ 2.33  0.   -1.31]\n",
      " [ 4.33  0.   -2.31]\n",
      " [ 4.57  0.   -2.31]\n",
      " [ 4.84  0.   -2.31]\n",
      " [ 5.14  0.   -2.31]\n",
      " [ 5.46  0.   -2.31]\n",
      " [ 5.83  0.   -2.31]\n",
      " [ 6.23  0.   -2.31]\n",
      " [ 6.69  0.   -2.31]\n",
      " [ 7.21  0.   -2.31]\n",
      " [ 7.82  0.   -2.31]\n",
      " [ 8.52  0.   -2.31]\n",
      " [ 9.35  0.   -2.31]\n",
      " [ 8.1   0.   -1.81]\n",
      " [ 8.11  0.   -1.62]\n",
      " [ 8.14 -0.14 -1.44]\n",
      " [ 8.18 -0.29 -1.25]\n",
      " [ 8.89 -0.31 -1.16]\n",
      " [ 9.44 -0.49 -1.01]]\n"
     ]
    }
   ],
   "source": [
    "print(np.round(infront[:], 2))"
   ]
  },
  {
   "cell_type": "code",
   "execution_count": 152,
   "metadata": {},
   "outputs": [
    {
     "name": "stdout",
     "output_type": "stream",
     "text": [
      "8.1\n",
      "10.43\n"
     ]
    }
   ],
   "source": [
    "frontOfVehicle = np.round(infront[1][0], 2)\n",
    "\n",
    "for x, y, z in np.round(infront[3:], 2):\n",
    "    # print(x, y, z)\n",
    "    if z > -2.3:\n",
    "        print(x)\n",
    "        print(x + frontOfVehicle)\n",
    "        break"
   ]
  },
  {
   "cell_type": "code",
   "execution_count": 108,
   "metadata": {},
   "outputs": [],
   "source": [
    "distances = infrontCloud.compute_mahalanobis_distance() # Mahalanobis distance to each point from center\n",
    "# approvedPoints = np.array([])\n",
    "# for point, dis in zip(infront, distances):\n",
    "#     if (dis > 2 and dis < 10) or dis < 1:\n",
    "#         if len(approvedPoints) < 1:\n",
    "#             approvedPoints = np.array([point])\n",
    "#         else:\n",
    "#             approvedPoints = np.vstack([approvedPoints, point])\n",
    "# print(len(approvedPoints))"
   ]
  },
  {
   "cell_type": "code",
   "execution_count": 109,
   "metadata": {},
   "outputs": [
    {
     "data": {
      "text/plain": [
       "DoubleVector[3.82202, 1.81903, 1.49692, 1.21212, 1.56673, 1.84884, 1.20578, 1.18331, 1.46058, 1.40839, 1.10234, 1.63076, 0.492814, 0.855643, 0.805753, 0.511464, 1.5531, 1.59855, 1.62028, 2.55861, 2.93765]"
      ]
     },
     "execution_count": 109,
     "metadata": {},
     "output_type": "execute_result"
    }
   ],
   "source": [
    "distances"
   ]
  },
  {
   "attachments": {},
   "cell_type": "markdown",
   "metadata": {},
   "source": [
    "### Visualizing"
   ]
  },
  {
   "cell_type": "code",
   "execution_count": 157,
   "metadata": {},
   "outputs": [],
   "source": [
    "o3d.visualization.draw_geometries([pc])"
   ]
  },
  {
   "cell_type": "code",
   "execution_count": 6,
   "metadata": {},
   "outputs": [],
   "source": [
    "# Something about normals? \n",
    "# See http://www.open3d.org/docs/0.7.0/tutorial/Basic/pointcloud.html#vertex-normal-estimation\n",
    "pc.estimate_normals(search_param=o3d.geometry.KDTreeSearchParamHybrid(radius=0.1, max_nn=10))\n",
    "o3d.visualization.draw_geometries([pc], point_show_normal=True)"
   ]
  },
  {
   "attachments": {},
   "cell_type": "markdown",
   "metadata": {},
   "source": [
    "### Only keep points that are within a certain distance\n",
    "Seems like the distance is not calculated in meters..."
   ]
  },
  {
   "cell_type": "code",
   "execution_count": 7,
   "metadata": {},
   "outputs": [
    {
     "name": "stdout",
     "output_type": "stream",
     "text": [
      "9141\n"
     ]
    }
   ],
   "source": [
    "mdis = pcd.compute_mahalanobis_distance() # Mahalanobis distance to each point from center\n",
    "approvedPoints = np.array([])\n",
    "for point, dis in zip(arr, mdis):\n",
    "    if (dis > 2 and dis < 10) or dis < 1:\n",
    "        if len(approvedPoints) < 1:\n",
    "            approvedPoints = np.array([point])\n",
    "        else:\n",
    "            approvedPoints = np.vstack([approvedPoints, point])\n",
    "print(len(approvedPoints))"
   ]
  },
  {
   "cell_type": "code",
   "execution_count": 7,
   "metadata": {},
   "outputs": [
    {
     "data": {
      "text/plain": [
       "0.4576711708063753"
      ]
     },
     "execution_count": 7,
     "metadata": {},
     "output_type": "execute_result"
    }
   ],
   "source": [
    "np.average(mdis[:360])"
   ]
  },
  {
   "cell_type": "code",
   "execution_count": 8,
   "metadata": {},
   "outputs": [],
   "source": [
    "# Visualization of new point cloud\n",
    "newCloud = o3d.geometry.PointCloud()\n",
    "newCloud.points = o3d.utility.Vector3dVector(approvedPoints)\n",
    "o3d.visualization.draw_geometries([newCloud])"
   ]
  },
  {
   "attachments": {},
   "cell_type": "markdown",
   "metadata": {},
   "source": [
    "## Annet"
   ]
  },
  {
   "cell_type": "code",
   "execution_count": 3,
   "metadata": {},
   "outputs": [
    {
     "data": {
      "text/plain": [
       "0.4180552444391524"
      ]
     },
     "execution_count": 3,
     "metadata": {},
     "output_type": "execute_result"
    }
   ],
   "source": [
    "dv = pcd.compute_nearest_neighbor_distance()\n",
    "np.average(dv)"
   ]
  },
  {
   "cell_type": "code",
   "execution_count": 4,
   "metadata": {},
   "outputs": [
    {
     "name": "stdout",
     "output_type": "stream",
     "text": [
      "Downsample the point cloud with a voxel of 0.05\n"
     ]
    }
   ],
   "source": [
    "print(\"Downsample the point cloud with a voxel of 0.05\")\n",
    "downpcd = pcd.voxel_down_sample(voxel_size=0.01)\n",
    "o3d.visualization.draw_geometries([downpcd])\n"
   ]
  },
  {
   "cell_type": "code",
   "execution_count": 5,
   "metadata": {},
   "outputs": [
    {
     "name": "stdout",
     "output_type": "stream",
     "text": [
      "Recompute the normal of the downsampled point cloud\n"
     ]
    }
   ],
   "source": [
    "\n",
    "print(\"Recompute the normal of the downsampled point cloud\")\n",
    "downpcd.estimate_normals(search_param=o3d.geometry.KDTreeSearchParamHybrid(radius=0.1, max_nn=30))\n",
    "o3d.visualization.draw_geometries([downpcd])\n"
   ]
  },
  {
   "attachments": {},
   "cell_type": "markdown",
   "metadata": {},
   "source": [
    "compute_mahalanobis_distance\n",
    "\n",
    "crop(...)\n",
    " |      crop(*args, **kwargs)\n",
    " |      Overloaded function.\n",
    " |      \n",
    " |      \n",
    " |      1. crop(self, bounding_box)\n",
    " |          Function to crop input pointcloud into output pointcloud\n",
    " |      \n",
    " |      Args:\n",
    " |          bounding_box (open3d.geometry.AxisAlignedBoundingBox): AxisAlignedBoundingBox to crop points\n",
    " |      \n",
    " |      Returns:\n",
    " |          open3d.geometry.PointCloud\n",
    " |      \n",
    " |      2. crop(self, bounding_box)\n",
    " |          Function to crop input pointcloud into output pointcloud\n",
    " |      \n",
    " |      Args:\n",
    " |          bounding_box (open3d.geometry.OrientedBoundingBox): AxisAlignedBoundingBox to crop points\n",
    " |      \n",
    " |      Returns:\n",
    " |          open3d.geometry.PointCloud"
   ]
  },
  {
   "cell_type": "code",
   "execution_count": 32,
   "metadata": {},
   "outputs": [
    {
     "name": "stdout",
     "output_type": "stream",
     "text": [
      "[-1.97735310e+00  5.76935463e-06 -1.17242849e+00]\n",
      "DoubleVector[0.133173, 0.133377, 0.133546, 0.13378, 0.133993, 0.134278, 0.134648, 0.135216, 0.135857, 0.136596, 0.137606, 0.138855, 0.140122, 0.141674, 0.143354, 0.145004, 0.146977, 0.538194, 0.538089, 0.53798]\n"
     ]
    }
   ],
   "source": [
    "# help(downpcd)\n",
    "mdis = pcd.compute_mahalanobis_distance()\n",
    "print(np.asarray(pcd.points)[0])\n",
    "print((mdis[0:20]))\n"
   ]
  },
  {
   "cell_type": "code",
   "execution_count": 35,
   "metadata": {},
   "outputs": [
    {
     "name": "stdout",
     "output_type": "stream",
     "text": [
      "Print a normal vector of the 0th point\n",
      "[0. 0. 1.]\n",
      "Print the normal vectors of the first 10 points\n",
      "[[ 0.00000000e+00  0.00000000e+00  1.00000000e+00]\n",
      " [ 8.22327732e-01  8.39817724e-02 -5.62782518e-01]\n",
      " [-1.29269318e-03  4.20271100e-04 -9.99999076e-01]\n",
      " [ 0.00000000e+00  0.00000000e+00  1.00000000e+00]\n",
      " [ 0.00000000e+00  0.00000000e+00  1.00000000e+00]\n",
      " [ 0.00000000e+00  0.00000000e+00  1.00000000e+00]\n",
      " [-7.19252606e-02 -1.67461594e-06 -9.97410024e-01]\n",
      " [ 0.00000000e+00  0.00000000e+00  1.00000000e+00]\n",
      " [-3.36616127e-04 -1.33513029e-02 -9.99910811e-01]\n",
      " [-5.83226912e-03  1.02075167e-02 -9.99930893e-01]]\n",
      "\n"
     ]
    }
   ],
   "source": [
    "\n",
    "print(\"Print a normal vector of the 0th point\")\n",
    "print(downpcd.normals[0])\n",
    "print(\"Print the normal vectors of the first 10 points\")\n",
    "print(np.asarray(downpcd.normals)[:10, :])\n",
    "print(\"\")\n"
   ]
  },
  {
   "cell_type": "code",
   "execution_count": 47,
   "metadata": {},
   "outputs": [
    {
     "data": {
      "text/plain": [
       "(array([-1.37772025, -0.46522382, -0.80105595]),\n",
       " array([[442.5370421 , -20.33351605,  -8.24120481],\n",
       "        [-20.33351605, 442.45936844,  -3.82447938],\n",
       "        [ -8.24120481,  -3.82447938,   8.87620334]]))"
      ]
     },
     "execution_count": 47,
     "metadata": {},
     "output_type": "execute_result"
    }
   ],
   "source": [
    "# plt.imshow(np.asarray(downpcd.RGBDImage))\n",
    "downpcd.compute_mean_and_covariance()"
   ]
  },
  {
   "cell_type": "code",
   "execution_count": 133,
   "metadata": {},
   "outputs": [],
   "source": [
    "downpcd.estimate_normals(search_param=o3d.geometry.KDTreeSearchParamHybrid(radius=0.1, max_nn=30))\n",
    "o3d.visualization.draw_geometries([downpcd], point_show_normal=True)"
   ]
  },
  {
   "cell_type": "code",
   "execution_count": 33,
   "metadata": {},
   "outputs": [
    {
     "ename": "TypeError",
     "evalue": "'open3d.cpu.pybind.geometry.PointCloud' object is not subscriptable",
     "output_type": "error",
     "traceback": [
      "\u001b[1;31m---------------------------------------------------------------------------\u001b[0m",
      "\u001b[1;31mTypeError\u001b[0m                                 Traceback (most recent call last)",
      "\u001b[1;32m~\\AppData\\Local\\Temp/ipykernel_10660/2689669541.py\u001b[0m in \u001b[0;36m<module>\u001b[1;34m\u001b[0m\n\u001b[1;32m----> 1\u001b[1;33m \u001b[0mdownpcd\u001b[0m\u001b[1;33m[\u001b[0m\u001b[1;33m:\u001b[0m\u001b[1;36m300\u001b[0m\u001b[1;33m]\u001b[0m\u001b[1;33m\u001b[0m\u001b[1;33m\u001b[0m\u001b[0m\n\u001b[0m",
      "\u001b[1;31mTypeError\u001b[0m: 'open3d.cpu.pybind.geometry.PointCloud' object is not subscriptable"
     ]
    }
   ],
   "source": [
    "downpcd[:300]"
   ]
  }
 ],
 "metadata": {
  "kernelspec": {
   "display_name": "Python 3",
   "language": "python",
   "name": "python3"
  },
  "language_info": {
   "codemirror_mode": {
    "name": "ipython",
    "version": 3
   },
   "file_extension": ".py",
   "mimetype": "text/x-python",
   "name": "python",
   "nbconvert_exporter": "python",
   "pygments_lexer": "ipython3",
   "version": "3.9.1"
  },
  "orig_nbformat": 4
 },
 "nbformat": 4,
 "nbformat_minor": 2
}
