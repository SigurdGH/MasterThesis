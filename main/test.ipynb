{
 "cells": [
  {
   "cell_type": "code",
   "execution_count": 1,
   "metadata": {},
   "outputs": [],
   "source": [
    "import matplotlib.pylab as plt\n",
    "import numpy as np\n",
    "import pandas as pd"
   ]
  },
  {
   "cell_type": "code",
   "execution_count": 2,
   "metadata": {},
   "outputs": [],
   "source": [
    "from ML.Model import Predicter\n",
    "from PreProcessing.DataManipulation import DataManipulation\n",
    "import pickle"
   ]
  },
  {
   "cell_type": "code",
   "execution_count": 3,
   "metadata": {},
   "outputs": [
    {
     "name": "stdout",
     "output_type": "stream",
     "text": [
      "<class 'pandas.core.frame.DataFrame'>\n",
      "RangeIndex: 33530 entries, 0 to 33529\n",
      "Data columns (total 13 columns):\n",
      " #   Column                         Non-Null Count  Dtype  \n",
      "---  ------                         --------------  -----  \n",
      " 0   Execution                      33530 non-null  int64  \n",
      " 1   ScenarioID                     33530 non-null  object \n",
      " 2   Configuration_API_Description  33530 non-null  object \n",
      " 3   Attribute[TTC]                 33530 non-null  float64\n",
      " 4   Attribute[DTO]                 33530 non-null  float64\n",
      " 5   Attribute[Jerk]                33530 non-null  float64\n",
      " 6   Attribute[COL]                 33530 non-null  bool   \n",
      " 7   Attribute[COLT]                33530 non-null  object \n",
      " 8   Attribute[SAC]                 33530 non-null  float64\n",
      " 9   reward                         33530 non-null  object \n",
      " 10  road                           33530 non-null  object \n",
      " 11  strategy                       33530 non-null  object \n",
      " 12  scenario                       33530 non-null  object \n",
      "dtypes: bool(1), float64(4), int64(1), object(7)\n",
      "memory usage: 3.1+ MB\n"
     ]
    }
   ],
   "source": [
    "data = pd.read_csv(\"../data/deep-scenario.csv\")\n",
    "data.info()"
   ]
  },
  {
   "cell_type": "markdown",
   "metadata": {},
   "source": [
    "## Pre Processing"
   ]
  },
  {
   "cell_type": "code",
   "execution_count": 4,
   "metadata": {},
   "outputs": [
    {
     "data": {
      "text/html": [
       "<div>\n",
       "<style scoped>\n",
       "    .dataframe tbody tr th:only-of-type {\n",
       "        vertical-align: middle;\n",
       "    }\n",
       "\n",
       "    .dataframe tbody tr th {\n",
       "        vertical-align: top;\n",
       "    }\n",
       "\n",
       "    .dataframe thead th {\n",
       "        text-align: right;\n",
       "    }\n",
       "</style>\n",
       "<table border=\"1\" class=\"dataframe\">\n",
       "  <thead>\n",
       "    <tr style=\"text-align: right;\">\n",
       "      <th></th>\n",
       "      <th>Execution</th>\n",
       "      <th>ScenarioID</th>\n",
       "      <th>Configuration_API_Description</th>\n",
       "      <th>Attribute[TTC]</th>\n",
       "      <th>Attribute[DTO]</th>\n",
       "      <th>Attribute[Jerk]</th>\n",
       "      <th>Attribute[COL]</th>\n",
       "      <th>Attribute[COLT]</th>\n",
       "      <th>Attribute[SAC]</th>\n",
       "      <th>reward</th>\n",
       "      <th>road</th>\n",
       "      <th>strategy</th>\n",
       "      <th>scenario</th>\n",
       "    </tr>\n",
       "  </thead>\n",
       "  <tbody>\n",
       "    <tr>\n",
       "      <th>0</th>\n",
       "      <td>0</td>\n",
       "      <td>0_scenario_0</td>\n",
       "      <td>A red BoxTruck is overtaking (near) the ego ve...</td>\n",
       "      <td>100000.000000</td>\n",
       "      <td>24.810964</td>\n",
       "      <td>3.48</td>\n",
       "      <td>False</td>\n",
       "      <td>None</td>\n",
       "      <td>0.0</td>\n",
       "      <td>dto</td>\n",
       "      <td>road1</td>\n",
       "      <td>greedy</td>\n",
       "      <td>rain_day</td>\n",
       "    </tr>\n",
       "    <tr>\n",
       "      <th>1</th>\n",
       "      <td>0</td>\n",
       "      <td>0_scenario_1</td>\n",
       "      <td>A skyblue SUV is driving from the opposite dir...</td>\n",
       "      <td>100000.000000</td>\n",
       "      <td>8.654072</td>\n",
       "      <td>1.04</td>\n",
       "      <td>False</td>\n",
       "      <td>None</td>\n",
       "      <td>0.0</td>\n",
       "      <td>dto</td>\n",
       "      <td>road1</td>\n",
       "      <td>greedy</td>\n",
       "      <td>rain_day</td>\n",
       "    </tr>\n",
       "    <tr>\n",
       "      <th>2</th>\n",
       "      <td>0</td>\n",
       "      <td>0_scenario_2</td>\n",
       "      <td>A skyblue BoxTruck is driving ahead (near) of ...</td>\n",
       "      <td>2.103269</td>\n",
       "      <td>10.209357</td>\n",
       "      <td>4.98</td>\n",
       "      <td>False</td>\n",
       "      <td>None</td>\n",
       "      <td>0.0</td>\n",
       "      <td>dto</td>\n",
       "      <td>road1</td>\n",
       "      <td>greedy</td>\n",
       "      <td>rain_day</td>\n",
       "    </tr>\n",
       "    <tr>\n",
       "      <th>3</th>\n",
       "      <td>0</td>\n",
       "      <td>0_scenario_3</td>\n",
       "      <td>A black SchoolBus is driving ahead (near) of t...</td>\n",
       "      <td>7.452645</td>\n",
       "      <td>17.011425</td>\n",
       "      <td>2.42</td>\n",
       "      <td>False</td>\n",
       "      <td>None</td>\n",
       "      <td>0.0</td>\n",
       "      <td>dto</td>\n",
       "      <td>road1</td>\n",
       "      <td>greedy</td>\n",
       "      <td>rain_day</td>\n",
       "    </tr>\n",
       "    <tr>\n",
       "      <th>4</th>\n",
       "      <td>0</td>\n",
       "      <td>0_scenario_4</td>\n",
       "      <td>A red Hatchback is crossing the road (far) and...</td>\n",
       "      <td>2.885993</td>\n",
       "      <td>27.858975</td>\n",
       "      <td>2.84</td>\n",
       "      <td>False</td>\n",
       "      <td>None</td>\n",
       "      <td>0.0</td>\n",
       "      <td>dto</td>\n",
       "      <td>road1</td>\n",
       "      <td>greedy</td>\n",
       "      <td>rain_day</td>\n",
       "    </tr>\n",
       "  </tbody>\n",
       "</table>\n",
       "</div>"
      ],
      "text/plain": [
       "   Execution    ScenarioID                      Configuration_API_Description  \\\n",
       "0          0  0_scenario_0  A red BoxTruck is overtaking (near) the ego ve...   \n",
       "1          0  0_scenario_1  A skyblue SUV is driving from the opposite dir...   \n",
       "2          0  0_scenario_2  A skyblue BoxTruck is driving ahead (near) of ...   \n",
       "3          0  0_scenario_3  A black SchoolBus is driving ahead (near) of t...   \n",
       "4          0  0_scenario_4  A red Hatchback is crossing the road (far) and...   \n",
       "\n",
       "   Attribute[TTC]  Attribute[DTO]  Attribute[Jerk]  Attribute[COL]  \\\n",
       "0   100000.000000       24.810964             3.48           False   \n",
       "1   100000.000000        8.654072             1.04           False   \n",
       "2        2.103269       10.209357             4.98           False   \n",
       "3        7.452645       17.011425             2.42           False   \n",
       "4        2.885993       27.858975             2.84           False   \n",
       "\n",
       "  Attribute[COLT]  Attribute[SAC] reward   road strategy  scenario  \n",
       "0            None             0.0    dto  road1   greedy  rain_day  \n",
       "1            None             0.0    dto  road1   greedy  rain_day  \n",
       "2            None             0.0    dto  road1   greedy  rain_day  \n",
       "3            None             0.0    dto  road1   greedy  rain_day  \n",
       "4            None             0.0    dto  road1   greedy  rain_day  "
      ]
     },
     "execution_count": 4,
     "metadata": {},
     "output_type": "execute_result"
    }
   ],
   "source": [
    "dm = DataManipulation(\"../data/deep-scenario.csv\")\n",
    "dm.data.head(5)"
   ]
  },
  {
   "cell_type": "code",
   "execution_count": 5,
   "metadata": {},
   "outputs": [
    {
     "data": {
      "text/html": [
       "<div>\n",
       "<style scoped>\n",
       "    .dataframe tbody tr th:only-of-type {\n",
       "        vertical-align: middle;\n",
       "    }\n",
       "\n",
       "    .dataframe tbody tr th {\n",
       "        vertical-align: top;\n",
       "    }\n",
       "\n",
       "    .dataframe thead th {\n",
       "        text-align: right;\n",
       "    }\n",
       "</style>\n",
       "<table border=\"1\" class=\"dataframe\">\n",
       "  <thead>\n",
       "    <tr style=\"text-align: right;\">\n",
       "      <th></th>\n",
       "      <th>Execution</th>\n",
       "      <th>ScenarioID</th>\n",
       "      <th>Configuration_API_Description</th>\n",
       "      <th>Attribute[TTC]</th>\n",
       "      <th>Attribute[DTO]</th>\n",
       "      <th>Attribute[Jerk]</th>\n",
       "      <th>Attribute[COL]</th>\n",
       "      <th>Attribute[COLT]</th>\n",
       "      <th>Attribute[SAC]</th>\n",
       "      <th>reward</th>\n",
       "      <th>road</th>\n",
       "      <th>strategy</th>\n",
       "      <th>scenario</th>\n",
       "      <th>speed1</th>\n",
       "      <th>speed2</th>\n",
       "      <th>speed3</th>\n",
       "      <th>speed4</th>\n",
       "      <th>speed5</th>\n",
       "      <th>speed6</th>\n",
       "    </tr>\n",
       "  </thead>\n",
       "  <tbody>\n",
       "    <tr>\n",
       "      <th>0</th>\n",
       "      <td>0</td>\n",
       "      <td>0_scenario_0</td>\n",
       "      <td>A red BoxTruck is overtaking (near) the ego ve...</td>\n",
       "      <td>100000.000000</td>\n",
       "      <td>24.810964</td>\n",
       "      <td>3.48</td>\n",
       "      <td>False</td>\n",
       "      <td>None</td>\n",
       "      <td>0.0</td>\n",
       "      <td>dto</td>\n",
       "      <td>road1</td>\n",
       "      <td>greedy</td>\n",
       "      <td>rain_day</td>\n",
       "      <td>0.250</td>\n",
       "      <td>0.049</td>\n",
       "      <td>1.932</td>\n",
       "      <td>3.753</td>\n",
       "      <td>5.989</td>\n",
       "      <td>7.349</td>\n",
       "    </tr>\n",
       "    <tr>\n",
       "      <th>1</th>\n",
       "      <td>0</td>\n",
       "      <td>0_scenario_1</td>\n",
       "      <td>A skyblue SUV is driving from the opposite dir...</td>\n",
       "      <td>100000.000000</td>\n",
       "      <td>8.654072</td>\n",
       "      <td>1.04</td>\n",
       "      <td>False</td>\n",
       "      <td>None</td>\n",
       "      <td>0.0</td>\n",
       "      <td>dto</td>\n",
       "      <td>road1</td>\n",
       "      <td>greedy</td>\n",
       "      <td>rain_day</td>\n",
       "      <td>8.287</td>\n",
       "      <td>8.410</td>\n",
       "      <td>8.767</td>\n",
       "      <td>8.871</td>\n",
       "      <td>8.998</td>\n",
       "      <td>9.143</td>\n",
       "    </tr>\n",
       "    <tr>\n",
       "      <th>2</th>\n",
       "      <td>0</td>\n",
       "      <td>0_scenario_2</td>\n",
       "      <td>A skyblue BoxTruck is driving ahead (near) of ...</td>\n",
       "      <td>2.103269</td>\n",
       "      <td>10.209357</td>\n",
       "      <td>4.98</td>\n",
       "      <td>False</td>\n",
       "      <td>None</td>\n",
       "      <td>0.0</td>\n",
       "      <td>dto</td>\n",
       "      <td>road1</td>\n",
       "      <td>greedy</td>\n",
       "      <td>rain_day</td>\n",
       "      <td>9.273</td>\n",
       "      <td>9.529</td>\n",
       "      <td>8.570</td>\n",
       "      <td>7.314</td>\n",
       "      <td>5.768</td>\n",
       "      <td>4.669</td>\n",
       "    </tr>\n",
       "    <tr>\n",
       "      <th>3</th>\n",
       "      <td>0</td>\n",
       "      <td>0_scenario_3</td>\n",
       "      <td>A black SchoolBus is driving ahead (near) of t...</td>\n",
       "      <td>7.452645</td>\n",
       "      <td>17.011425</td>\n",
       "      <td>2.42</td>\n",
       "      <td>False</td>\n",
       "      <td>None</td>\n",
       "      <td>0.0</td>\n",
       "      <td>dto</td>\n",
       "      <td>road1</td>\n",
       "      <td>greedy</td>\n",
       "      <td>rain_day</td>\n",
       "      <td>3.575</td>\n",
       "      <td>2.697</td>\n",
       "      <td>1.978</td>\n",
       "      <td>1.590</td>\n",
       "      <td>1.257</td>\n",
       "      <td>1.010</td>\n",
       "    </tr>\n",
       "    <tr>\n",
       "      <th>4</th>\n",
       "      <td>0</td>\n",
       "      <td>0_scenario_4</td>\n",
       "      <td>A red Hatchback is crossing the road (far) and...</td>\n",
       "      <td>2.885993</td>\n",
       "      <td>27.858975</td>\n",
       "      <td>2.84</td>\n",
       "      <td>False</td>\n",
       "      <td>None</td>\n",
       "      <td>0.0</td>\n",
       "      <td>dto</td>\n",
       "      <td>road1</td>\n",
       "      <td>greedy</td>\n",
       "      <td>rain_day</td>\n",
       "      <td>0.777</td>\n",
       "      <td>0.009</td>\n",
       "      <td>1.812</td>\n",
       "      <td>4.015</td>\n",
       "      <td>5.514</td>\n",
       "      <td>5.877</td>\n",
       "    </tr>\n",
       "  </tbody>\n",
       "</table>\n",
       "</div>"
      ],
      "text/plain": [
       "   Execution    ScenarioID                      Configuration_API_Description  \\\n",
       "0          0  0_scenario_0  A red BoxTruck is overtaking (near) the ego ve...   \n",
       "1          0  0_scenario_1  A skyblue SUV is driving from the opposite dir...   \n",
       "2          0  0_scenario_2  A skyblue BoxTruck is driving ahead (near) of ...   \n",
       "3          0  0_scenario_3  A black SchoolBus is driving ahead (near) of t...   \n",
       "4          0  0_scenario_4  A red Hatchback is crossing the road (far) and...   \n",
       "\n",
       "   Attribute[TTC]  Attribute[DTO]  Attribute[Jerk]  Attribute[COL]  \\\n",
       "0   100000.000000       24.810964             3.48           False   \n",
       "1   100000.000000        8.654072             1.04           False   \n",
       "2        2.103269       10.209357             4.98           False   \n",
       "3        7.452645       17.011425             2.42           False   \n",
       "4        2.885993       27.858975             2.84           False   \n",
       "\n",
       "  Attribute[COLT]  Attribute[SAC] reward   road strategy  scenario  speed1  \\\n",
       "0            None             0.0    dto  road1   greedy  rain_day   0.250   \n",
       "1            None             0.0    dto  road1   greedy  rain_day   8.287   \n",
       "2            None             0.0    dto  road1   greedy  rain_day   9.273   \n",
       "3            None             0.0    dto  road1   greedy  rain_day   3.575   \n",
       "4            None             0.0    dto  road1   greedy  rain_day   0.777   \n",
       "\n",
       "   speed2  speed3  speed4  speed5  speed6  \n",
       "0   0.049   1.932   3.753   5.989   7.349  \n",
       "1   8.410   8.767   8.871   8.998   9.143  \n",
       "2   9.529   8.570   7.314   5.768   4.669  \n",
       "3   2.697   1.978   1.590   1.257   1.010  \n",
       "4   0.009   1.812   4.015   5.514   5.877  "
      ]
     },
     "execution_count": 5,
     "metadata": {},
     "output_type": "execute_result"
    }
   ],
   "source": [
    "dm.addFromXML(\"../data/dataFromXML.csv\")\n",
    "dm.data.head(5)"
   ]
  },
  {
   "cell_type": "code",
   "execution_count": 6,
   "metadata": {},
   "outputs": [
    {
     "name": "stderr",
     "output_type": "stream",
     "text": [
      "C:\\Users\\Yohannes\\AppData\\Local\\Temp/ipykernel_14136/4175488753.py:1: FutureWarning: The default value of numeric_only in DataFrame.corr is deprecated. In a future version, it will default to False. Select only valid columns or specify the value of numeric_only to silence this warning.\n",
      "  dm.data.corr()[\"Attribute[COL]\"].plot(kind=\"bar\")\n"
     ]
    },
    {
     "data": {
      "text/plain": [
       "<AxesSubplot:>"
      ]
     },
     "execution_count": 6,
     "metadata": {},
     "output_type": "execute_result"
    },
    {
     "data": {
      "image/png": "[encoded data removed]",
      "text/plain": [
       "<Figure size 432x288 with 1 Axes>"
      ]
     },
     "metadata": {
      "needs_background": "light"
     },
     "output_type": "display_data"
    }
   ],
   "source": [
    "dm.data.corr()[\"Attribute[COL]\"].plot(kind=\"bar\")"
   ]
  },
  {
   "cell_type": "code",
   "execution_count": 7,
   "metadata": {},
   "outputs": [
    {
     "data": {
      "text/html": [
       "<div>\n",
       "<style scoped>\n",
       "    .dataframe tbody tr th:only-of-type {\n",
       "        vertical-align: middle;\n",
       "    }\n",
       "\n",
       "    .dataframe tbody tr th {\n",
       "        vertical-align: top;\n",
       "    }\n",
       "\n",
       "    .dataframe thead th {\n",
       "        text-align: right;\n",
       "    }\n",
       "</style>\n",
       "<table border=\"1\" class=\"dataframe\">\n",
       "  <thead>\n",
       "    <tr style=\"text-align: right;\">\n",
       "      <th>Attribute[COL]</th>\n",
       "      <th>False</th>\n",
       "      <th>True</th>\n",
       "    </tr>\n",
       "    <tr>\n",
       "      <th>strategy</th>\n",
       "      <th></th>\n",
       "      <th></th>\n",
       "    </tr>\n",
       "  </thead>\n",
       "  <tbody>\n",
       "    <tr>\n",
       "      <th>greedy</th>\n",
       "      <td>13070</td>\n",
       "      <td>192</td>\n",
       "    </tr>\n",
       "    <tr>\n",
       "      <th>random</th>\n",
       "      <td>13407</td>\n",
       "      <td>158</td>\n",
       "    </tr>\n",
       "    <tr>\n",
       "      <th>rl_based</th>\n",
       "      <td>6003</td>\n",
       "      <td>700</td>\n",
       "    </tr>\n",
       "  </tbody>\n",
       "</table>\n",
       "</div>"
      ],
      "text/plain": [
       "Attribute[COL]  False  True \n",
       "strategy                    \n",
       "greedy          13070    192\n",
       "random          13407    158\n",
       "rl_based         6003    700"
      ]
     },
     "execution_count": 7,
     "metadata": {},
     "output_type": "execute_result"
    }
   ],
   "source": [
    "dm.data.groupby(['strategy', 'Attribute[COL]']).size().unstack()"
   ]
  },
  {
   "cell_type": "markdown",
   "metadata": {},
   "source": [
    "## Model"
   ]
  },
  {
   "cell_type": "code",
   "execution_count": 8,
   "metadata": {},
   "outputs": [
    {
     "name": "stdout",
     "output_type": "stream",
     "text": [
      "splitting at 26824.\n",
      "trainX:(26824, 13), trainY:(26824, 3), testX:(6706, 13), testY:(6706, 3)\n"
     ]
    }
   ],
   "source": [
    "trainX, trainY, testX, testY = dm.splitTrainTest()\n",
    "print(f\"trainX:{trainX.shape}, trainY:{trainY.shape}, testX:{testX.shape}, testY:{testY.shape}\")"
   ]
  },
  {
   "cell_type": "code",
   "execution_count": 9,
   "metadata": {},
   "outputs": [
    {
     "data": {
      "text/html": [
       "<div>\n",
       "<style scoped>\n",
       "    .dataframe tbody tr th:only-of-type {\n",
       "        vertical-align: middle;\n",
       "    }\n",
       "\n",
       "    .dataframe tbody tr th {\n",
       "        vertical-align: top;\n",
       "    }\n",
       "\n",
       "    .dataframe thead th {\n",
       "        text-align: right;\n",
       "    }\n",
       "</style>\n",
       "<table border=\"1\" class=\"dataframe\">\n",
       "  <thead>\n",
       "    <tr style=\"text-align: right;\">\n",
       "      <th></th>\n",
       "      <th>Attribute[TTC]</th>\n",
       "      <th>Attribute[DTO]</th>\n",
       "      <th>Attribute[Jerk]</th>\n",
       "      <th>reward</th>\n",
       "      <th>road</th>\n",
       "      <th>strategy</th>\n",
       "      <th>scenario</th>\n",
       "      <th>speed1</th>\n",
       "      <th>speed2</th>\n",
       "      <th>speed3</th>\n",
       "      <th>speed4</th>\n",
       "      <th>speed5</th>\n",
       "      <th>speed6</th>\n",
       "    </tr>\n",
       "  </thead>\n",
       "  <tbody>\n",
       "    <tr>\n",
       "      <th>23853</th>\n",
       "      <td>100000.000000</td>\n",
       "      <td>6.434714</td>\n",
       "      <td>5.04</td>\n",
       "      <td>ttc</td>\n",
       "      <td>road2</td>\n",
       "      <td>random</td>\n",
       "      <td>rain_night</td>\n",
       "      <td>5.547</td>\n",
       "      <td>4.660</td>\n",
       "      <td>4.401</td>\n",
       "      <td>4.228</td>\n",
       "      <td>3.986</td>\n",
       "      <td>3.746</td>\n",
       "    </tr>\n",
       "    <tr>\n",
       "      <th>30032</th>\n",
       "      <td>0.695324</td>\n",
       "      <td>5.552715</td>\n",
       "      <td>5.74</td>\n",
       "      <td>jerk</td>\n",
       "      <td>road2</td>\n",
       "      <td>rl_based</td>\n",
       "      <td>sunny_night</td>\n",
       "      <td>5.558</td>\n",
       "      <td>4.607</td>\n",
       "      <td>4.358</td>\n",
       "      <td>4.832</td>\n",
       "      <td>4.246</td>\n",
       "      <td>3.967</td>\n",
       "    </tr>\n",
       "    <tr>\n",
       "      <th>11507</th>\n",
       "      <td>100000.000000</td>\n",
       "      <td>8.511993</td>\n",
       "      <td>5.90</td>\n",
       "      <td>ttc</td>\n",
       "      <td>road3</td>\n",
       "      <td>greedy</td>\n",
       "      <td>rain_night</td>\n",
       "      <td>0.908</td>\n",
       "      <td>0.001</td>\n",
       "      <td>0.789</td>\n",
       "      <td>0.687</td>\n",
       "      <td>0.001</td>\n",
       "      <td>1.000</td>\n",
       "    </tr>\n",
       "    <tr>\n",
       "      <th>17653</th>\n",
       "      <td>0.760641</td>\n",
       "      <td>7.845926</td>\n",
       "      <td>14.30</td>\n",
       "      <td>dto</td>\n",
       "      <td>road4</td>\n",
       "      <td>random</td>\n",
       "      <td>sunny_night</td>\n",
       "      <td>5.127</td>\n",
       "      <td>6.324</td>\n",
       "      <td>6.615</td>\n",
       "      <td>8.165</td>\n",
       "      <td>8.313</td>\n",
       "      <td>8.683</td>\n",
       "    </tr>\n",
       "    <tr>\n",
       "      <th>16680</th>\n",
       "      <td>8.738029</td>\n",
       "      <td>14.960495</td>\n",
       "      <td>0.88</td>\n",
       "      <td>dto</td>\n",
       "      <td>road3</td>\n",
       "      <td>random</td>\n",
       "      <td>sunny_night</td>\n",
       "      <td>8.075</td>\n",
       "      <td>8.280</td>\n",
       "      <td>8.360</td>\n",
       "      <td>8.458</td>\n",
       "      <td>8.566</td>\n",
       "      <td>8.755</td>\n",
       "    </tr>\n",
       "  </tbody>\n",
       "</table>\n",
       "</div>"
      ],
      "text/plain": [
       "       Attribute[TTC]  Attribute[DTO]  Attribute[Jerk] reward   road  \\\n",
       "23853   100000.000000        6.434714             5.04    ttc  road2   \n",
       "30032        0.695324        5.552715             5.74   jerk  road2   \n",
       "11507   100000.000000        8.511993             5.90    ttc  road3   \n",
       "17653        0.760641        7.845926            14.30    dto  road4   \n",
       "16680        8.738029       14.960495             0.88    dto  road3   \n",
       "\n",
       "       strategy     scenario  speed1  speed2  speed3  speed4  speed5  speed6  \n",
       "23853    random   rain_night   5.547   4.660   4.401   4.228   3.986   3.746  \n",
       "30032  rl_based  sunny_night   5.558   4.607   4.358   4.832   4.246   3.967  \n",
       "11507    greedy   rain_night   0.908   0.001   0.789   0.687   0.001   1.000  \n",
       "17653    random  sunny_night   5.127   6.324   6.615   8.165   8.313   8.683  \n",
       "16680    random  sunny_night   8.075   8.280   8.360   8.458   8.566   8.755  "
      ]
     },
     "execution_count": 9,
     "metadata": {},
     "output_type": "execute_result"
    }
   ],
   "source": [
    "trainX.head()"
   ]
  },
  {
   "cell_type": "code",
   "execution_count": 10,
   "metadata": {},
   "outputs": [],
   "source": [
    "model = Predicter()\n",
    "x, y = model.preProcess(trainX, trainY) # some last preprocessing (scaling and label encoding)\n",
    "testX, testY = model.preProcess(testX, testY)\n",
    "\n",
    "model.fit(x, y)"
   ]
  },
  {
   "cell_type": "code",
   "execution_count": 11,
   "metadata": {},
   "outputs": [
    {
     "name": "stdout",
     "output_type": "stream",
     "text": [
      "Total: 6706, number of collisions: 215\n",
      "\tTN: 6467 \t| FP: 24 \n",
      "\tFN: 98 \t| TP: 117\n",
      "Accuracy: 0.98\n",
      "Precision: 0.83\n",
      "Recall: 0.54\n",
      "F1: 0.66\n"
     ]
    }
   ],
   "source": [
    "pred = model.predict(testX)\n",
    "score = model.getScore(pred, testY)"
   ]
  },
  {
   "cell_type": "code",
   "execution_count": 12,
   "metadata": {},
   "outputs": [
    {
     "name": "stdout",
     "output_type": "stream",
     "text": [
      "Model saved!\n"
     ]
    }
   ],
   "source": [
    "model.saveModel(\"MLPClassifier\")"
   ]
  },
  {
   "cell_type": "markdown",
   "metadata": {},
   "source": [
    "## Paramter Tuning"
   ]
  },
  {
   "cell_type": "markdown",
   "metadata": {},
   "source": [
    "https://panjeh.medium.com/scikit-learn-hyperparameter-optimization-for-mlpclassifier-4d670413042b"
   ]
  },
  {
   "cell_type": "code",
   "execution_count": 31,
   "metadata": {},
   "outputs": [
    {
     "data": {
      "text/plain": [
       "{'activation': ['relu'],\n",
       " 'alpha': [0.0001],\n",
       " 'batch_size': ['auto'],\n",
       " 'beta_1': [0.9],\n",
       " 'beta_2': [0.999],\n",
       " 'early_stopping': [False],\n",
       " 'epsilon': [1e-08],\n",
       " 'hidden_layer_sizes': [(100,)],\n",
       " 'learning_rate': ['constant'],\n",
       " 'learning_rate_init': [0.001],\n",
       " 'max_fun': [15000],\n",
       " 'max_iter': [200],\n",
       " 'momentum': [0.9],\n",
       " 'n_iter_no_change': [10],\n",
       " 'nesterovs_momentum': [True],\n",
       " 'power_t': [0.5],\n",
       " 'random_state': [None],\n",
       " 'shuffle': [True],\n",
       " 'solver': ['adam'],\n",
       " 'tol': [0.0001],\n",
       " 'validation_fraction': [0.1],\n",
       " 'verbose': [False],\n",
       " 'warm_start': [False]}"
      ]
     },
     "execution_count": 31,
     "metadata": {},
     "output_type": "execute_result"
    }
   ],
   "source": [
    "curr_params = model.model.get_params()\n",
    "\n",
    "# loop through all the parameters and change each value to a list of the value\n",
    "curr_params = dict((key, [value]) for (key, value) in curr_params.items())\n",
    "curr_params"
   ]
  },
  {
   "cell_type": "code",
   "execution_count": 32,
   "metadata": {},
   "outputs": [
    {
     "data": {
      "text/html": [
       "<style>#sk-container-id-2 {color: black;background-color: white;}#sk-container-id-2 pre{padding: 0;}#sk-container-id-2 div.sk-toggleable {background-color: white;}#sk-container-id-2 label.sk-toggleable__label {cursor: pointer;display: block;width: 100%;margin-bottom: 0;padding: 0.3em;box-sizing: border-box;text-align: center;}#sk-container-id-2 label.sk-toggleable__label-arrow:before {content: \"▸\";float: left;margin-right: 0.25em;color: #696969;}#sk-container-id-2 label.sk-toggleable__label-arrow:hover:before {color: black;}#sk-container-id-2 div.sk-estimator:hover label.sk-toggleable__label-arrow:before {color: black;}#sk-container-id-2 div.sk-toggleable__content {max-height: 0;max-width: 0;overflow: hidden;text-align: left;background-color: #f0f8ff;}#sk-container-id-2 div.sk-toggleable__content pre {margin: 0.2em;color: black;border-radius: 0.25em;background-color: #f0f8ff;}#sk-container-id-2 input.sk-toggleable__control:checked~div.sk-toggleable__content {max-height: 200px;max-width: 100%;overflow: auto;}#sk-container-id-2 input.sk-toggleable__control:checked~label.sk-toggleable__label-arrow:before {content: \"▾\";}#sk-container-id-2 div.sk-estimator input.sk-toggleable__control:checked~label.sk-toggleable__label {background-color: #d4ebff;}#sk-container-id-2 div.sk-label input.sk-toggleable__control:checked~label.sk-toggleable__label {background-color: #d4ebff;}#sk-container-id-2 input.sk-hidden--visually {border: 0;clip: rect(1px 1px 1px 1px);clip: rect(1px, 1px, 1px, 1px);height: 1px;margin: -1px;overflow: hidden;padding: 0;position: absolute;width: 1px;}#sk-container-id-2 div.sk-estimator {font-family: monospace;background-color: #f0f8ff;border: 1px dotted black;border-radius: 0.25em;box-sizing: border-box;margin-bottom: 0.5em;}#sk-container-id-2 div.sk-estimator:hover {background-color: #d4ebff;}#sk-container-id-2 div.sk-parallel-item::after {content: \"\";width: 100%;border-bottom: 1px solid gray;flex-grow: 1;}#sk-container-id-2 div.sk-label:hover label.sk-toggleable__label {background-color: #d4ebff;}#sk-container-id-2 div.sk-serial::before {content: \"\";position: absolute;border-left: 1px solid gray;box-sizing: border-box;top: 0;bottom: 0;left: 50%;z-index: 0;}#sk-container-id-2 div.sk-serial {display: flex;flex-direction: column;align-items: center;background-color: white;padding-right: 0.2em;padding-left: 0.2em;position: relative;}#sk-container-id-2 div.sk-item {position: relative;z-index: 1;}#sk-container-id-2 div.sk-parallel {display: flex;align-items: stretch;justify-content: center;background-color: white;position: relative;}#sk-container-id-2 div.sk-item::before, #sk-container-id-2 div.sk-parallel-item::before {content: \"\";position: absolute;border-left: 1px solid gray;box-sizing: border-box;top: 0;bottom: 0;left: 50%;z-index: -1;}#sk-container-id-2 div.sk-parallel-item {display: flex;flex-direction: column;z-index: 1;position: relative;background-color: white;}#sk-container-id-2 div.sk-parallel-item:first-child::after {align-self: flex-end;width: 50%;}#sk-container-id-2 div.sk-parallel-item:last-child::after {align-self: flex-start;width: 50%;}#sk-container-id-2 div.sk-parallel-item:only-child::after {width: 0;}#sk-container-id-2 div.sk-dashed-wrapped {border: 1px dashed gray;margin: 0 0.4em 0.5em 0.4em;box-sizing: border-box;padding-bottom: 0.4em;background-color: white;}#sk-container-id-2 div.sk-label label {font-family: monospace;font-weight: bold;display: inline-block;line-height: 1.2em;}#sk-container-id-2 div.sk-label-container {text-align: center;}#sk-container-id-2 div.sk-container {/* jupyter's `normalize.less` sets `[hidden] { display: none; }` but bootstrap.min.css set `[hidden] { display: none !important; }` so we also need the `!important` here to be able to override the default hidden behavior on the sphinx rendered scikit-learn.org. See: https://github.com/scikit-learn/scikit-learn/issues/21755 */display: inline-block !important;position: relative;}#sk-container-id-2 div.sk-text-repr-fallback {display: none;}</style><div id=\"sk-container-id-2\" class=\"sk-top-container\"><div class=\"sk-text-repr-fallback\"><pre>GridSearchCV(cv=5, estimator=MLPClassifier(), n_jobs=-1,\n",
       "             param_grid={&#x27;activation&#x27;: [&#x27;relu&#x27;], &#x27;alpha&#x27;: [0.0001],\n",
       "                         &#x27;batch_size&#x27;: [&#x27;auto&#x27;], &#x27;beta_1&#x27;: [0.9],\n",
       "                         &#x27;beta_2&#x27;: [0.999], &#x27;early_stopping&#x27;: [False],\n",
       "                         &#x27;epsilon&#x27;: [1e-08], &#x27;hidden_layer_sizes&#x27;: [(100,)],\n",
       "                         &#x27;learning_rate&#x27;: [&#x27;constant&#x27;],\n",
       "                         &#x27;learning_rate_init&#x27;: [0.001], &#x27;max_fun&#x27;: [15000],\n",
       "                         &#x27;max_iter&#x27;: [200], &#x27;momentum&#x27;: [0.9],\n",
       "                         &#x27;n_iter_no_change&#x27;: [10], &#x27;nesterovs_momentum&#x27;: [True],\n",
       "                         &#x27;power_t&#x27;: [0.5], &#x27;random_state&#x27;: [None],\n",
       "                         &#x27;shuffle&#x27;: [True], &#x27;solver&#x27;: [&#x27;adam&#x27;], &#x27;tol&#x27;: [0.0001],\n",
       "                         &#x27;validation_fraction&#x27;: [0.1], &#x27;verbose&#x27;: [False],\n",
       "                         &#x27;warm_start&#x27;: [False]})</pre><b>In a Jupyter environment, please rerun this cell to show the HTML representation or trust the notebook. <br />On GitHub, the HTML representation is unable to render, please try loading this page with nbviewer.org.</b></div><div class=\"sk-container\" hidden><div class=\"sk-item sk-dashed-wrapped\"><div class=\"sk-label-container\"><div class=\"sk-label sk-toggleable\"><input class=\"sk-toggleable__control sk-hidden--visually\" id=\"sk-estimator-id-4\" type=\"checkbox\" ><label for=\"sk-estimator-id-4\" class=\"sk-toggleable__label sk-toggleable__label-arrow\">GridSearchCV</label><div class=\"sk-toggleable__content\"><pre>GridSearchCV(cv=5, estimator=MLPClassifier(), n_jobs=-1,\n",
       "             param_grid={&#x27;activation&#x27;: [&#x27;relu&#x27;], &#x27;alpha&#x27;: [0.0001],\n",
       "                         &#x27;batch_size&#x27;: [&#x27;auto&#x27;], &#x27;beta_1&#x27;: [0.9],\n",
       "                         &#x27;beta_2&#x27;: [0.999], &#x27;early_stopping&#x27;: [False],\n",
       "                         &#x27;epsilon&#x27;: [1e-08], &#x27;hidden_layer_sizes&#x27;: [(100,)],\n",
       "                         &#x27;learning_rate&#x27;: [&#x27;constant&#x27;],\n",
       "                         &#x27;learning_rate_init&#x27;: [0.001], &#x27;max_fun&#x27;: [15000],\n",
       "                         &#x27;max_iter&#x27;: [200], &#x27;momentum&#x27;: [0.9],\n",
       "                         &#x27;n_iter_no_change&#x27;: [10], &#x27;nesterovs_momentum&#x27;: [True],\n",
       "                         &#x27;power_t&#x27;: [0.5], &#x27;random_state&#x27;: [None],\n",
       "                         &#x27;shuffle&#x27;: [True], &#x27;solver&#x27;: [&#x27;adam&#x27;], &#x27;tol&#x27;: [0.0001],\n",
       "                         &#x27;validation_fraction&#x27;: [0.1], &#x27;verbose&#x27;: [False],\n",
       "                         &#x27;warm_start&#x27;: [False]})</pre></div></div></div><div class=\"sk-parallel\"><div class=\"sk-parallel-item\"><div class=\"sk-item\"><div class=\"sk-label-container\"><div class=\"sk-label sk-toggleable\"><input class=\"sk-toggleable__control sk-hidden--visually\" id=\"sk-estimator-id-5\" type=\"checkbox\" ><label for=\"sk-estimator-id-5\" class=\"sk-toggleable__label sk-toggleable__label-arrow\">estimator: MLPClassifier</label><div class=\"sk-toggleable__content\"><pre>MLPClassifier()</pre></div></div></div><div class=\"sk-serial\"><div class=\"sk-item\"><div class=\"sk-estimator sk-toggleable\"><input class=\"sk-toggleable__control sk-hidden--visually\" id=\"sk-estimator-id-6\" type=\"checkbox\" ><label for=\"sk-estimator-id-6\" class=\"sk-toggleable__label sk-toggleable__label-arrow\">MLPClassifier</label><div class=\"sk-toggleable__content\"><pre>MLPClassifier()</pre></div></div></div></div></div></div></div></div></div></div>"
      ],
      "text/plain": [
       "GridSearchCV(cv=5, estimator=MLPClassifier(), n_jobs=-1,\n",
       "             param_grid={'activation': ['relu'], 'alpha': [0.0001],\n",
       "                         'batch_size': ['auto'], 'beta_1': [0.9],\n",
       "                         'beta_2': [0.999], 'early_stopping': [False],\n",
       "                         'epsilon': [1e-08], 'hidden_layer_sizes': [(100,)],\n",
       "                         'learning_rate': ['constant'],\n",
       "                         'learning_rate_init': [0.001], 'max_fun': [15000],\n",
       "                         'max_iter': [200], 'momentum': [0.9],\n",
       "                         'n_iter_no_change': [10], 'nesterovs_momentum': [True],\n",
       "                         'power_t': [0.5], 'random_state': [None],\n",
       "                         'shuffle': [True], 'solver': ['adam'], 'tol': [0.0001],\n",
       "                         'validation_fraction': [0.1], 'verbose': [False],\n",
       "                         'warm_start': [False]})"
      ]
     },
     "execution_count": 32,
     "metadata": {},
     "output_type": "execute_result"
    }
   ],
   "source": [
    "from sklearn.model_selection import GridSearchCV\n",
    "clf = GridSearchCV(model.model, curr_params, n_jobs=-1, cv=5)\n",
    "clf.fit(x, y)"
   ]
  },
  {
   "cell_type": "code",
   "execution_count": 33,
   "metadata": {},
   "outputs": [
    {
     "data": {
      "text/plain": [
       "{'activation': 'relu',\n",
       " 'alpha': 0.0001,\n",
       " 'batch_size': 'auto',\n",
       " 'beta_1': 0.9,\n",
       " 'beta_2': 0.999,\n",
       " 'early_stopping': False,\n",
       " 'epsilon': 1e-08,\n",
       " 'hidden_layer_sizes': (100,),\n",
       " 'learning_rate': 'constant',\n",
       " 'learning_rate_init': 0.001,\n",
       " 'max_fun': 15000,\n",
       " 'max_iter': 200,\n",
       " 'momentum': 0.9,\n",
       " 'n_iter_no_change': 10,\n",
       " 'nesterovs_momentum': True,\n",
       " 'power_t': 0.5,\n",
       " 'random_state': None,\n",
       " 'shuffle': True,\n",
       " 'solver': 'adam',\n",
       " 'tol': 0.0001,\n",
       " 'validation_fraction': 0.1,\n",
       " 'verbose': False,\n",
       " 'warm_start': False}"
      ]
     },
     "execution_count": 33,
     "metadata": {},
     "output_type": "execute_result"
    }
   ],
   "source": [
    "clf.best_params_"
   ]
  },
  {
   "cell_type": "code",
   "execution_count": 34,
   "metadata": {},
   "outputs": [
    {
     "name": "stdout",
     "output_type": "stream",
     "text": [
      "0.984 (+/-0.002) for {'activation': 'relu', 'alpha': 0.0001, 'batch_size': 'auto', 'beta_1': 0.9, 'beta_2': 0.999, 'early_stopping': False, 'epsilon': 1e-08, 'hidden_layer_sizes': (100,), 'learning_rate': 'constant', 'learning_rate_init': 0.001, 'max_fun': 15000, 'max_iter': 200, 'momentum': 0.9, 'n_iter_no_change': 10, 'nesterovs_momentum': True, 'power_t': 0.5, 'random_state': None, 'shuffle': True, 'solver': 'adam', 'tol': 0.0001, 'validation_fraction': 0.1, 'verbose': False, 'warm_start': False}\n"
     ]
    }
   ],
   "source": [
    "means = clf.cv_results_['mean_test_score']\n",
    "stds = clf.cv_results_['std_test_score']\n",
    "for mean, std, params in zip(means, stds, clf.cv_results_['params']):\n",
    "    print(\"%0.3f (+/-%0.03f) for %r\" % (mean, std * 2, params))"
   ]
  },
  {
   "cell_type": "code",
   "execution_count": 35,
   "metadata": {},
   "outputs": [
    {
     "name": "stdout",
     "output_type": "stream",
     "text": [
      "Results on the test set:\n",
      "              precision    recall  f1-score   support\n",
      "\n",
      "           0       0.99      1.00      0.99      6491\n",
      "           1       0.82      0.54      0.66       215\n",
      "\n",
      "    accuracy                           0.98      6706\n",
      "   macro avg       0.90      0.77      0.82      6706\n",
      "weighted avg       0.98      0.98      0.98      6706\n",
      "\n"
     ]
    }
   ],
   "source": [
    "y_true, y_pred = testY, clf.predict(testX)\n",
    "from sklearn.metrics import classification_report\n",
    "print('Results on the test set:')\n",
    "print(classification_report(y_true, y_pred))"
   ]
  },
  {
   "cell_type": "code",
   "execution_count": 36,
   "metadata": {},
   "outputs": [
    {
     "data": {
      "text/plain": [
       "0.9816582165225172"
      ]
     },
     "execution_count": 36,
     "metadata": {},
     "output_type": "execute_result"
    }
   ],
   "source": [
    "score = clf.score(testX, testY)\n",
    "score"
   ]
  },
  {
   "cell_type": "markdown",
   "metadata": {},
   "source": [
    "Need to analyse, best params and default params are the same, why?"
   ]
  }
 ],
 "metadata": {
  "kernelspec": {
   "display_name": "Python 3.9.16 ('MasterThesis')",
   "language": "python",
   "name": "python3"
  },
  "language_info": {
   "codemirror_mode": {
    "name": "ipython",
    "version": 3
   },
   "file_extension": ".py",
   "mimetype": "text/x-python",
   "name": "python",
   "nbconvert_exporter": "python",
   "pygments_lexer": "ipython3",
   "version": "3.9.16"
  },
  "orig_nbformat": 4,
  "vscode": {
   "interpreter": {
    "hash": "5ea953018f845277ff9327bc0467e81b58a68076ce0c385be95779bfd3460f16"
   }
  }
 },
 "nbformat": 4,
 "nbformat_minor": 2
}
