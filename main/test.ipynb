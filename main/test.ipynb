{
 "cells": [
  {
   "cell_type": "code",
   "execution_count": 1,
   "metadata": {},
   "outputs": [],
   "source": [
    "import matplotlib.pylab as plt\n",
    "import numpy as np\n",
    "import pandas as pd"
   ]
  },
  {
   "cell_type": "code",
   "execution_count": 2,
   "metadata": {},
   "outputs": [],
   "source": [
    "from ML.Model import Predicter\n",
    "from PreProcessing.DataManipulation import DataManipulation\n",
    "import pickle"
   ]
  },
  {
   "cell_type": "code",
   "execution_count": 3,
   "metadata": {},
   "outputs": [
    {
     "name": "stdout",
     "output_type": "stream",
     "text": [
      "<class 'pandas.core.frame.DataFrame'>\n",
      "RangeIndex: 33530 entries, 0 to 33529\n",
      "Data columns (total 13 columns):\n",
      " #   Column                         Non-Null Count  Dtype  \n",
      "---  ------                         --------------  -----  \n",
      " 0   Execution                      33530 non-null  int64  \n",
      " 1   ScenarioID                     33530 non-null  object \n",
      " 2   Configuration_API_Description  33530 non-null  object \n",
      " 3   Attribute[TTC]                 33530 non-null  float64\n",
      " 4   Attribute[DTO]                 33530 non-null  float64\n",
      " 5   Attribute[Jerk]                33530 non-null  float64\n",
      " 6   Attribute[COL]                 33530 non-null  bool   \n",
      " 7   Attribute[COLT]                33530 non-null  object \n",
      " 8   Attribute[SAC]                 33530 non-null  float64\n",
      " 9   reward                         33530 non-null  object \n",
      " 10  road                           33530 non-null  object \n",
      " 11  strategy                       33530 non-null  object \n",
      " 12  scenario                       33530 non-null  object \n",
      "dtypes: bool(1), float64(4), int64(1), object(7)\n",
      "memory usage: 3.1+ MB\n"
     ]
    }
   ],
   "source": [
    "data = pd.read_csv(\"../data/deep-scenario.csv\")\n",
    "data.info()"
   ]
  },
  {
   "cell_type": "markdown",
   "metadata": {},
   "source": [
    "## Pre Processing"
   ]
  },
  {
   "cell_type": "code",
   "execution_count": 4,
   "metadata": {},
   "outputs": [
    {
     "data": {
      "text/html": [
       "<div>\n",
       "<style scoped>\n",
       "    .dataframe tbody tr th:only-of-type {\n",
       "        vertical-align: middle;\n",
       "    }\n",
       "\n",
       "    .dataframe tbody tr th {\n",
       "        vertical-align: top;\n",
       "    }\n",
       "\n",
       "    .dataframe thead th {\n",
       "        text-align: right;\n",
       "    }\n",
       "</style>\n",
       "<table border=\"1\" class=\"dataframe\">\n",
       "  <thead>\n",
       "    <tr style=\"text-align: right;\">\n",
       "      <th></th>\n",
       "      <th>Execution</th>\n",
       "      <th>ScenarioID</th>\n",
       "      <th>Configuration_API_Description</th>\n",
       "      <th>Attribute[TTC]</th>\n",
       "      <th>Attribute[DTO]</th>\n",
       "      <th>Attribute[Jerk]</th>\n",
       "      <th>Attribute[COL]</th>\n",
       "      <th>Attribute[COLT]</th>\n",
       "      <th>Attribute[SAC]</th>\n",
       "      <th>reward</th>\n",
       "      <th>road</th>\n",
       "      <th>strategy</th>\n",
       "      <th>scenario</th>\n",
       "    </tr>\n",
       "  </thead>\n",
       "  <tbody>\n",
       "    <tr>\n",
       "      <th>0</th>\n",
       "      <td>0</td>\n",
       "      <td>0_scenario_0</td>\n",
       "      <td>A red BoxTruck is overtaking (near) the ego ve...</td>\n",
       "      <td>100000.000000</td>\n",
       "      <td>24.810964</td>\n",
       "      <td>3.48</td>\n",
       "      <td>False</td>\n",
       "      <td>None</td>\n",
       "      <td>0.0</td>\n",
       "      <td>dto</td>\n",
       "      <td>road1</td>\n",
       "      <td>greedy</td>\n",
       "      <td>rain_day</td>\n",
       "    </tr>\n",
       "    <tr>\n",
       "      <th>1</th>\n",
       "      <td>0</td>\n",
       "      <td>0_scenario_1</td>\n",
       "      <td>A skyblue SUV is driving from the opposite dir...</td>\n",
       "      <td>100000.000000</td>\n",
       "      <td>8.654072</td>\n",
       "      <td>1.04</td>\n",
       "      <td>False</td>\n",
       "      <td>None</td>\n",
       "      <td>0.0</td>\n",
       "      <td>dto</td>\n",
       "      <td>road1</td>\n",
       "      <td>greedy</td>\n",
       "      <td>rain_day</td>\n",
       "    </tr>\n",
       "    <tr>\n",
       "      <th>2</th>\n",
       "      <td>0</td>\n",
       "      <td>0_scenario_2</td>\n",
       "      <td>A skyblue BoxTruck is driving ahead (near) of ...</td>\n",
       "      <td>2.103269</td>\n",
       "      <td>10.209357</td>\n",
       "      <td>4.98</td>\n",
       "      <td>False</td>\n",
       "      <td>None</td>\n",
       "      <td>0.0</td>\n",
       "      <td>dto</td>\n",
       "      <td>road1</td>\n",
       "      <td>greedy</td>\n",
       "      <td>rain_day</td>\n",
       "    </tr>\n",
       "    <tr>\n",
       "      <th>3</th>\n",
       "      <td>0</td>\n",
       "      <td>0_scenario_3</td>\n",
       "      <td>A black SchoolBus is driving ahead (near) of t...</td>\n",
       "      <td>7.452645</td>\n",
       "      <td>17.011425</td>\n",
       "      <td>2.42</td>\n",
       "      <td>False</td>\n",
       "      <td>None</td>\n",
       "      <td>0.0</td>\n",
       "      <td>dto</td>\n",
       "      <td>road1</td>\n",
       "      <td>greedy</td>\n",
       "      <td>rain_day</td>\n",
       "    </tr>\n",
       "    <tr>\n",
       "      <th>4</th>\n",
       "      <td>0</td>\n",
       "      <td>0_scenario_4</td>\n",
       "      <td>A red Hatchback is crossing the road (far) and...</td>\n",
       "      <td>2.885993</td>\n",
       "      <td>27.858975</td>\n",
       "      <td>2.84</td>\n",
       "      <td>False</td>\n",
       "      <td>None</td>\n",
       "      <td>0.0</td>\n",
       "      <td>dto</td>\n",
       "      <td>road1</td>\n",
       "      <td>greedy</td>\n",
       "      <td>rain_day</td>\n",
       "    </tr>\n",
       "  </tbody>\n",
       "</table>\n",
       "</div>"
      ],
      "text/plain": [
       "   Execution    ScenarioID                      Configuration_API_Description  \\\n",
       "0          0  0_scenario_0  A red BoxTruck is overtaking (near) the ego ve...   \n",
       "1          0  0_scenario_1  A skyblue SUV is driving from the opposite dir...   \n",
       "2          0  0_scenario_2  A skyblue BoxTruck is driving ahead (near) of ...   \n",
       "3          0  0_scenario_3  A black SchoolBus is driving ahead (near) of t...   \n",
       "4          0  0_scenario_4  A red Hatchback is crossing the road (far) and...   \n",
       "\n",
       "   Attribute[TTC]  Attribute[DTO]  Attribute[Jerk]  Attribute[COL]  \\\n",
       "0   100000.000000       24.810964             3.48           False   \n",
       "1   100000.000000        8.654072             1.04           False   \n",
       "2        2.103269       10.209357             4.98           False   \n",
       "3        7.452645       17.011425             2.42           False   \n",
       "4        2.885993       27.858975             2.84           False   \n",
       "\n",
       "  Attribute[COLT]  Attribute[SAC] reward   road strategy  scenario  \n",
       "0            None             0.0    dto  road1   greedy  rain_day  \n",
       "1            None             0.0    dto  road1   greedy  rain_day  \n",
       "2            None             0.0    dto  road1   greedy  rain_day  \n",
       "3            None             0.0    dto  road1   greedy  rain_day  \n",
       "4            None             0.0    dto  road1   greedy  rain_day  "
      ]
     },
     "execution_count": 4,
     "metadata": {},
     "output_type": "execute_result"
    }
   ],
   "source": [
    "dm = DataManipulation(\"../data/deep-scenario.csv\")\n",
    "dm.data.head(5)"
   ]
  },
  {
   "cell_type": "code",
   "execution_count": 5,
   "metadata": {},
   "outputs": [
    {
     "data": {
      "text/html": [
       "<div>\n",
       "<style scoped>\n",
       "    .dataframe tbody tr th:only-of-type {\n",
       "        vertical-align: middle;\n",
       "    }\n",
       "\n",
       "    .dataframe tbody tr th {\n",
       "        vertical-align: top;\n",
       "    }\n",
       "\n",
       "    .dataframe thead th {\n",
       "        text-align: right;\n",
       "    }\n",
       "</style>\n",
       "<table border=\"1\" class=\"dataframe\">\n",
       "  <thead>\n",
       "    <tr style=\"text-align: right;\">\n",
       "      <th></th>\n",
       "      <th>Execution</th>\n",
       "      <th>ScenarioID</th>\n",
       "      <th>Configuration_API_Description</th>\n",
       "      <th>Attribute[TTC]</th>\n",
       "      <th>Attribute[DTO]</th>\n",
       "      <th>Attribute[Jerk]</th>\n",
       "      <th>Attribute[COL]</th>\n",
       "      <th>Attribute[COLT]</th>\n",
       "      <th>Attribute[SAC]</th>\n",
       "      <th>reward</th>\n",
       "      <th>...</th>\n",
       "      <th>av3z</th>\n",
       "      <th>av4x</th>\n",
       "      <th>av4y</th>\n",
       "      <th>av4z</th>\n",
       "      <th>av5x</th>\n",
       "      <th>av5y</th>\n",
       "      <th>av5z</th>\n",
       "      <th>av6x</th>\n",
       "      <th>av6y</th>\n",
       "      <th>av6z</th>\n",
       "    </tr>\n",
       "  </thead>\n",
       "  <tbody>\n",
       "    <tr>\n",
       "      <th>0</th>\n",
       "      <td>0</td>\n",
       "      <td>0_scenario_0</td>\n",
       "      <td>A red BoxTruck is overtaking (near) the ego ve...</td>\n",
       "      <td>100000.000000</td>\n",
       "      <td>24.810964</td>\n",
       "      <td>3.48</td>\n",
       "      <td>False</td>\n",
       "      <td>None</td>\n",
       "      <td>0.0</td>\n",
       "      <td>dto</td>\n",
       "      <td>...</td>\n",
       "      <td>0.0</td>\n",
       "      <td>-0.001</td>\n",
       "      <td>-0.002</td>\n",
       "      <td>0.0</td>\n",
       "      <td>0.003</td>\n",
       "      <td>-0.002</td>\n",
       "      <td>0.0</td>\n",
       "      <td>-0.000</td>\n",
       "      <td>-0.001</td>\n",
       "      <td>0.0</td>\n",
       "    </tr>\n",
       "    <tr>\n",
       "      <th>1</th>\n",
       "      <td>0</td>\n",
       "      <td>0_scenario_1</td>\n",
       "      <td>A skyblue SUV is driving from the opposite dir...</td>\n",
       "      <td>100000.000000</td>\n",
       "      <td>8.654072</td>\n",
       "      <td>1.04</td>\n",
       "      <td>False</td>\n",
       "      <td>None</td>\n",
       "      <td>0.0</td>\n",
       "      <td>dto</td>\n",
       "      <td>...</td>\n",
       "      <td>-0.0</td>\n",
       "      <td>-0.000</td>\n",
       "      <td>-0.000</td>\n",
       "      <td>0.0</td>\n",
       "      <td>0.001</td>\n",
       "      <td>-0.001</td>\n",
       "      <td>0.0</td>\n",
       "      <td>0.000</td>\n",
       "      <td>-0.002</td>\n",
       "      <td>0.0</td>\n",
       "    </tr>\n",
       "    <tr>\n",
       "      <th>2</th>\n",
       "      <td>0</td>\n",
       "      <td>0_scenario_2</td>\n",
       "      <td>A skyblue BoxTruck is driving ahead (near) of ...</td>\n",
       "      <td>2.103269</td>\n",
       "      <td>10.209357</td>\n",
       "      <td>4.98</td>\n",
       "      <td>False</td>\n",
       "      <td>None</td>\n",
       "      <td>0.0</td>\n",
       "      <td>dto</td>\n",
       "      <td>...</td>\n",
       "      <td>0.0</td>\n",
       "      <td>0.006</td>\n",
       "      <td>-0.003</td>\n",
       "      <td>0.0</td>\n",
       "      <td>0.012</td>\n",
       "      <td>-0.002</td>\n",
       "      <td>0.0</td>\n",
       "      <td>0.003</td>\n",
       "      <td>-0.001</td>\n",
       "      <td>-0.0</td>\n",
       "    </tr>\n",
       "    <tr>\n",
       "      <th>3</th>\n",
       "      <td>0</td>\n",
       "      <td>0_scenario_3</td>\n",
       "      <td>A black SchoolBus is driving ahead (near) of t...</td>\n",
       "      <td>7.452645</td>\n",
       "      <td>17.011425</td>\n",
       "      <td>2.42</td>\n",
       "      <td>False</td>\n",
       "      <td>None</td>\n",
       "      <td>0.0</td>\n",
       "      <td>dto</td>\n",
       "      <td>...</td>\n",
       "      <td>0.0</td>\n",
       "      <td>0.000</td>\n",
       "      <td>-0.000</td>\n",
       "      <td>0.0</td>\n",
       "      <td>0.000</td>\n",
       "      <td>-0.000</td>\n",
       "      <td>0.0</td>\n",
       "      <td>-0.001</td>\n",
       "      <td>-0.000</td>\n",
       "      <td>0.0</td>\n",
       "    </tr>\n",
       "    <tr>\n",
       "      <th>4</th>\n",
       "      <td>0</td>\n",
       "      <td>0_scenario_4</td>\n",
       "      <td>A red Hatchback is crossing the road (far) and...</td>\n",
       "      <td>2.885993</td>\n",
       "      <td>27.858975</td>\n",
       "      <td>2.84</td>\n",
       "      <td>False</td>\n",
       "      <td>None</td>\n",
       "      <td>0.0</td>\n",
       "      <td>dto</td>\n",
       "      <td>...</td>\n",
       "      <td>0.0</td>\n",
       "      <td>-0.007</td>\n",
       "      <td>-0.000</td>\n",
       "      <td>-0.0</td>\n",
       "      <td>0.005</td>\n",
       "      <td>0.001</td>\n",
       "      <td>0.0</td>\n",
       "      <td>0.004</td>\n",
       "      <td>0.002</td>\n",
       "      <td>-0.0</td>\n",
       "    </tr>\n",
       "  </tbody>\n",
       "</table>\n",
       "<p>5 rows × 37 columns</p>\n",
       "</div>"
      ],
      "text/plain": [
       "   Execution    ScenarioID                      Configuration_API_Description  \\\n",
       "0          0  0_scenario_0  A red BoxTruck is overtaking (near) the ego ve...   \n",
       "1          0  0_scenario_1  A skyblue SUV is driving from the opposite dir...   \n",
       "2          0  0_scenario_2  A skyblue BoxTruck is driving ahead (near) of ...   \n",
       "3          0  0_scenario_3  A black SchoolBus is driving ahead (near) of t...   \n",
       "4          0  0_scenario_4  A red Hatchback is crossing the road (far) and...   \n",
       "\n",
       "   Attribute[TTC]  Attribute[DTO]  Attribute[Jerk]  Attribute[COL]  \\\n",
       "0   100000.000000       24.810964             3.48           False   \n",
       "1   100000.000000        8.654072             1.04           False   \n",
       "2        2.103269       10.209357             4.98           False   \n",
       "3        7.452645       17.011425             2.42           False   \n",
       "4        2.885993       27.858975             2.84           False   \n",
       "\n",
       "  Attribute[COLT]  Attribute[SAC] reward  ... av3z   av4x   av4y  av4z   av5x  \\\n",
       "0            None             0.0    dto  ...  0.0 -0.001 -0.002   0.0  0.003   \n",
       "1            None             0.0    dto  ... -0.0 -0.000 -0.000   0.0  0.001   \n",
       "2            None             0.0    dto  ...  0.0  0.006 -0.003   0.0  0.012   \n",
       "3            None             0.0    dto  ...  0.0  0.000 -0.000   0.0  0.000   \n",
       "4            None             0.0    dto  ...  0.0 -0.007 -0.000  -0.0  0.005   \n",
       "\n",
       "    av5y  av5z   av6x   av6y  av6z  \n",
       "0 -0.002   0.0 -0.000 -0.001   0.0  \n",
       "1 -0.001   0.0  0.000 -0.002   0.0  \n",
       "2 -0.002   0.0  0.003 -0.001  -0.0  \n",
       "3 -0.000   0.0 -0.001 -0.000   0.0  \n",
       "4  0.001   0.0  0.004  0.002  -0.0  \n",
       "\n",
       "[5 rows x 37 columns]"
      ]
     },
     "execution_count": 5,
     "metadata": {},
     "output_type": "execute_result"
    }
   ],
   "source": [
    "dm.addFromXML(\"../data/dataFromXML.csv\")\n",
    "dm.data.head(5)"
   ]
  },
  {
   "cell_type": "code",
   "execution_count": 6,
   "metadata": {},
   "outputs": [
    {
     "name": "stdout",
     "output_type": "stream",
     "text": [
      "<class 'pandas.core.frame.DataFrame'>\n",
      "Int64Index: 33530 entries, 0 to 33529\n",
      "Data columns (total 37 columns):\n",
      " #   Column                         Non-Null Count  Dtype  \n",
      "---  ------                         --------------  -----  \n",
      " 0   Execution                      33530 non-null  int64  \n",
      " 1   ScenarioID                     33530 non-null  object \n",
      " 2   Configuration_API_Description  33530 non-null  object \n",
      " 3   Attribute[TTC]                 33530 non-null  float64\n",
      " 4   Attribute[DTO]                 33530 non-null  float64\n",
      " 5   Attribute[Jerk]                33530 non-null  float64\n",
      " 6   Attribute[COL]                 33530 non-null  bool   \n",
      " 7   Attribute[COLT]                33530 non-null  object \n",
      " 8   Attribute[SAC]                 33530 non-null  float64\n",
      " 9   reward                         33530 non-null  object \n",
      " 10  road                           33530 non-null  object \n",
      " 11  strategy                       33530 non-null  object \n",
      " 12  scenario                       33530 non-null  object \n",
      " 13  speed1                         33530 non-null  float64\n",
      " 14  speed2                         33530 non-null  float64\n",
      " 15  speed3                         33530 non-null  float64\n",
      " 16  speed4                         33530 non-null  float64\n",
      " 17  speed5                         33530 non-null  float64\n",
      " 18  speed6                         33530 non-null  float64\n",
      " 19  av1x                           33530 non-null  float64\n",
      " 20  av1y                           33530 non-null  float64\n",
      " 21  av1z                           33530 non-null  float64\n",
      " 22  av2x                           33530 non-null  float64\n",
      " 23  av2y                           33530 non-null  float64\n",
      " 24  av2z                           33530 non-null  float64\n",
      " 25  av3x                           33530 non-null  float64\n",
      " 26  av3y                           33530 non-null  float64\n",
      " 27  av3z                           33530 non-null  float64\n",
      " 28  av4x                           33530 non-null  float64\n",
      " 29  av4y                           33530 non-null  float64\n",
      " 30  av4z                           33530 non-null  float64\n",
      " 31  av5x                           33530 non-null  float64\n",
      " 32  av5y                           33530 non-null  float64\n",
      " 33  av5z                           33530 non-null  float64\n",
      " 34  av6x                           33530 non-null  float64\n",
      " 35  av6y                           33530 non-null  float64\n",
      " 36  av6z                           33530 non-null  float64\n",
      "dtypes: bool(1), float64(28), int64(1), object(7)\n",
      "memory usage: 10.5+ MB\n"
     ]
    }
   ],
   "source": [
    "dm.data.info()"
   ]
  },
  {
   "cell_type": "code",
   "execution_count": 7,
   "metadata": {},
   "outputs": [
    {
     "data": {
      "text/plain": [
       "Attribute[TTC]  Attribute[COL]\n",
       "0.0             True              1050\n",
       "dtype: int64"
      ]
     },
     "execution_count": 7,
     "metadata": {},
     "output_type": "execute_result"
    }
   ],
   "source": [
    "dm.data.loc[dm.data[\"Attribute[COL]\"] == True].value_counts([\"Attribute[TTC]\", \"Attribute[COL]\"])"
   ]
  },
  {
   "cell_type": "code",
   "execution_count": 8,
   "metadata": {},
   "outputs": [
    {
     "name": "stderr",
     "output_type": "stream",
     "text": [
      "C:\\Users\\Yohannes\\AppData\\Local\\Temp/ipykernel_2524/4175488753.py:1: FutureWarning: The default value of numeric_only in DataFrame.corr is deprecated. In a future version, it will default to False. Select only valid columns or specify the value of numeric_only to silence this warning.\n",
      "  dm.data.corr()[\"Attribute[COL]\"].plot(kind=\"bar\")\n"
     ]
    },
    {
     "data": {
      "text/plain": [
       "<AxesSubplot:>"
      ]
     },
     "execution_count": 8,
     "metadata": {},
     "output_type": "execute_result"
    },
    {
     "data": {
      "image/png": "[encoded data removed]",
      "text/plain": [
       "<Figure size 432x288 with 1 Axes>"
      ]
     },
     "metadata": {
      "needs_background": "light"
     },
     "output_type": "display_data"
    }
   ],
   "source": [
    "dm.data.corr()[\"Attribute[COL]\"].plot(kind=\"bar\")"
   ]
  },
  {
   "cell_type": "code",
   "execution_count": 9,
   "metadata": {},
   "outputs": [
    {
     "data": {
      "text/html": [
       "<div>\n",
       "<style scoped>\n",
       "    .dataframe tbody tr th:only-of-type {\n",
       "        vertical-align: middle;\n",
       "    }\n",
       "\n",
       "    .dataframe tbody tr th {\n",
       "        vertical-align: top;\n",
       "    }\n",
       "\n",
       "    .dataframe thead th {\n",
       "        text-align: right;\n",
       "    }\n",
       "</style>\n",
       "<table border=\"1\" class=\"dataframe\">\n",
       "  <thead>\n",
       "    <tr style=\"text-align: right;\">\n",
       "      <th>Attribute[COL]</th>\n",
       "      <th>False</th>\n",
       "      <th>True</th>\n",
       "    </tr>\n",
       "    <tr>\n",
       "      <th>strategy</th>\n",
       "      <th></th>\n",
       "      <th></th>\n",
       "    </tr>\n",
       "  </thead>\n",
       "  <tbody>\n",
       "    <tr>\n",
       "      <th>greedy</th>\n",
       "      <td>13070</td>\n",
       "      <td>192</td>\n",
       "    </tr>\n",
       "    <tr>\n",
       "      <th>random</th>\n",
       "      <td>13407</td>\n",
       "      <td>158</td>\n",
       "    </tr>\n",
       "    <tr>\n",
       "      <th>rl_based</th>\n",
       "      <td>6003</td>\n",
       "      <td>700</td>\n",
       "    </tr>\n",
       "  </tbody>\n",
       "</table>\n",
       "</div>"
      ],
      "text/plain": [
       "Attribute[COL]  False  True \n",
       "strategy                    \n",
       "greedy          13070    192\n",
       "random          13407    158\n",
       "rl_based         6003    700"
      ]
     },
     "execution_count": 9,
     "metadata": {},
     "output_type": "execute_result"
    }
   ],
   "source": [
    "dm.data.groupby(['strategy', 'Attribute[COL]']).size().unstack()"
   ]
  },
  {
   "cell_type": "code",
   "execution_count": 10,
   "metadata": {},
   "outputs": [
    {
     "data": {
      "text/plain": [
       "Attribute[COL]\n",
       "False    32480\n",
       "True      1050\n",
       "dtype: int64"
      ]
     },
     "execution_count": 10,
     "metadata": {},
     "output_type": "execute_result"
    }
   ],
   "source": [
    "dm.data.value_counts(\"Attribute[COL]\")"
   ]
  },
  {
   "cell_type": "code",
   "execution_count": 11,
   "metadata": {},
   "outputs": [
    {
     "data": {
      "text/plain": [
       "Attribute[COL]\n",
       "False    10000\n",
       "True      1050\n",
       "dtype: int64"
      ]
     },
     "execution_count": 11,
     "metadata": {},
     "output_type": "execute_result"
    }
   ],
   "source": [
    "# our data is very unbalanced, we need to balance it\n",
    "# we can do this by undersampling the majority class\n",
    "dm.underSample(10000)\n",
    "dm.data.value_counts(\"Attribute[COL]\")"
   ]
  },
  {
   "cell_type": "markdown",
   "metadata": {},
   "source": [
    "## Model"
   ]
  },
  {
   "cell_type": "code",
   "execution_count": 12,
   "metadata": {},
   "outputs": [
    {
     "name": "stdout",
     "output_type": "stream",
     "text": [
      "splitting at 8840.\n",
      "trainX:(8840, 30), trainY:(8840, 4), testX:(2210, 30), testY:(2210, 4)\n"
     ]
    }
   ],
   "source": [
    "trainX, trainY, testX, testY = dm.splitTrainTest()\n",
    "print(f\"trainX:{trainX.shape}, trainY:{trainY.shape}, testX:{testX.shape}, testY:{testY.shape}\")"
   ]
  },
  {
   "cell_type": "code",
   "execution_count": 13,
   "metadata": {},
   "outputs": [
    {
     "data": {
      "text/html": [
       "<div>\n",
       "<style scoped>\n",
       "    .dataframe tbody tr th:only-of-type {\n",
       "        vertical-align: middle;\n",
       "    }\n",
       "\n",
       "    .dataframe tbody tr th {\n",
       "        vertical-align: top;\n",
       "    }\n",
       "\n",
       "    .dataframe thead th {\n",
       "        text-align: right;\n",
       "    }\n",
       "</style>\n",
       "<table border=\"1\" class=\"dataframe\">\n",
       "  <thead>\n",
       "    <tr style=\"text-align: right;\">\n",
       "      <th></th>\n",
       "      <th>Attribute[DTO]</th>\n",
       "      <th>Attribute[Jerk]</th>\n",
       "      <th>reward</th>\n",
       "      <th>road</th>\n",
       "      <th>strategy</th>\n",
       "      <th>scenario</th>\n",
       "      <th>speed1</th>\n",
       "      <th>speed2</th>\n",
       "      <th>speed3</th>\n",
       "      <th>speed4</th>\n",
       "      <th>...</th>\n",
       "      <th>av3z</th>\n",
       "      <th>av4x</th>\n",
       "      <th>av4y</th>\n",
       "      <th>av4z</th>\n",
       "      <th>av5x</th>\n",
       "      <th>av5y</th>\n",
       "      <th>av5z</th>\n",
       "      <th>av6x</th>\n",
       "      <th>av6y</th>\n",
       "      <th>av6z</th>\n",
       "    </tr>\n",
       "  </thead>\n",
       "  <tbody>\n",
       "    <tr>\n",
       "      <th>17672</th>\n",
       "      <td>11.115775</td>\n",
       "      <td>4.60</td>\n",
       "      <td>dto</td>\n",
       "      <td>road4</td>\n",
       "      <td>random</td>\n",
       "      <td>sunny_night</td>\n",
       "      <td>1.645</td>\n",
       "      <td>1.327</td>\n",
       "      <td>0.996</td>\n",
       "      <td>0.033</td>\n",
       "      <td>...</td>\n",
       "      <td>-0.000</td>\n",
       "      <td>-0.006</td>\n",
       "      <td>-0.000</td>\n",
       "      <td>-0.007</td>\n",
       "      <td>0.002</td>\n",
       "      <td>-0.000</td>\n",
       "      <td>0.003</td>\n",
       "      <td>-0.000</td>\n",
       "      <td>-0.000</td>\n",
       "      <td>-0.000</td>\n",
       "    </tr>\n",
       "    <tr>\n",
       "      <th>33206</th>\n",
       "      <td>5.632980</td>\n",
       "      <td>7.08</td>\n",
       "      <td>ttc</td>\n",
       "      <td>road4</td>\n",
       "      <td>rl_based</td>\n",
       "      <td>rain_night</td>\n",
       "      <td>13.489</td>\n",
       "      <td>12.325</td>\n",
       "      <td>12.372</td>\n",
       "      <td>11.406</td>\n",
       "      <td>...</td>\n",
       "      <td>0.048</td>\n",
       "      <td>-0.000</td>\n",
       "      <td>0.014</td>\n",
       "      <td>-0.016</td>\n",
       "      <td>-0.002</td>\n",
       "      <td>0.038</td>\n",
       "      <td>0.000</td>\n",
       "      <td>0.001</td>\n",
       "      <td>0.018</td>\n",
       "      <td>-0.001</td>\n",
       "    </tr>\n",
       "    <tr>\n",
       "      <th>19238</th>\n",
       "      <td>5.755474</td>\n",
       "      <td>2.82</td>\n",
       "      <td>jerk</td>\n",
       "      <td>road2</td>\n",
       "      <td>random</td>\n",
       "      <td>rain_night</td>\n",
       "      <td>3.380</td>\n",
       "      <td>2.724</td>\n",
       "      <td>2.205</td>\n",
       "      <td>1.992</td>\n",
       "      <td>...</td>\n",
       "      <td>-0.000</td>\n",
       "      <td>0.002</td>\n",
       "      <td>0.003</td>\n",
       "      <td>-0.001</td>\n",
       "      <td>-0.000</td>\n",
       "      <td>0.001</td>\n",
       "      <td>0.000</td>\n",
       "      <td>0.005</td>\n",
       "      <td>-0.000</td>\n",
       "      <td>-0.003</td>\n",
       "    </tr>\n",
       "    <tr>\n",
       "      <th>6375</th>\n",
       "      <td>22.361135</td>\n",
       "      <td>6.40</td>\n",
       "      <td>jerk</td>\n",
       "      <td>road2</td>\n",
       "      <td>greedy</td>\n",
       "      <td>sunny_day</td>\n",
       "      <td>7.748</td>\n",
       "      <td>6.825</td>\n",
       "      <td>7.654</td>\n",
       "      <td>8.049</td>\n",
       "      <td>...</td>\n",
       "      <td>0.003</td>\n",
       "      <td>0.010</td>\n",
       "      <td>0.000</td>\n",
       "      <td>-0.007</td>\n",
       "      <td>-0.004</td>\n",
       "      <td>0.001</td>\n",
       "      <td>0.003</td>\n",
       "      <td>0.000</td>\n",
       "      <td>0.002</td>\n",
       "      <td>-0.000</td>\n",
       "    </tr>\n",
       "    <tr>\n",
       "      <th>30583</th>\n",
       "      <td>7.051690</td>\n",
       "      <td>6.16</td>\n",
       "      <td>jerk</td>\n",
       "      <td>road3</td>\n",
       "      <td>rl_based</td>\n",
       "      <td>sunny_day</td>\n",
       "      <td>5.823</td>\n",
       "      <td>6.090</td>\n",
       "      <td>4.819</td>\n",
       "      <td>3.868</td>\n",
       "      <td>...</td>\n",
       "      <td>-0.003</td>\n",
       "      <td>0.002</td>\n",
       "      <td>-0.051</td>\n",
       "      <td>-0.000</td>\n",
       "      <td>-0.008</td>\n",
       "      <td>0.001</td>\n",
       "      <td>-0.004</td>\n",
       "      <td>0.002</td>\n",
       "      <td>0.002</td>\n",
       "      <td>0.001</td>\n",
       "    </tr>\n",
       "  </tbody>\n",
       "</table>\n",
       "<p>5 rows × 30 columns</p>\n",
       "</div>"
      ],
      "text/plain": [
       "       Attribute[DTO]  Attribute[Jerk] reward   road  strategy     scenario  \\\n",
       "17672       11.115775             4.60    dto  road4    random  sunny_night   \n",
       "33206        5.632980             7.08    ttc  road4  rl_based   rain_night   \n",
       "19238        5.755474             2.82   jerk  road2    random   rain_night   \n",
       "6375        22.361135             6.40   jerk  road2    greedy    sunny_day   \n",
       "30583        7.051690             6.16   jerk  road3  rl_based    sunny_day   \n",
       "\n",
       "       speed1  speed2  speed3  speed4  ...   av3z   av4x   av4y   av4z   av5x  \\\n",
       "17672   1.645   1.327   0.996   0.033  ... -0.000 -0.006 -0.000 -0.007  0.002   \n",
       "33206  13.489  12.325  12.372  11.406  ...  0.048 -0.000  0.014 -0.016 -0.002   \n",
       "19238   3.380   2.724   2.205   1.992  ... -0.000  0.002  0.003 -0.001 -0.000   \n",
       "6375    7.748   6.825   7.654   8.049  ...  0.003  0.010  0.000 -0.007 -0.004   \n",
       "30583   5.823   6.090   4.819   3.868  ... -0.003  0.002 -0.051 -0.000 -0.008   \n",
       "\n",
       "        av5y   av5z   av6x   av6y   av6z  \n",
       "17672 -0.000  0.003 -0.000 -0.000 -0.000  \n",
       "33206  0.038  0.000  0.001  0.018 -0.001  \n",
       "19238  0.001  0.000  0.005 -0.000 -0.003  \n",
       "6375   0.001  0.003  0.000  0.002 -0.000  \n",
       "30583  0.001 -0.004  0.002  0.002  0.001  \n",
       "\n",
       "[5 rows x 30 columns]"
      ]
     },
     "execution_count": 13,
     "metadata": {},
     "output_type": "execute_result"
    }
   ],
   "source": [
    "trainX.head()"
   ]
  },
  {
   "cell_type": "code",
   "execution_count": 14,
   "metadata": {},
   "outputs": [
    {
     "name": "stdout",
     "output_type": "stream",
     "text": [
      "Scaler is fitted\n"
     ]
    },
    {
     "name": "stderr",
     "output_type": "stream",
     "text": [
      "c:\\Users\\Yohannes\\anaconda3\\envs\\MasterThesis\\lib\\site-packages\\sklearn\\neural_network\\_multilayer_perceptron.py:679: ConvergenceWarning: Stochastic Optimizer: Maximum iterations (200) reached and the optimization hasn't converged yet.\n",
      "  warnings.warn(\n"
     ]
    }
   ],
   "source": [
    "model = Predicter()\n",
    "x, y = model.preProcess(trainX, trainY) # some last preprocessing (scaling and label encoding)\n",
    "testX, testY = model.preProcess(testX, testY)\n",
    "\n",
    "model.fit(x, y)"
   ]
  },
  {
   "cell_type": "code",
   "execution_count": 15,
   "metadata": {},
   "outputs": [
    {
     "name": "stdout",
     "output_type": "stream",
     "text": [
      "x:[[-0.17636761 -0.21430771 -1.08528788 -1.19975485 -1.37339082 -1.64627613\n",
      "  -1.60094743 -1.11421075 -0.77130207  0.13529001 -1.09232359 -0.01348654\n",
      "   0.08776564  0.01304309  0.0122421   0.06794519  0.0034115  -0.25481403\n",
      "   0.10755213 -0.30246538  0.10984041  0.12361256  0.13730256  0.02635185\n",
      "   0.10474023  0.01053823]\n",
      " [-0.64918194  0.51685584  2.28910976  2.03185925  2.19412116  1.90631478\n",
      "   1.64850282  1.37923473  0.49967998  0.44286341 -0.27819224 -0.26949041\n",
      "  -0.94223151  0.3789119  -0.14018064  2.36692241  2.7871989  -0.01921155\n",
      "   0.23317527 -0.67274568 -0.11192257  0.48525312 -0.0061277   0.1064035\n",
      "   0.2838819  -0.05190008]],\n",
      "\n",
      "y:[0 0 0 0 1],\n",
      "\n",
      "testX:[[ 5.58567677e-01  7.46818565e-01 -5.76165238e-01 -1.34891287e-01\n",
      "   2.16874058e-01  6.84945707e-01  8.58729128e-01  8.75243563e-01\n",
      "   7.53876385e-01 -3.28350661e+00 -1.63507783e+00  6.33146224e-02\n",
      "  -2.60874374e+00  3.52778414e-01 -9.53101929e-01 -2.14101183e+00\n",
      "  -7.50530917e-01  1.37856769e-01 -2.45874916e+00  2.66726541e-02\n",
      "  -1.04108186e-03 -4.47398850e-01 -1.49557951e-01  2.63518452e-02\n",
      "  -3.72970879e-01 -5.19000778e-02]\n",
      " [-4.14285759e-01 -2.55583067e-01 -7.73318494e-01 -1.03932011e+00\n",
      "  -1.16892371e+00 -1.20645832e+00 -1.12574461e+00 -1.11568354e+00\n",
      "  -8.71284070e-03  8.79710236e-02 -2.78192244e-01  3.77142354e-02\n",
      "   7.04061358e-02  6.53100655e-02  1.22420980e-02  6.10205618e-02\n",
      "   6.14070750e-02 -1.92115523e-02  9.85790439e-02 -1.44696007e-02\n",
      "  -1.04108186e-03  1.14095702e-01 -6.12769531e-03  2.63518452e-02\n",
      "   9.47879179e-02 -5.19000778e-02]],\n",
      "\n",
      "testY:[0 0 0 0 0]\n"
     ]
    }
   ],
   "source": [
    "# print sample of x, y, testX, testY\n",
    "print(f\"x:{x[:2]},\\n\\ny:{y[:5]},\\n\\ntestX:{testX[:2]},\\n\\ntestY:{testY[:5]}\")"
   ]
  },
  {
   "cell_type": "code",
   "execution_count": 16,
   "metadata": {},
   "outputs": [
    {
     "data": {
      "text/plain": [
       "<matplotlib.collections.PathCollection at 0x11fb79ca880>"
      ]
     },
     "execution_count": 16,
     "metadata": {},
     "output_type": "execute_result"
    },
    {
     "data": {
      "image/png": "[encoded data removed]",
      "text/plain": [
       "<Figure size 432x288 with 1 Axes>"
      ]
     },
     "metadata": {
      "needs_background": "light"
     },
     "output_type": "display_data"
    }
   ],
   "source": [
    "# plot scatter of x and y\n",
    "plt.scatter(x[:,0], x[:,1], c=y, cmap=plt.cm.Paired)"
   ]
  },
  {
   "cell_type": "code",
   "execution_count": 17,
   "metadata": {},
   "outputs": [
    {
     "name": "stdout",
     "output_type": "stream",
     "text": [
      "Total: 2210, number of collisions: 232\n",
      "\tTN: 1957 \t| FP: 21 \n",
      "\tFN: 61 \t| TP: 171\n",
      "Accuracy: 0.96\n",
      "Precision: 0.89\n",
      "Recall: 0.74\n",
      "F1: 0.81\n"
     ]
    }
   ],
   "source": [
    "pred = model.predict(testX)\n",
    "score = model.getScore(pred, testY)"
   ]
  },
  {
   "cell_type": "code",
   "execution_count": 18,
   "metadata": {},
   "outputs": [
    {
     "name": "stdout",
     "output_type": "stream",
     "text": [
      "Model saved!\n"
     ]
    }
   ],
   "source": [
    "# model_score = TN-FP-FN-TP\n",
    "model_score = f\"{score[0][0]}-{score[0][1]}-{score[1][0]}-{score[1][1]}\"\n",
    "model.saveModel(\"MLPClassifier\", accuracy=model_score)"
   ]
  },
  {
   "cell_type": "markdown",
   "metadata": {},
   "source": [
    "## Paramter Tuning"
   ]
  },
  {
   "cell_type": "markdown",
   "metadata": {},
   "source": [
    "https://panjeh.medium.com/scikit-learn-hyperparameter-optimization-for-mlpclassifier-4d670413042b"
   ]
  },
  {
   "cell_type": "code",
   "execution_count": 23,
   "metadata": {},
   "outputs": [
    {
     "data": {
      "text/plain": [
       "{'activation': ['relu'],\n",
       " 'alpha': [0.0001],\n",
       " 'batch_size': ['auto'],\n",
       " 'beta_1': [0.9],\n",
       " 'beta_2': [0.999],\n",
       " 'early_stopping': [False],\n",
       " 'epsilon': [1e-08],\n",
       " 'hidden_layer_sizes': [(100,)],\n",
       " 'learning_rate': ['constant'],\n",
       " 'learning_rate_init': [0.001],\n",
       " 'max_fun': [15000],\n",
       " 'max_iter': [200],\n",
       " 'momentum': [0.9],\n",
       " 'n_iter_no_change': [10],\n",
       " 'nesterovs_momentum': [True],\n",
       " 'power_t': [0.5],\n",
       " 'random_state': [None],\n",
       " 'shuffle': [True],\n",
       " 'solver': ['adam'],\n",
       " 'tol': [0.0001],\n",
       " 'validation_fraction': [0.1],\n",
       " 'verbose': [False],\n",
       " 'warm_start': [False]}"
      ]
     },
     "execution_count": 23,
     "metadata": {},
     "output_type": "execute_result"
    }
   ],
   "source": [
    "curr_params = model.model.get_params()\n",
    "\n",
    "# loop through all the parameters and change each value to a list of the value\n",
    "curr_params = dict((key, [value]) for (key, value) in curr_params.items())\n",
    "curr_params"
   ]
  },
  {
   "cell_type": "code",
   "execution_count": 24,
   "metadata": {},
   "outputs": [
    {
     "name": "stderr",
     "output_type": "stream",
     "text": [
      "c:\\Users\\Yohannes\\anaconda3\\envs\\MasterThesis\\lib\\site-packages\\sklearn\\neural_network\\_multilayer_perceptron.py:679: ConvergenceWarning: Stochastic Optimizer: Maximum iterations (200) reached and the optimization hasn't converged yet.\n",
      "  warnings.warn(\n"
     ]
    },
    {
     "data": {
      "text/html": [
       "<style>#sk-container-id-1 {color: black;background-color: white;}#sk-container-id-1 pre{padding: 0;}#sk-container-id-1 div.sk-toggleable {background-color: white;}#sk-container-id-1 label.sk-toggleable__label {cursor: pointer;display: block;width: 100%;margin-bottom: 0;padding: 0.3em;box-sizing: border-box;text-align: center;}#sk-container-id-1 label.sk-toggleable__label-arrow:before {content: \"▸\";float: left;margin-right: 0.25em;color: #696969;}#sk-container-id-1 label.sk-toggleable__label-arrow:hover:before {color: black;}#sk-container-id-1 div.sk-estimator:hover label.sk-toggleable__label-arrow:before {color: black;}#sk-container-id-1 div.sk-toggleable__content {max-height: 0;max-width: 0;overflow: hidden;text-align: left;background-color: #f0f8ff;}#sk-container-id-1 div.sk-toggleable__content pre {margin: 0.2em;color: black;border-radius: 0.25em;background-color: #f0f8ff;}#sk-container-id-1 input.sk-toggleable__control:checked~div.sk-toggleable__content {max-height: 200px;max-width: 100%;overflow: auto;}#sk-container-id-1 input.sk-toggleable__control:checked~label.sk-toggleable__label-arrow:before {content: \"▾\";}#sk-container-id-1 div.sk-estimator input.sk-toggleable__control:checked~label.sk-toggleable__label {background-color: #d4ebff;}#sk-container-id-1 div.sk-label input.sk-toggleable__control:checked~label.sk-toggleable__label {background-color: #d4ebff;}#sk-container-id-1 input.sk-hidden--visually {border: 0;clip: rect(1px 1px 1px 1px);clip: rect(1px, 1px, 1px, 1px);height: 1px;margin: -1px;overflow: hidden;padding: 0;position: absolute;width: 1px;}#sk-container-id-1 div.sk-estimator {font-family: monospace;background-color: #f0f8ff;border: 1px dotted black;border-radius: 0.25em;box-sizing: border-box;margin-bottom: 0.5em;}#sk-container-id-1 div.sk-estimator:hover {background-color: #d4ebff;}#sk-container-id-1 div.sk-parallel-item::after {content: \"\";width: 100%;border-bottom: 1px solid gray;flex-grow: 1;}#sk-container-id-1 div.sk-label:hover label.sk-toggleable__label {background-color: #d4ebff;}#sk-container-id-1 div.sk-serial::before {content: \"\";position: absolute;border-left: 1px solid gray;box-sizing: border-box;top: 0;bottom: 0;left: 50%;z-index: 0;}#sk-container-id-1 div.sk-serial {display: flex;flex-direction: column;align-items: center;background-color: white;padding-right: 0.2em;padding-left: 0.2em;position: relative;}#sk-container-id-1 div.sk-item {position: relative;z-index: 1;}#sk-container-id-1 div.sk-parallel {display: flex;align-items: stretch;justify-content: center;background-color: white;position: relative;}#sk-container-id-1 div.sk-item::before, #sk-container-id-1 div.sk-parallel-item::before {content: \"\";position: absolute;border-left: 1px solid gray;box-sizing: border-box;top: 0;bottom: 0;left: 50%;z-index: -1;}#sk-container-id-1 div.sk-parallel-item {display: flex;flex-direction: column;z-index: 1;position: relative;background-color: white;}#sk-container-id-1 div.sk-parallel-item:first-child::after {align-self: flex-end;width: 50%;}#sk-container-id-1 div.sk-parallel-item:last-child::after {align-self: flex-start;width: 50%;}#sk-container-id-1 div.sk-parallel-item:only-child::after {width: 0;}#sk-container-id-1 div.sk-dashed-wrapped {border: 1px dashed gray;margin: 0 0.4em 0.5em 0.4em;box-sizing: border-box;padding-bottom: 0.4em;background-color: white;}#sk-container-id-1 div.sk-label label {font-family: monospace;font-weight: bold;display: inline-block;line-height: 1.2em;}#sk-container-id-1 div.sk-label-container {text-align: center;}#sk-container-id-1 div.sk-container {/* jupyter's `normalize.less` sets `[hidden] { display: none; }` but bootstrap.min.css set `[hidden] { display: none !important; }` so we also need the `!important` here to be able to override the default hidden behavior on the sphinx rendered scikit-learn.org. See: https://github.com/scikit-learn/scikit-learn/issues/21755 */display: inline-block !important;position: relative;}#sk-container-id-1 div.sk-text-repr-fallback {display: none;}</style><div id=\"sk-container-id-1\" class=\"sk-top-container\"><div class=\"sk-text-repr-fallback\"><pre>GridSearchCV(cv=5, estimator=MLPClassifier(), n_jobs=-1,\n",
       "             param_grid={&#x27;activation&#x27;: [&#x27;relu&#x27;], &#x27;alpha&#x27;: [0.0001],\n",
       "                         &#x27;batch_size&#x27;: [&#x27;auto&#x27;], &#x27;beta_1&#x27;: [0.9],\n",
       "                         &#x27;beta_2&#x27;: [0.999], &#x27;early_stopping&#x27;: [False],\n",
       "                         &#x27;epsilon&#x27;: [1e-08], &#x27;hidden_layer_sizes&#x27;: [(100,)],\n",
       "                         &#x27;learning_rate&#x27;: [&#x27;constant&#x27;],\n",
       "                         &#x27;learning_rate_init&#x27;: [0.001], &#x27;max_fun&#x27;: [15000],\n",
       "                         &#x27;max_iter&#x27;: [200], &#x27;momentum&#x27;: [0.9],\n",
       "                         &#x27;n_iter_no_change&#x27;: [10], &#x27;nesterovs_momentum&#x27;: [True],\n",
       "                         &#x27;power_t&#x27;: [0.5], &#x27;random_state&#x27;: [None],\n",
       "                         &#x27;shuffle&#x27;: [True], &#x27;solver&#x27;: [&#x27;adam&#x27;], &#x27;tol&#x27;: [0.0001],\n",
       "                         &#x27;validation_fraction&#x27;: [0.1], &#x27;verbose&#x27;: [False],\n",
       "                         &#x27;warm_start&#x27;: [False]})</pre><b>In a Jupyter environment, please rerun this cell to show the HTML representation or trust the notebook. <br />On GitHub, the HTML representation is unable to render, please try loading this page with nbviewer.org.</b></div><div class=\"sk-container\" hidden><div class=\"sk-item sk-dashed-wrapped\"><div class=\"sk-label-container\"><div class=\"sk-label sk-toggleable\"><input class=\"sk-toggleable__control sk-hidden--visually\" id=\"sk-estimator-id-1\" type=\"checkbox\" ><label for=\"sk-estimator-id-1\" class=\"sk-toggleable__label sk-toggleable__label-arrow\">GridSearchCV</label><div class=\"sk-toggleable__content\"><pre>GridSearchCV(cv=5, estimator=MLPClassifier(), n_jobs=-1,\n",
       "             param_grid={&#x27;activation&#x27;: [&#x27;relu&#x27;], &#x27;alpha&#x27;: [0.0001],\n",
       "                         &#x27;batch_size&#x27;: [&#x27;auto&#x27;], &#x27;beta_1&#x27;: [0.9],\n",
       "                         &#x27;beta_2&#x27;: [0.999], &#x27;early_stopping&#x27;: [False],\n",
       "                         &#x27;epsilon&#x27;: [1e-08], &#x27;hidden_layer_sizes&#x27;: [(100,)],\n",
       "                         &#x27;learning_rate&#x27;: [&#x27;constant&#x27;],\n",
       "                         &#x27;learning_rate_init&#x27;: [0.001], &#x27;max_fun&#x27;: [15000],\n",
       "                         &#x27;max_iter&#x27;: [200], &#x27;momentum&#x27;: [0.9],\n",
       "                         &#x27;n_iter_no_change&#x27;: [10], &#x27;nesterovs_momentum&#x27;: [True],\n",
       "                         &#x27;power_t&#x27;: [0.5], &#x27;random_state&#x27;: [None],\n",
       "                         &#x27;shuffle&#x27;: [True], &#x27;solver&#x27;: [&#x27;adam&#x27;], &#x27;tol&#x27;: [0.0001],\n",
       "                         &#x27;validation_fraction&#x27;: [0.1], &#x27;verbose&#x27;: [False],\n",
       "                         &#x27;warm_start&#x27;: [False]})</pre></div></div></div><div class=\"sk-parallel\"><div class=\"sk-parallel-item\"><div class=\"sk-item\"><div class=\"sk-label-container\"><div class=\"sk-label sk-toggleable\"><input class=\"sk-toggleable__control sk-hidden--visually\" id=\"sk-estimator-id-2\" type=\"checkbox\" ><label for=\"sk-estimator-id-2\" class=\"sk-toggleable__label sk-toggleable__label-arrow\">estimator: MLPClassifier</label><div class=\"sk-toggleable__content\"><pre>MLPClassifier()</pre></div></div></div><div class=\"sk-serial\"><div class=\"sk-item\"><div class=\"sk-estimator sk-toggleable\"><input class=\"sk-toggleable__control sk-hidden--visually\" id=\"sk-estimator-id-3\" type=\"checkbox\" ><label for=\"sk-estimator-id-3\" class=\"sk-toggleable__label sk-toggleable__label-arrow\">MLPClassifier</label><div class=\"sk-toggleable__content\"><pre>MLPClassifier()</pre></div></div></div></div></div></div></div></div></div></div>"
      ],
      "text/plain": [
       "GridSearchCV(cv=5, estimator=MLPClassifier(), n_jobs=-1,\n",
       "             param_grid={'activation': ['relu'], 'alpha': [0.0001],\n",
       "                         'batch_size': ['auto'], 'beta_1': [0.9],\n",
       "                         'beta_2': [0.999], 'early_stopping': [False],\n",
       "                         'epsilon': [1e-08], 'hidden_layer_sizes': [(100,)],\n",
       "                         'learning_rate': ['constant'],\n",
       "                         'learning_rate_init': [0.001], 'max_fun': [15000],\n",
       "                         'max_iter': [200], 'momentum': [0.9],\n",
       "                         'n_iter_no_change': [10], 'nesterovs_momentum': [True],\n",
       "                         'power_t': [0.5], 'random_state': [None],\n",
       "                         'shuffle': [True], 'solver': ['adam'], 'tol': [0.0001],\n",
       "                         'validation_fraction': [0.1], 'verbose': [False],\n",
       "                         'warm_start': [False]})"
      ]
     },
     "execution_count": 24,
     "metadata": {},
     "output_type": "execute_result"
    }
   ],
   "source": [
    "from sklearn.model_selection import GridSearchCV\n",
    "clf = GridSearchCV(model.model, curr_params, n_jobs=-1, cv=5)\n",
    "clf.fit(x, y)"
   ]
  },
  {
   "cell_type": "code",
   "execution_count": 25,
   "metadata": {},
   "outputs": [
    {
     "data": {
      "text/plain": [
       "{'activation': 'relu',\n",
       " 'alpha': 0.0001,\n",
       " 'batch_size': 'auto',\n",
       " 'beta_1': 0.9,\n",
       " 'beta_2': 0.999,\n",
       " 'early_stopping': False,\n",
       " 'epsilon': 1e-08,\n",
       " 'hidden_layer_sizes': (100,),\n",
       " 'learning_rate': 'constant',\n",
       " 'learning_rate_init': 0.001,\n",
       " 'max_fun': 15000,\n",
       " 'max_iter': 200,\n",
       " 'momentum': 0.9,\n",
       " 'n_iter_no_change': 10,\n",
       " 'nesterovs_momentum': True,\n",
       " 'power_t': 0.5,\n",
       " 'random_state': None,\n",
       " 'shuffle': True,\n",
       " 'solver': 'adam',\n",
       " 'tol': 0.0001,\n",
       " 'validation_fraction': 0.1,\n",
       " 'verbose': False,\n",
       " 'warm_start': False}"
      ]
     },
     "execution_count": 25,
     "metadata": {},
     "output_type": "execute_result"
    }
   ],
   "source": [
    "clf.best_params_"
   ]
  },
  {
   "cell_type": "code",
   "execution_count": 26,
   "metadata": {},
   "outputs": [
    {
     "name": "stdout",
     "output_type": "stream",
     "text": [
      "0.963 (+/-0.003) for {'activation': 'relu', 'alpha': 0.0001, 'batch_size': 'auto', 'beta_1': 0.9, 'beta_2': 0.999, 'early_stopping': False, 'epsilon': 1e-08, 'hidden_layer_sizes': (100,), 'learning_rate': 'constant', 'learning_rate_init': 0.001, 'max_fun': 15000, 'max_iter': 200, 'momentum': 0.9, 'n_iter_no_change': 10, 'nesterovs_momentum': True, 'power_t': 0.5, 'random_state': None, 'shuffle': True, 'solver': 'adam', 'tol': 0.0001, 'validation_fraction': 0.1, 'verbose': False, 'warm_start': False}\n"
     ]
    }
   ],
   "source": [
    "means = clf.cv_results_['mean_test_score']\n",
    "stds = clf.cv_results_['std_test_score']\n",
    "for mean, std, params in zip(means, stds, clf.cv_results_['params']):\n",
    "    print(\"%0.3f (+/-%0.03f) for %r\" % (mean, std * 2, params))"
   ]
  },
  {
   "cell_type": "code",
   "execution_count": 27,
   "metadata": {},
   "outputs": [
    {
     "name": "stdout",
     "output_type": "stream",
     "text": [
      "Results on the test set:\n",
      "              precision    recall  f1-score   support\n",
      "\n",
      "           0       0.97      0.98      0.98      1978\n",
      "           1       0.85      0.75      0.80       232\n",
      "\n",
      "    accuracy                           0.96      2210\n",
      "   macro avg       0.91      0.87      0.89      2210\n",
      "weighted avg       0.96      0.96      0.96      2210\n",
      "\n"
     ]
    }
   ],
   "source": [
    "y_true, y_pred = testY, clf.predict(testX)\n",
    "from sklearn.metrics import classification_report\n",
    "print('Results on the test set:')\n",
    "print(classification_report(y_true, y_pred))"
   ]
  },
  {
   "cell_type": "code",
   "execution_count": 28,
   "metadata": {},
   "outputs": [
    {
     "data": {
      "text/plain": [
       "0.960633484162896"
      ]
     },
     "execution_count": 28,
     "metadata": {},
     "output_type": "execute_result"
    }
   ],
   "source": [
    "score = clf.score(testX, testY)\n",
    "score"
   ]
  },
  {
   "cell_type": "markdown",
   "metadata": {},
   "source": [
    "Need to analyse, best params and default params are the same, why?"
   ]
  }
 ],
 "metadata": {
  "kernelspec": {
   "display_name": "Python 3.9.16 ('MasterThesis')",
   "language": "python",
   "name": "python3"
  },
  "language_info": {
   "codemirror_mode": {
    "name": "ipython",
    "version": 3
   },
   "file_extension": ".py",
   "mimetype": "text/x-python",
   "name": "python",
   "nbconvert_exporter": "python",
   "pygments_lexer": "ipython3",
   "version": "3.9.16"
  },
  "orig_nbformat": 4,
  "vscode": {
   "interpreter": {
    "hash": "5ea953018f845277ff9327bc0467e81b58a68076ce0c385be95779bfd3460f16"
   }
  }
 },
 "nbformat": 4,
 "nbformat_minor": 2
}
