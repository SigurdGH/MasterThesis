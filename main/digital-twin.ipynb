{
 "cells": [
  {
   "cell_type": "markdown",
   "metadata": {},
   "source": [
    "# Digital Twin model"
   ]
  },
  {
   "cell_type": "markdown",
   "metadata": {},
   "source": [
    "## Initialization"
   ]
  },
  {
   "cell_type": "code",
   "execution_count": 11,
   "metadata": {},
   "outputs": [],
   "source": [
    "import matplotlib.pyplot as plt\n",
    "import numpy as np\n",
    "import pandas as pd\n",
    "\n",
    "from ML.DTPredictor import DTPredictor\n",
    "from PreProcessing.DataManipulation import DataManipulation\n",
    "import pickle"
   ]
  },
  {
   "cell_type": "code",
   "execution_count": 12,
   "metadata": {},
   "outputs": [
    {
     "data": {
      "text/html": [
       "<div>\n",
       "<style scoped>\n",
       "    .dataframe tbody tr th:only-of-type {\n",
       "        vertical-align: middle;\n",
       "    }\n",
       "\n",
       "    .dataframe tbody tr th {\n",
       "        vertical-align: top;\n",
       "    }\n",
       "\n",
       "    .dataframe thead th {\n",
       "        text-align: right;\n",
       "    }\n",
       "</style>\n",
       "<table border=\"1\" class=\"dataframe\">\n",
       "  <thead>\n",
       "    <tr style=\"text-align: right;\">\n",
       "      <th></th>\n",
       "      <th>Execution</th>\n",
       "      <th>ScenarioID</th>\n",
       "      <th>Configuration_API_Description</th>\n",
       "      <th>Attribute[TTC]</th>\n",
       "      <th>Attribute[DTO]</th>\n",
       "      <th>Attribute[Jerk]</th>\n",
       "      <th>Attribute[COL]</th>\n",
       "      <th>Attribute[COLT]</th>\n",
       "      <th>Attribute[SAC]</th>\n",
       "      <th>reward</th>\n",
       "      <th>road</th>\n",
       "      <th>strategy</th>\n",
       "      <th>scenario</th>\n",
       "    </tr>\n",
       "  </thead>\n",
       "  <tbody>\n",
       "    <tr>\n",
       "      <th>0</th>\n",
       "      <td>0</td>\n",
       "      <td>0_scenario_0</td>\n",
       "      <td>A red BoxTruck is overtaking (near) the ego ve...</td>\n",
       "      <td>100000.000000</td>\n",
       "      <td>24.810964</td>\n",
       "      <td>3.48</td>\n",
       "      <td>False</td>\n",
       "      <td>None</td>\n",
       "      <td>0.0</td>\n",
       "      <td>dto</td>\n",
       "      <td>road1</td>\n",
       "      <td>greedy</td>\n",
       "      <td>rain_day</td>\n",
       "    </tr>\n",
       "    <tr>\n",
       "      <th>1</th>\n",
       "      <td>0</td>\n",
       "      <td>0_scenario_1</td>\n",
       "      <td>A skyblue SUV is driving from the opposite dir...</td>\n",
       "      <td>100000.000000</td>\n",
       "      <td>8.654072</td>\n",
       "      <td>1.04</td>\n",
       "      <td>False</td>\n",
       "      <td>None</td>\n",
       "      <td>0.0</td>\n",
       "      <td>dto</td>\n",
       "      <td>road1</td>\n",
       "      <td>greedy</td>\n",
       "      <td>rain_day</td>\n",
       "    </tr>\n",
       "    <tr>\n",
       "      <th>2</th>\n",
       "      <td>0</td>\n",
       "      <td>0_scenario_2</td>\n",
       "      <td>A skyblue BoxTruck is driving ahead (near) of ...</td>\n",
       "      <td>2.103269</td>\n",
       "      <td>10.209357</td>\n",
       "      <td>4.98</td>\n",
       "      <td>False</td>\n",
       "      <td>None</td>\n",
       "      <td>0.0</td>\n",
       "      <td>dto</td>\n",
       "      <td>road1</td>\n",
       "      <td>greedy</td>\n",
       "      <td>rain_day</td>\n",
       "    </tr>\n",
       "  </tbody>\n",
       "</table>\n",
       "</div>"
      ],
      "text/plain": [
       "   Execution    ScenarioID                      Configuration_API_Description  \\\n",
       "0          0  0_scenario_0  A red BoxTruck is overtaking (near) the ego ve...   \n",
       "1          0  0_scenario_1  A skyblue SUV is driving from the opposite dir...   \n",
       "2          0  0_scenario_2  A skyblue BoxTruck is driving ahead (near) of ...   \n",
       "\n",
       "   Attribute[TTC]  Attribute[DTO]  Attribute[Jerk]  Attribute[COL]  \\\n",
       "0   100000.000000       24.810964             3.48           False   \n",
       "1   100000.000000        8.654072             1.04           False   \n",
       "2        2.103269       10.209357             4.98           False   \n",
       "\n",
       "  Attribute[COLT]  Attribute[SAC] reward   road strategy  scenario  \n",
       "0            None             0.0    dto  road1   greedy  rain_day  \n",
       "1            None             0.0    dto  road1   greedy  rain_day  \n",
       "2            None             0.0    dto  road1   greedy  rain_day  "
      ]
     },
     "execution_count": 12,
     "metadata": {},
     "output_type": "execute_result"
    }
   ],
   "source": [
    "dm = DataManipulation(\"../data/deep-scenario.csv\")\n",
    "dm.data.head(3)"
   ]
  },
  {
   "cell_type": "markdown",
   "metadata": {},
   "source": [
    "## Data Manipulation"
   ]
  },
  {
   "cell_type": "code",
   "execution_count": 13,
   "metadata": {},
   "outputs": [],
   "source": [
    "dm.addFromXML(\"../data/dataFromXML.csv\")"
   ]
  },
  {
   "cell_type": "code",
   "execution_count": 14,
   "metadata": {},
   "outputs": [
    {
     "data": {
      "text/html": [
       "<div>\n",
       "<style scoped>\n",
       "    .dataframe tbody tr th:only-of-type {\n",
       "        vertical-align: middle;\n",
       "    }\n",
       "\n",
       "    .dataframe tbody tr th {\n",
       "        vertical-align: top;\n",
       "    }\n",
       "\n",
       "    .dataframe thead th {\n",
       "        text-align: right;\n",
       "    }\n",
       "</style>\n",
       "<table border=\"1\" class=\"dataframe\">\n",
       "  <thead>\n",
       "    <tr style=\"text-align: right;\">\n",
       "      <th></th>\n",
       "      <th>Attribute[DTO]</th>\n",
       "      <th>speed1</th>\n",
       "      <th>speed2</th>\n",
       "      <th>speed3</th>\n",
       "      <th>speed4</th>\n",
       "      <th>speed5</th>\n",
       "      <th>speed6</th>\n",
       "      <th>Attribute[SAC]</th>\n",
       "    </tr>\n",
       "  </thead>\n",
       "  <tbody>\n",
       "    <tr>\n",
       "      <th>268</th>\n",
       "      <td>1.295431</td>\n",
       "      <td>2.623626</td>\n",
       "      <td>3.582205</td>\n",
       "      <td>3.469742</td>\n",
       "      <td>2.785889</td>\n",
       "      <td>3.443</td>\n",
       "      <td>4.764</td>\n",
       "      <td>4.442793</td>\n",
       "    </tr>\n",
       "    <tr>\n",
       "      <th>273</th>\n",
       "      <td>1.331153</td>\n",
       "      <td>1.536797</td>\n",
       "      <td>1.481917</td>\n",
       "      <td>1.723328</td>\n",
       "      <td>1.945000</td>\n",
       "      <td>3.981</td>\n",
       "      <td>5.591</td>\n",
       "      <td>2.346909</td>\n",
       "    </tr>\n",
       "    <tr>\n",
       "      <th>477</th>\n",
       "      <td>1.411721</td>\n",
       "      <td>1.735009</td>\n",
       "      <td>0.914792</td>\n",
       "      <td>1.804000</td>\n",
       "      <td>2.700000</td>\n",
       "      <td>3.077</td>\n",
       "      <td>4.397</td>\n",
       "      <td>2.378859</td>\n",
       "    </tr>\n",
       "    <tr>\n",
       "      <th>1406</th>\n",
       "      <td>4.095299</td>\n",
       "      <td>2.743850</td>\n",
       "      <td>3.850416</td>\n",
       "      <td>3.298107</td>\n",
       "      <td>3.749705</td>\n",
       "      <td>3.705</td>\n",
       "      <td>4.302</td>\n",
       "      <td>3.715036</td>\n",
       "    </tr>\n",
       "    <tr>\n",
       "      <th>1662</th>\n",
       "      <td>1.378684</td>\n",
       "      <td>1.628659</td>\n",
       "      <td>2.188346</td>\n",
       "      <td>2.626000</td>\n",
       "      <td>3.734000</td>\n",
       "      <td>5.172</td>\n",
       "      <td>5.616</td>\n",
       "      <td>3.522738</td>\n",
       "    </tr>\n",
       "    <tr>\n",
       "      <th>1961</th>\n",
       "      <td>1.473800</td>\n",
       "      <td>5.087671</td>\n",
       "      <td>4.348258</td>\n",
       "      <td>5.423379</td>\n",
       "      <td>5.005000</td>\n",
       "      <td>6.832</td>\n",
       "      <td>6.982</td>\n",
       "      <td>5.225631</td>\n",
       "    </tr>\n",
       "    <tr>\n",
       "      <th>2000</th>\n",
       "      <td>50.289233</td>\n",
       "      <td>0.082000</td>\n",
       "      <td>1.422000</td>\n",
       "      <td>2.504000</td>\n",
       "      <td>0.007000</td>\n",
       "      <td>0.003</td>\n",
       "      <td>0.001</td>\n",
       "      <td>1.340647</td>\n",
       "    </tr>\n",
       "    <tr>\n",
       "      <th>2001</th>\n",
       "      <td>25.204523</td>\n",
       "      <td>0.135000</td>\n",
       "      <td>1.481000</td>\n",
       "      <td>2.582000</td>\n",
       "      <td>0.003000</td>\n",
       "      <td>0.002</td>\n",
       "      <td>0.005</td>\n",
       "      <td>0.217742</td>\n",
       "    </tr>\n",
       "    <tr>\n",
       "      <th>2002</th>\n",
       "      <td>27.160148</td>\n",
       "      <td>0.135000</td>\n",
       "      <td>1.557000</td>\n",
       "      <td>2.778000</td>\n",
       "      <td>0.003000</td>\n",
       "      <td>0.005</td>\n",
       "      <td>0.004</td>\n",
       "      <td>0.344920</td>\n",
       "    </tr>\n",
       "    <tr>\n",
       "      <th>2091</th>\n",
       "      <td>1.511598</td>\n",
       "      <td>3.467284</td>\n",
       "      <td>2.311596</td>\n",
       "      <td>3.271000</td>\n",
       "      <td>4.587000</td>\n",
       "      <td>6.061</td>\n",
       "      <td>7.418</td>\n",
       "      <td>3.923682</td>\n",
       "    </tr>\n",
       "  </tbody>\n",
       "</table>\n",
       "</div>"
      ],
      "text/plain": [
       "      Attribute[DTO]    speed1    speed2    speed3    speed4  speed5  speed6  \\\n",
       "268         1.295431  2.623626  3.582205  3.469742  2.785889   3.443   4.764   \n",
       "273         1.331153  1.536797  1.481917  1.723328  1.945000   3.981   5.591   \n",
       "477         1.411721  1.735009  0.914792  1.804000  2.700000   3.077   4.397   \n",
       "1406        4.095299  2.743850  3.850416  3.298107  3.749705   3.705   4.302   \n",
       "1662        1.378684  1.628659  2.188346  2.626000  3.734000   5.172   5.616   \n",
       "1961        1.473800  5.087671  4.348258  5.423379  5.005000   6.832   6.982   \n",
       "2000       50.289233  0.082000  1.422000  2.504000  0.007000   0.003   0.001   \n",
       "2001       25.204523  0.135000  1.481000  2.582000  0.003000   0.002   0.005   \n",
       "2002       27.160148  0.135000  1.557000  2.778000  0.003000   0.005   0.004   \n",
       "2091        1.511598  3.467284  2.311596  3.271000  4.587000   6.061   7.418   \n",
       "\n",
       "      Attribute[SAC]  \n",
       "268         4.442793  \n",
       "273         2.346909  \n",
       "477         2.378859  \n",
       "1406        3.715036  \n",
       "1662        3.522738  \n",
       "1961        5.225631  \n",
       "2000        1.340647  \n",
       "2001        0.217742  \n",
       "2002        0.344920  \n",
       "2091        3.923682  "
      ]
     },
     "execution_count": 14,
     "metadata": {},
     "output_type": "execute_result"
    }
   ],
   "source": [
    "ids = [268, 273, 477, 1406, 1662, 1961, 2000, 2001, 2002, 2091]\n",
    "cols = [\"Attribute[DTO]\", \"speed1\", \"speed2\", \"speed3\", \"speed4\", \"speed5\", \"speed6\", \"Attribute[SAC]\"]\n",
    "# dm.data.loc[dm.data[\"Attribute[COL]\"] == True][[\"Attribute[DTO]\", \"speed1\", \"speed2\", \"speed3\", \"speed4\", \"speed5\", \"speed6\", \"Attribute[SAC]\"]]\n",
    "dm.data.iloc[ids][cols]"
   ]
  },
  {
   "cell_type": "code",
   "execution_count": 15,
   "metadata": {},
   "outputs": [],
   "source": [
    "# dm.underSample(1000)"
   ]
  },
  {
   "cell_type": "markdown",
   "metadata": {},
   "source": [
    "## Model"
   ]
  },
  {
   "cell_type": "code",
   "execution_count": 16,
   "metadata": {},
   "outputs": [],
   "source": [
    "from sklearn.metrics import accuracy_score, precision_score, recall_score, f1_score, confusion_matrix\n",
    "from sklearn.ensemble import RandomForestClassifier\n",
    "from sklearn.svm import SVC\n",
    "from xgboost import XGBClassifier"
   ]
  },
  {
   "cell_type": "code",
   "execution_count": 17,
   "metadata": {},
   "outputs": [
    {
     "data": {
      "text/plain": [
       "Attribute[COL]\n",
       "False    3000\n",
       "True     1050\n",
       "dtype: int64"
      ]
     },
     "execution_count": 17,
     "metadata": {},
     "output_type": "execute_result"
    }
   ],
   "source": [
    "dm.underSample(3000)\n",
    "dm.data.value_counts(\"Attribute[COL]\")"
   ]
  },
  {
   "cell_type": "code",
   "execution_count": 18,
   "metadata": {},
   "outputs": [
    {
     "name": "stdout",
     "output_type": "stream",
     "text": [
      "splitting at 3240.\n",
      "trainX:(3240, 30), trainY:(3240, 4), testX:(810, 30), testY:(810, 4)\n"
     ]
    }
   ],
   "source": [
    "trainX, trainY, testX, testY = dm.splitTrainTest()\n",
    "print(f\"trainX:{trainX.shape}, trainY:{trainY.shape}, testX:{testX.shape}, testY:{testY.shape}\")"
   ]
  },
  {
   "cell_type": "markdown",
   "metadata": {},
   "source": [
    "### Random Forest"
   ]
  },
  {
   "cell_type": "code",
   "execution_count": 19,
   "metadata": {},
   "outputs": [
    {
     "name": "stdout",
     "output_type": "stream",
     "text": [
      "Scaler is fitted\n"
     ]
    }
   ],
   "source": [
    "rf_clf = DTPredictor(RandomForestClassifier(n_estimators=100, max_depth=10, random_state=1))\n",
    "rf_trainX, rf_trainY = rf_clf.preProcess(trainX.copy(), trainY.copy())\n",
    "rf_testX, rf_testY = rf_clf.preProcess(testX.copy(), testY.copy())\n",
    "\n",
    "rf_clf.fit(rf_trainX, rf_trainY)"
   ]
  },
  {
   "cell_type": "code",
   "execution_count": 20,
   "metadata": {},
   "outputs": [
    {
     "name": "stdout",
     "output_type": "stream",
     "text": [
      "Total: 810, Collisions: 217\n",
      "Accuracy: 0.9493827160493827, Precision: 0.9444444444444444, Recall: 0.8617511520737328, F1: 0.9012048192771084\n",
      "Confusion matrix:\n",
      "[[582  11]\n",
      " [ 30 187]]\n"
     ]
    }
   ],
   "source": [
    "rf_pred = rf_clf.predict(rf_testX)\n",
    "rf_score = rf_clf.getScore(rf_testY, rf_pred)"
   ]
  },
  {
   "cell_type": "markdown",
   "metadata": {},
   "source": [
    "### Support Vector Machine - Classifier"
   ]
  },
  {
   "cell_type": "code",
   "execution_count": 21,
   "metadata": {},
   "outputs": [
    {
     "name": "stdout",
     "output_type": "stream",
     "text": [
      "Scaler is fitted\n"
     ]
    }
   ],
   "source": [
    "svm_clf = DTPredictor(SVC(random_state=1))\n",
    "svm_trainX, svm_trainY = svm_clf.preProcess(trainX.copy(), trainY.copy())\n",
    "svm_testX, svm_testY = svm_clf.preProcess(testX.copy(), testY.copy())"
   ]
  },
  {
   "cell_type": "code",
   "execution_count": 22,
   "metadata": {},
   "outputs": [],
   "source": [
    "svm_clf.fit(svm_trainX, svm_trainY)"
   ]
  },
  {
   "cell_type": "code",
   "execution_count": 23,
   "metadata": {},
   "outputs": [
    {
     "name": "stdout",
     "output_type": "stream",
     "text": [
      "Total: 810, Collisions: 217\n",
      "Accuracy: 0.8962962962962963, Precision: 0.9182389937106918, Recall: 0.6728110599078341, F1: 0.776595744680851\n",
      "Confusion matrix:\n",
      "[[580  13]\n",
      " [ 71 146]]\n"
     ]
    }
   ],
   "source": [
    "svm_pred = svm_clf.predict(svm_testX)\n",
    "svm_score = svm_clf.getScore(svm_testY, svm_pred)"
   ]
  },
  {
   "cell_type": "markdown",
   "metadata": {},
   "source": [
    "### xgboost - Classifier"
   ]
  },
  {
   "cell_type": "code",
   "execution_count": 24,
   "metadata": {},
   "outputs": [
    {
     "name": "stdout",
     "output_type": "stream",
     "text": [
      "Scaler is fitted\n"
     ]
    }
   ],
   "source": [
    "xgb_clf = DTPredictor(XGBClassifier(n_estimators=100, random_state=1))\n",
    "xgb_trainX, xgb_trainY = xgb_clf.preProcess(trainX.copy(), trainY.copy())\n",
    "xgb_testX, xgb_testY = xgb_clf.preProcess(testX.copy(), testY.copy())"
   ]
  },
  {
   "cell_type": "code",
   "execution_count": 25,
   "metadata": {},
   "outputs": [],
   "source": [
    "xgb_clf.fit(xgb_trainX, xgb_trainY)"
   ]
  },
  {
   "cell_type": "code",
   "execution_count": 26,
   "metadata": {},
   "outputs": [
    {
     "name": "stdout",
     "output_type": "stream",
     "text": [
      "Total: 810, Collisions: 217\n",
      "Accuracy: 0.9617283950617284, Precision: 0.9514563106796117, Recall: 0.9032258064516129, F1: 0.9267139479905436\n",
      "Confusion matrix:\n",
      "[[583  10]\n",
      " [ 21 196]]\n"
     ]
    }
   ],
   "source": [
    "xgb_pred = xgb_clf.predict(xgb_testX)\n",
    "xgb_score = xgb_clf.getScore(xgb_testY, xgb_pred)"
   ]
  },
  {
   "cell_type": "code",
   "execution_count": 30,
   "metadata": {},
   "outputs": [
    {
     "data": {
      "text/plain": [
       "'583-10-21-196'"
      ]
     },
     "execution_count": 30,
     "metadata": {},
     "output_type": "execute_result"
    }
   ],
   "source": [
    "# model_score = f\"{score[0][0]}-{score[0][1]}-{score[1][0]}-{score[1][1]}\"\n",
    "model_score = f\"{xgb_score[0][0]}-{xgb_score[0][1]}-{xgb_score[1][0]}-{xgb_score[1][1]}\"\n",
    "model_score"
   ]
  },
  {
   "cell_type": "code",
   "execution_count": 29,
   "metadata": {},
   "outputs": [
    {
     "name": "stdout",
     "output_type": "stream",
     "text": [
      "Model saved!\n"
     ]
    }
   ],
   "source": [
    "xgb_clf.saveModel(\"xgb\", accuracy=model_score)"
   ]
  }
 ],
 "metadata": {
  "kernelspec": {
   "display_name": "Python 3.9.16 ('MasterThesis')",
   "language": "python",
   "name": "python3"
  },
  "language_info": {
   "codemirror_mode": {
    "name": "ipython",
    "version": 3
   },
   "file_extension": ".py",
   "mimetype": "text/x-python",
   "name": "python",
   "nbconvert_exporter": "python",
   "pygments_lexer": "ipython3",
   "version": "3.9.16"
  },
  "orig_nbformat": 4,
  "vscode": {
   "interpreter": {
    "hash": "5ea953018f845277ff9327bc0467e81b58a68076ce0c385be95779bfd3460f16"
   }
  }
 },
 "nbformat": 4,
 "nbformat_minor": 2
}
