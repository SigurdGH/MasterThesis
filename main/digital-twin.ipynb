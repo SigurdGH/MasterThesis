{
 "cells": [
  {
   "cell_type": "markdown",
   "metadata": {},
   "source": [
    "# Digital Twin model"
   ]
  },
  {
   "cell_type": "markdown",
   "metadata": {},
   "source": [
    "## Initialization"
   ]
  },
  {
   "cell_type": "code",
   "execution_count": 27,
   "metadata": {},
   "outputs": [],
   "source": [
    "import matplotlib.pyplot as plt\n",
    "import numpy as np\n",
    "import pandas as pd\n",
    "\n",
    "from ML.DTPredictor import DTPredictor\n",
    "from ML.Model import Predicter\n",
    "from PreProcessing.DataManipulation import DataManipulation\n",
    "import pickle"
   ]
  },
  {
   "cell_type": "code",
   "execution_count": 28,
   "metadata": {},
   "outputs": [],
   "source": [
    "MODEL_PREFIX = \"deep\""
   ]
  },
  {
   "cell_type": "code",
   "execution_count": 29,
   "metadata": {},
   "outputs": [
    {
     "data": {
      "text/html": [
       "<div>\n",
       "<style scoped>\n",
       "    .dataframe tbody tr th:only-of-type {\n",
       "        vertical-align: middle;\n",
       "    }\n",
       "\n",
       "    .dataframe tbody tr th {\n",
       "        vertical-align: top;\n",
       "    }\n",
       "\n",
       "    .dataframe thead th {\n",
       "        text-align: right;\n",
       "    }\n",
       "</style>\n",
       "<table border=\"1\" class=\"dataframe\">\n",
       "  <thead>\n",
       "    <tr style=\"text-align: right;\">\n",
       "      <th></th>\n",
       "      <th>Execution</th>\n",
       "      <th>ScenarioID</th>\n",
       "      <th>Configuration_API_Description</th>\n",
       "      <th>Attribute[TTC]</th>\n",
       "      <th>Attribute[DTO]</th>\n",
       "      <th>Attribute[Jerk]</th>\n",
       "      <th>Attribute[COL]</th>\n",
       "      <th>Attribute[COLT]</th>\n",
       "      <th>Attribute[SAC]</th>\n",
       "      <th>reward</th>\n",
       "      <th>road</th>\n",
       "      <th>strategy</th>\n",
       "      <th>scenario</th>\n",
       "    </tr>\n",
       "  </thead>\n",
       "  <tbody>\n",
       "    <tr>\n",
       "      <th>0</th>\n",
       "      <td>0</td>\n",
       "      <td>0_scenario_0</td>\n",
       "      <td>A red BoxTruck is overtaking (near) the ego ve...</td>\n",
       "      <td>100000.000000</td>\n",
       "      <td>24.810964</td>\n",
       "      <td>3.48</td>\n",
       "      <td>False</td>\n",
       "      <td>None</td>\n",
       "      <td>0.0</td>\n",
       "      <td>dto</td>\n",
       "      <td>road1</td>\n",
       "      <td>greedy</td>\n",
       "      <td>rain_day</td>\n",
       "    </tr>\n",
       "    <tr>\n",
       "      <th>1</th>\n",
       "      <td>0</td>\n",
       "      <td>0_scenario_1</td>\n",
       "      <td>A skyblue SUV is driving from the opposite dir...</td>\n",
       "      <td>100000.000000</td>\n",
       "      <td>8.654072</td>\n",
       "      <td>1.04</td>\n",
       "      <td>False</td>\n",
       "      <td>None</td>\n",
       "      <td>0.0</td>\n",
       "      <td>dto</td>\n",
       "      <td>road1</td>\n",
       "      <td>greedy</td>\n",
       "      <td>rain_day</td>\n",
       "    </tr>\n",
       "    <tr>\n",
       "      <th>2</th>\n",
       "      <td>0</td>\n",
       "      <td>0_scenario_2</td>\n",
       "      <td>A skyblue BoxTruck is driving ahead (near) of ...</td>\n",
       "      <td>2.103269</td>\n",
       "      <td>10.209357</td>\n",
       "      <td>4.98</td>\n",
       "      <td>False</td>\n",
       "      <td>None</td>\n",
       "      <td>0.0</td>\n",
       "      <td>dto</td>\n",
       "      <td>road1</td>\n",
       "      <td>greedy</td>\n",
       "      <td>rain_day</td>\n",
       "    </tr>\n",
       "  </tbody>\n",
       "</table>\n",
       "</div>"
      ],
      "text/plain": [
       "   Execution    ScenarioID                      Configuration_API_Description  \\\n",
       "0          0  0_scenario_0  A red BoxTruck is overtaking (near) the ego ve...   \n",
       "1          0  0_scenario_1  A skyblue SUV is driving from the opposite dir...   \n",
       "2          0  0_scenario_2  A skyblue BoxTruck is driving ahead (near) of ...   \n",
       "\n",
       "   Attribute[TTC]  Attribute[DTO]  Attribute[Jerk]  Attribute[COL]  \\\n",
       "0   100000.000000       24.810964             3.48           False   \n",
       "1   100000.000000        8.654072             1.04           False   \n",
       "2        2.103269       10.209357             4.98           False   \n",
       "\n",
       "  Attribute[COLT]  Attribute[SAC] reward   road strategy  scenario  \n",
       "0            None             0.0    dto  road1   greedy  rain_day  \n",
       "1            None             0.0    dto  road1   greedy  rain_day  \n",
       "2            None             0.0    dto  road1   greedy  rain_day  "
      ]
     },
     "execution_count": 29,
     "metadata": {},
     "output_type": "execute_result"
    }
   ],
   "source": [
    "dm = DataManipulation(\"../data/deep-scenario.csv\")\n",
    "dm.data.head(3)"
   ]
  },
  {
   "cell_type": "markdown",
   "metadata": {},
   "source": [
    "## Data Manipulation"
   ]
  },
  {
   "cell_type": "code",
   "execution_count": 30,
   "metadata": {},
   "outputs": [],
   "source": [
    "dm.addFromXML(\"../data/dataFromXML.csv\")"
   ]
  },
  {
   "cell_type": "code",
   "execution_count": 31,
   "metadata": {},
   "outputs": [
    {
     "data": {
      "text/html": [
       "<div>\n",
       "<style scoped>\n",
       "    .dataframe tbody tr th:only-of-type {\n",
       "        vertical-align: middle;\n",
       "    }\n",
       "\n",
       "    .dataframe tbody tr th {\n",
       "        vertical-align: top;\n",
       "    }\n",
       "\n",
       "    .dataframe thead th {\n",
       "        text-align: right;\n",
       "    }\n",
       "</style>\n",
       "<table border=\"1\" class=\"dataframe\">\n",
       "  <thead>\n",
       "    <tr style=\"text-align: right;\">\n",
       "      <th></th>\n",
       "      <th>Attribute[DTO]</th>\n",
       "      <th>speed1</th>\n",
       "      <th>speed2</th>\n",
       "      <th>speed3</th>\n",
       "      <th>speed4</th>\n",
       "      <th>speed5</th>\n",
       "      <th>speed6</th>\n",
       "      <th>Attribute[SAC]</th>\n",
       "    </tr>\n",
       "  </thead>\n",
       "  <tbody>\n",
       "    <tr>\n",
       "      <th>268</th>\n",
       "      <td>4.805712</td>\n",
       "      <td>3.148351</td>\n",
       "      <td>4.298646</td>\n",
       "      <td>4.163691</td>\n",
       "      <td>3.343067</td>\n",
       "      <td>4.1316</td>\n",
       "      <td>5.7168</td>\n",
       "      <td>4.442793</td>\n",
       "    </tr>\n",
       "    <tr>\n",
       "      <th>273</th>\n",
       "      <td>4.841434</td>\n",
       "      <td>1.844157</td>\n",
       "      <td>1.778300</td>\n",
       "      <td>2.067993</td>\n",
       "      <td>2.334000</td>\n",
       "      <td>4.7772</td>\n",
       "      <td>6.7092</td>\n",
       "      <td>2.346909</td>\n",
       "    </tr>\n",
       "    <tr>\n",
       "      <th>477</th>\n",
       "      <td>4.922002</td>\n",
       "      <td>2.082011</td>\n",
       "      <td>1.097750</td>\n",
       "      <td>2.164800</td>\n",
       "      <td>3.240000</td>\n",
       "      <td>3.6924</td>\n",
       "      <td>5.2764</td>\n",
       "      <td>2.378859</td>\n",
       "    </tr>\n",
       "    <tr>\n",
       "      <th>1406</th>\n",
       "      <td>7.605580</td>\n",
       "      <td>3.292620</td>\n",
       "      <td>4.620499</td>\n",
       "      <td>3.957729</td>\n",
       "      <td>4.499646</td>\n",
       "      <td>4.4460</td>\n",
       "      <td>5.1624</td>\n",
       "      <td>3.715036</td>\n",
       "    </tr>\n",
       "    <tr>\n",
       "      <th>1662</th>\n",
       "      <td>4.888965</td>\n",
       "      <td>1.954391</td>\n",
       "      <td>2.626015</td>\n",
       "      <td>3.151200</td>\n",
       "      <td>4.480800</td>\n",
       "      <td>6.2064</td>\n",
       "      <td>6.7392</td>\n",
       "      <td>3.522738</td>\n",
       "    </tr>\n",
       "    <tr>\n",
       "      <th>1961</th>\n",
       "      <td>4.984081</td>\n",
       "      <td>6.105205</td>\n",
       "      <td>5.217909</td>\n",
       "      <td>6.508054</td>\n",
       "      <td>6.006000</td>\n",
       "      <td>8.1984</td>\n",
       "      <td>8.3784</td>\n",
       "      <td>5.225631</td>\n",
       "    </tr>\n",
       "    <tr>\n",
       "      <th>2000</th>\n",
       "      <td>50.289233</td>\n",
       "      <td>0.098400</td>\n",
       "      <td>1.706400</td>\n",
       "      <td>3.004800</td>\n",
       "      <td>0.008400</td>\n",
       "      <td>0.0036</td>\n",
       "      <td>0.0012</td>\n",
       "      <td>1.340647</td>\n",
       "    </tr>\n",
       "    <tr>\n",
       "      <th>2001</th>\n",
       "      <td>25.204523</td>\n",
       "      <td>0.162000</td>\n",
       "      <td>1.777200</td>\n",
       "      <td>3.098400</td>\n",
       "      <td>0.003600</td>\n",
       "      <td>0.0024</td>\n",
       "      <td>0.0060</td>\n",
       "      <td>0.217742</td>\n",
       "    </tr>\n",
       "    <tr>\n",
       "      <th>2002</th>\n",
       "      <td>27.160148</td>\n",
       "      <td>0.162000</td>\n",
       "      <td>1.868400</td>\n",
       "      <td>3.333600</td>\n",
       "      <td>0.003600</td>\n",
       "      <td>0.0060</td>\n",
       "      <td>0.0048</td>\n",
       "      <td>0.344920</td>\n",
       "    </tr>\n",
       "    <tr>\n",
       "      <th>2091</th>\n",
       "      <td>5.021879</td>\n",
       "      <td>4.160741</td>\n",
       "      <td>2.773915</td>\n",
       "      <td>3.925200</td>\n",
       "      <td>5.504400</td>\n",
       "      <td>7.2732</td>\n",
       "      <td>8.9016</td>\n",
       "      <td>3.923682</td>\n",
       "    </tr>\n",
       "  </tbody>\n",
       "</table>\n",
       "</div>"
      ],
      "text/plain": [
       "      Attribute[DTO]    speed1    speed2    speed3    speed4  speed5  speed6  \\\n",
       "268         4.805712  3.148351  4.298646  4.163691  3.343067  4.1316  5.7168   \n",
       "273         4.841434  1.844157  1.778300  2.067993  2.334000  4.7772  6.7092   \n",
       "477         4.922002  2.082011  1.097750  2.164800  3.240000  3.6924  5.2764   \n",
       "1406        7.605580  3.292620  4.620499  3.957729  4.499646  4.4460  5.1624   \n",
       "1662        4.888965  1.954391  2.626015  3.151200  4.480800  6.2064  6.7392   \n",
       "1961        4.984081  6.105205  5.217909  6.508054  6.006000  8.1984  8.3784   \n",
       "2000       50.289233  0.098400  1.706400  3.004800  0.008400  0.0036  0.0012   \n",
       "2001       25.204523  0.162000  1.777200  3.098400  0.003600  0.0024  0.0060   \n",
       "2002       27.160148  0.162000  1.868400  3.333600  0.003600  0.0060  0.0048   \n",
       "2091        5.021879  4.160741  2.773915  3.925200  5.504400  7.2732  8.9016   \n",
       "\n",
       "      Attribute[SAC]  \n",
       "268         4.442793  \n",
       "273         2.346909  \n",
       "477         2.378859  \n",
       "1406        3.715036  \n",
       "1662        3.522738  \n",
       "1961        5.225631  \n",
       "2000        1.340647  \n",
       "2001        0.217742  \n",
       "2002        0.344920  \n",
       "2091        3.923682  "
      ]
     },
     "execution_count": 31,
     "metadata": {},
     "output_type": "execute_result"
    }
   ],
   "source": [
    "ids = [268, 273, 477, 1406, 1662, 1961, 2000, 2001, 2002, 2091]\n",
    "cols = [\"Attribute[DTO]\", \"speed1\", \"speed2\", \"speed3\", \"speed4\", \"speed5\", \"speed6\", \"Attribute[SAC]\"]\n",
    "# dm.data.loc[dm.data[\"Attribute[COL]\"] == True][[\"Attribute[DTO]\", \"speed1\", \"speed2\", \"speed3\", \"speed4\", \"speed5\", \"speed6\", \"Attribute[SAC]\"]]\n",
    "dm.data.iloc[ids][cols]"
   ]
  },
  {
   "cell_type": "markdown",
   "metadata": {},
   "source": [
    "## Model"
   ]
  },
  {
   "cell_type": "code",
   "execution_count": 32,
   "metadata": {},
   "outputs": [],
   "source": [
    "from sklearn.metrics import accuracy_score, precision_score, recall_score, f1_score, confusion_matrix\n",
    "from sklearn.ensemble import RandomForestClassifier\n",
    "from sklearn.svm import SVC\n",
    "from xgboost import XGBClassifier"
   ]
  },
  {
   "cell_type": "code",
   "execution_count": 33,
   "metadata": {},
   "outputs": [
    {
     "data": {
      "text/plain": [
       "Attribute[COL]\n",
       "False    3000\n",
       "True     1050\n",
       "dtype: int64"
      ]
     },
     "execution_count": 33,
     "metadata": {},
     "output_type": "execute_result"
    }
   ],
   "source": [
    "dm.underSample(3000)\n",
    "dm.data.value_counts(\"Attribute[COL]\")"
   ]
  },
  {
   "cell_type": "code",
   "execution_count": 34,
   "metadata": {},
   "outputs": [
    {
     "name": "stdout",
     "output_type": "stream",
     "text": [
      "splitting at 3240.\n",
      "trainX:(3240, 30), trainY:(3240, 4), testX:(810, 30), testY:(810, 4)\n"
     ]
    }
   ],
   "source": [
    "trainX, trainY, testX, testY = dm.splitTrainTest()\n",
    "print(f\"trainX:{trainX.shape}, trainY:{trainY.shape}, testX:{testX.shape}, testY:{testY.shape}\")"
   ]
  },
  {
   "cell_type": "markdown",
   "metadata": {},
   "source": [
    "### MLP Classifier"
   ]
  },
  {
   "cell_type": "code",
   "execution_count": 35,
   "metadata": {},
   "outputs": [
    {
     "name": "stdout",
     "output_type": "stream",
     "text": [
      "Scaler is fitted\n"
     ]
    },
    {
     "name": "stderr",
     "output_type": "stream",
     "text": [
      "c:\\Users\\Yohannes\\anaconda3\\envs\\MasterThesis\\lib\\site-packages\\sklearn\\neural_network\\_multilayer_perceptron.py:679: ConvergenceWarning: Stochastic Optimizer: Maximum iterations (200) reached and the optimization hasn't converged yet.\n",
      "  warnings.warn(\n"
     ]
    }
   ],
   "source": [
    "mlp_clf = Predicter()\n",
    "mlp_trainX, mlp_trainY = mlp_clf.preProcess(trainX.copy(), trainY.copy())\n",
    "mlp_testX, mlp_testY = mlp_clf.preProcess(testX.copy(), testY.copy())\n",
    "\n",
    "mlp_clf.fit(mlp_trainX, mlp_trainY)"
   ]
  },
  {
   "cell_type": "code",
   "execution_count": 36,
   "metadata": {},
   "outputs": [
    {
     "name": "stdout",
     "output_type": "stream",
     "text": [
      "Total: 810, number of collisions: 217\n",
      "\tTN: 577 \t| FP: 16 \n",
      "\tFN: 29 \t| TP: 188\n",
      "Accuracy: 0.94\n",
      "Precision: 0.92\n",
      "Recall: 0.87\n",
      "F1: 0.89\n"
     ]
    }
   ],
   "source": [
    "mlp_pred = mlp_clf.predict(mlp_testX)\n",
    "mlp_score = mlp_clf.getScore(mlp_pred, mlp_testY)"
   ]
  },
  {
   "cell_type": "code",
   "execution_count": 37,
   "metadata": {},
   "outputs": [
    {
     "name": "stdout",
     "output_type": "stream",
     "text": [
      "Model saved!\n"
     ]
    }
   ],
   "source": [
    "model_score = f\"{mlp_score[0][0]}-{mlp_score[0][1]}-{mlp_score[1][0]}-{mlp_score[1][1]}\"\n",
    "mlp_clf.saveModel(f\"MLPClassifier_{MODEL_PREFIX}\", accuracy=model_score)"
   ]
  },
  {
   "cell_type": "markdown",
   "metadata": {},
   "source": [
    "### Random Forest"
   ]
  },
  {
   "cell_type": "code",
   "execution_count": 38,
   "metadata": {},
   "outputs": [
    {
     "name": "stdout",
     "output_type": "stream",
     "text": [
      "Scaler is fitted\n"
     ]
    }
   ],
   "source": [
    "rf_clf = DTPredictor(RandomForestClassifier(n_estimators=100, max_depth=10, random_state=1))\n",
    "rf_trainX, rf_trainY = rf_clf.preProcess(trainX.copy(), trainY.copy())\n",
    "rf_testX, rf_testY = rf_clf.preProcess(testX.copy(), testY.copy())\n",
    "\n",
    "rf_clf.fit(rf_trainX, rf_trainY)"
   ]
  },
  {
   "cell_type": "code",
   "execution_count": 39,
   "metadata": {},
   "outputs": [
    {
     "name": "stdout",
     "output_type": "stream",
     "text": [
      "Total: 810, Collisions: 217\n",
      "Accuracy: 0.9530864197530864, Precision: 0.949748743718593, Recall: 0.8709677419354839, F1: 0.908653846153846\n",
      "Confusion matrix:\n",
      "[[583  10]\n",
      " [ 28 189]]\n"
     ]
    }
   ],
   "source": [
    "rf_pred = rf_clf.predict(rf_testX)\n",
    "rf_score = rf_clf.getScore(rf_testY, rf_pred)"
   ]
  },
  {
   "cell_type": "code",
   "execution_count": 40,
   "metadata": {},
   "outputs": [
    {
     "name": "stdout",
     "output_type": "stream",
     "text": [
      "Model saved!\n"
     ]
    }
   ],
   "source": [
    "model_score = f\"{rf_score[0][0]}-{rf_score[0][1]}-{rf_score[1][0]}-{rf_score[1][1]}\"\n",
    "rf_clf.saveModel(f\"RandomForestClassifier_{MODEL_PREFIX}\", accuracy=model_score)"
   ]
  },
  {
   "cell_type": "markdown",
   "metadata": {},
   "source": [
    "### Support Vector Machine - Classifier"
   ]
  },
  {
   "cell_type": "code",
   "execution_count": 41,
   "metadata": {},
   "outputs": [
    {
     "name": "stdout",
     "output_type": "stream",
     "text": [
      "Scaler is fitted\n"
     ]
    }
   ],
   "source": [
    "svm_clf = DTPredictor(SVC(random_state=1))\n",
    "svm_trainX, svm_trainY = svm_clf.preProcess(trainX.copy(), trainY.copy())\n",
    "svm_testX, svm_testY = svm_clf.preProcess(testX.copy(), testY.copy())"
   ]
  },
  {
   "cell_type": "code",
   "execution_count": 42,
   "metadata": {},
   "outputs": [],
   "source": [
    "svm_clf.fit(svm_trainX, svm_trainY)"
   ]
  },
  {
   "cell_type": "code",
   "execution_count": 43,
   "metadata": {},
   "outputs": [
    {
     "name": "stdout",
     "output_type": "stream",
     "text": [
      "Total: 810, Collisions: 217\n",
      "Accuracy: 0.9, Precision: 0.930379746835443, Recall: 0.6774193548387096, F1: 0.7839999999999999\n",
      "Confusion matrix:\n",
      "[[582  11]\n",
      " [ 70 147]]\n"
     ]
    }
   ],
   "source": [
    "svm_pred = svm_clf.predict(svm_testX)\n",
    "svm_score = svm_clf.getScore(svm_testY, svm_pred)"
   ]
  },
  {
   "cell_type": "code",
   "execution_count": 44,
   "metadata": {},
   "outputs": [
    {
     "name": "stdout",
     "output_type": "stream",
     "text": [
      "Model saved!\n"
     ]
    }
   ],
   "source": [
    "model_score = f\"{svm_score[0][0]}-{svm_score[0][1]}-{svm_score[1][0]}-{svm_score[1][1]}\"\n",
    "svm_clf.saveModel(f\"SVC_{MODEL_PREFIX}\", accuracy=model_score)"
   ]
  },
  {
   "cell_type": "markdown",
   "metadata": {},
   "source": [
    "### xgboost - Classifier"
   ]
  },
  {
   "cell_type": "code",
   "execution_count": 45,
   "metadata": {},
   "outputs": [
    {
     "name": "stdout",
     "output_type": "stream",
     "text": [
      "Scaler is fitted\n"
     ]
    }
   ],
   "source": [
    "xgb_clf = DTPredictor(XGBClassifier(n_estimators=100, random_state=1))\n",
    "xgb_trainX, xgb_trainY = xgb_clf.preProcess(trainX.copy(), trainY.copy())\n",
    "xgb_testX, xgb_testY = xgb_clf.preProcess(testX.copy(), testY.copy())"
   ]
  },
  {
   "cell_type": "code",
   "execution_count": 46,
   "metadata": {},
   "outputs": [],
   "source": [
    "xgb_clf.fit(xgb_trainX, xgb_trainY)"
   ]
  },
  {
   "cell_type": "code",
   "execution_count": 47,
   "metadata": {},
   "outputs": [
    {
     "name": "stdout",
     "output_type": "stream",
     "text": [
      "Total: 810, Collisions: 217\n",
      "Accuracy: 0.9666666666666667, Precision: 0.9481132075471698, Recall: 0.9262672811059908, F1: 0.937062937062937\n",
      "Confusion matrix:\n",
      "[[582  11]\n",
      " [ 16 201]]\n"
     ]
    }
   ],
   "source": [
    "xgb_pred = xgb_clf.predict(xgb_testX)\n",
    "xgb_score = xgb_clf.getScore(xgb_testY, xgb_pred)"
   ]
  },
  {
   "cell_type": "code",
   "execution_count": 48,
   "metadata": {},
   "outputs": [
    {
     "name": "stdout",
     "output_type": "stream",
     "text": [
      "Model saved!\n"
     ]
    }
   ],
   "source": [
    "model_score = f\"{xgb_score[0][0]}-{xgb_score[0][1]}-{xgb_score[1][0]}-{xgb_score[1][1]}\"\n",
    "xgb_clf.saveModel(f\"XGBClassifier_{MODEL_PREFIX}\", accuracy=model_score)"
   ]
  }
 ],
 "metadata": {
  "kernelspec": {
   "display_name": "Python 3.9.16 ('MasterThesis')",
   "language": "python",
   "name": "python3"
  },
  "language_info": {
   "codemirror_mode": {
    "name": "ipython",
    "version": 3
   },
   "file_extension": ".py",
   "mimetype": "text/x-python",
   "name": "python",
   "nbconvert_exporter": "python",
   "pygments_lexer": "ipython3",
   "version": "3.9.16"
  },
  "orig_nbformat": 4,
  "vscode": {
   "interpreter": {
    "hash": "5ea953018f845277ff9327bc0467e81b58a68076ce0c385be95779bfd3460f16"
   }
  }
 },
 "nbformat": 4,
 "nbformat_minor": 2
}
