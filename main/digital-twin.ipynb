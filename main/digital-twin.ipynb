{
 "cells": [
  {
   "attachments": {},
   "cell_type": "markdown",
   "metadata": {},
   "source": [
    "# Digital Twin model"
   ]
  },
  {
   "attachments": {},
   "cell_type": "markdown",
   "metadata": {},
   "source": [
    "## Initialization"
   ]
  },
  {
   "cell_type": "code",
   "execution_count": 1,
   "metadata": {},
   "outputs": [],
   "source": [
    "import matplotlib.pyplot as plt\n",
    "import numpy as np\n",
    "import pandas as pd\n",
    "\n",
    "from ML.DTPredictor import DTPredictor\n",
    "from ML.Model import Predicter\n",
    "from PreProcessing.DataManipulation import DataManipulation\n",
    "import pickle"
   ]
  },
  {
   "cell_type": "code",
   "execution_count": 2,
   "metadata": {},
   "outputs": [],
   "source": [
    "MODEL_PREFIX = \"deep\""
   ]
  },
  {
   "cell_type": "code",
   "execution_count": 3,
   "metadata": {},
   "outputs": [
    {
     "data": {
      "text/html": [
       "<div>\n",
       "<style scoped>\n",
       "    .dataframe tbody tr th:only-of-type {\n",
       "        vertical-align: middle;\n",
       "    }\n",
       "\n",
       "    .dataframe tbody tr th {\n",
       "        vertical-align: top;\n",
       "    }\n",
       "\n",
       "    .dataframe thead th {\n",
       "        text-align: right;\n",
       "    }\n",
       "</style>\n",
       "<table border=\"1\" class=\"dataframe\">\n",
       "  <thead>\n",
       "    <tr style=\"text-align: right;\">\n",
       "      <th></th>\n",
       "      <th>Execution</th>\n",
       "      <th>ScenarioID</th>\n",
       "      <th>Configuration_API_Description</th>\n",
       "      <th>Attribute[TTC]</th>\n",
       "      <th>Attribute[DTO]</th>\n",
       "      <th>Attribute[Jerk]</th>\n",
       "      <th>Attribute[COL]</th>\n",
       "      <th>Attribute[COLT]</th>\n",
       "      <th>Attribute[SAC]</th>\n",
       "      <th>reward</th>\n",
       "      <th>road</th>\n",
       "      <th>strategy</th>\n",
       "      <th>scenario</th>\n",
       "    </tr>\n",
       "  </thead>\n",
       "  <tbody>\n",
       "    <tr>\n",
       "      <th>0</th>\n",
       "      <td>0</td>\n",
       "      <td>0_scenario_0</td>\n",
       "      <td>A red BoxTruck is overtaking (near) the ego ve...</td>\n",
       "      <td>100000.000000</td>\n",
       "      <td>24.810964</td>\n",
       "      <td>3.48</td>\n",
       "      <td>False</td>\n",
       "      <td>None</td>\n",
       "      <td>0.0</td>\n",
       "      <td>dto</td>\n",
       "      <td>road1</td>\n",
       "      <td>greedy</td>\n",
       "      <td>rain_day</td>\n",
       "    </tr>\n",
       "    <tr>\n",
       "      <th>1</th>\n",
       "      <td>0</td>\n",
       "      <td>0_scenario_1</td>\n",
       "      <td>A skyblue SUV is driving from the opposite dir...</td>\n",
       "      <td>100000.000000</td>\n",
       "      <td>8.654072</td>\n",
       "      <td>1.04</td>\n",
       "      <td>False</td>\n",
       "      <td>None</td>\n",
       "      <td>0.0</td>\n",
       "      <td>dto</td>\n",
       "      <td>road1</td>\n",
       "      <td>greedy</td>\n",
       "      <td>rain_day</td>\n",
       "    </tr>\n",
       "    <tr>\n",
       "      <th>2</th>\n",
       "      <td>0</td>\n",
       "      <td>0_scenario_2</td>\n",
       "      <td>A skyblue BoxTruck is driving ahead (near) of ...</td>\n",
       "      <td>2.103269</td>\n",
       "      <td>10.209357</td>\n",
       "      <td>4.98</td>\n",
       "      <td>False</td>\n",
       "      <td>None</td>\n",
       "      <td>0.0</td>\n",
       "      <td>dto</td>\n",
       "      <td>road1</td>\n",
       "      <td>greedy</td>\n",
       "      <td>rain_day</td>\n",
       "    </tr>\n",
       "  </tbody>\n",
       "</table>\n",
       "</div>"
      ],
      "text/plain": [
       "   Execution    ScenarioID                      Configuration_API_Description  \\\n",
       "0          0  0_scenario_0  A red BoxTruck is overtaking (near) the ego ve...   \n",
       "1          0  0_scenario_1  A skyblue SUV is driving from the opposite dir...   \n",
       "2          0  0_scenario_2  A skyblue BoxTruck is driving ahead (near) of ...   \n",
       "\n",
       "   Attribute[TTC]  Attribute[DTO]  Attribute[Jerk]  Attribute[COL]  \\\n",
       "0   100000.000000       24.810964             3.48           False   \n",
       "1   100000.000000        8.654072             1.04           False   \n",
       "2        2.103269       10.209357             4.98           False   \n",
       "\n",
       "  Attribute[COLT]  Attribute[SAC] reward   road strategy  scenario  \n",
       "0            None             0.0    dto  road1   greedy  rain_day  \n",
       "1            None             0.0    dto  road1   greedy  rain_day  \n",
       "2            None             0.0    dto  road1   greedy  rain_day  "
      ]
     },
     "execution_count": 3,
     "metadata": {},
     "output_type": "execute_result"
    }
   ],
   "source": [
    "dm = DataManipulation(\"../data/deep-scenario.csv\")\n",
    "dm.data.head(3)"
   ]
  },
  {
   "attachments": {},
   "cell_type": "markdown",
   "metadata": {},
   "source": [
    "## Data Manipulation"
   ]
  },
  {
   "cell_type": "code",
   "execution_count": 4,
   "metadata": {},
   "outputs": [],
   "source": [
    "dm.addFromXML(\"../data/dataFromXML.csv\")"
   ]
  },
  {
   "cell_type": "code",
   "execution_count": 8,
   "metadata": {},
   "outputs": [],
   "source": [
    "# ids = [268, 273, 477, 1406, 1662, 1961, 2000, 2001, 2002, 2091]\n",
    "cols = [\"Attribute[DTO]\", \"speed1\", \"speed2\", \"speed3\", \"speed4\", \"speed5\", \"speed6\", \"Attribute[SAC]\"]\n",
    "# # dm.data.loc[dm.data[\"Attribute[COL]\"] == True][[\"Attribute[DTO]\", \"speed1\", \"speed2\", \"speed3\", \"speed4\", \"speed5\", \"speed6\", \"Attribute[SAC]\"]]\n",
    "# dm.data.iloc[ids][cols]\n",
    "dm.data.loc[dm.data[\"Attribute[COL]\"] == True][cols].to_csv(\"speeddddds\")"
   ]
  },
  {
   "cell_type": "code",
   "execution_count": 10,
   "metadata": {},
   "outputs": [
    {
     "data": {
      "text/html": [
       "<div>\n",
       "<style scoped>\n",
       "    .dataframe tbody tr th:only-of-type {\n",
       "        vertical-align: middle;\n",
       "    }\n",
       "\n",
       "    .dataframe tbody tr th {\n",
       "        vertical-align: top;\n",
       "    }\n",
       "\n",
       "    .dataframe thead th {\n",
       "        text-align: right;\n",
       "    }\n",
       "</style>\n",
       "<table border=\"1\" class=\"dataframe\">\n",
       "  <thead>\n",
       "    <tr style=\"text-align: right;\">\n",
       "      <th></th>\n",
       "      <th>Attribute[DTO]</th>\n",
       "      <th>speed1</th>\n",
       "      <th>speed2</th>\n",
       "      <th>speed3</th>\n",
       "      <th>speed4</th>\n",
       "      <th>speed5</th>\n",
       "      <th>speed6</th>\n",
       "      <th>Attribute[SAC]</th>\n",
       "    </tr>\n",
       "  </thead>\n",
       "  <tbody>\n",
       "    <tr>\n",
       "      <th>268</th>\n",
       "      <td>1.295431</td>\n",
       "      <td>6.304</td>\n",
       "      <td>5.137</td>\n",
       "      <td>3.637</td>\n",
       "      <td>2.589</td>\n",
       "      <td>3.443</td>\n",
       "      <td>4.764</td>\n",
       "      <td>4.442793</td>\n",
       "    </tr>\n",
       "    <tr>\n",
       "      <th>273</th>\n",
       "      <td>1.331153</td>\n",
       "      <td>6.479</td>\n",
       "      <td>5.309</td>\n",
       "      <td>2.991</td>\n",
       "      <td>1.945</td>\n",
       "      <td>3.981</td>\n",
       "      <td>5.591</td>\n",
       "      <td>2.346909</td>\n",
       "    </tr>\n",
       "    <tr>\n",
       "      <th>477</th>\n",
       "      <td>1.411721</td>\n",
       "      <td>0.001</td>\n",
       "      <td>1.514</td>\n",
       "      <td>1.804</td>\n",
       "      <td>2.700</td>\n",
       "      <td>3.077</td>\n",
       "      <td>4.397</td>\n",
       "      <td>2.378859</td>\n",
       "    </tr>\n",
       "    <tr>\n",
       "      <th>1406</th>\n",
       "      <td>4.095299</td>\n",
       "      <td>10.067</td>\n",
       "      <td>10.158</td>\n",
       "      <td>7.843</td>\n",
       "      <td>3.543</td>\n",
       "      <td>3.705</td>\n",
       "      <td>4.302</td>\n",
       "      <td>3.715036</td>\n",
       "    </tr>\n",
       "    <tr>\n",
       "      <th>1662</th>\n",
       "      <td>1.378684</td>\n",
       "      <td>5.026</td>\n",
       "      <td>3.875</td>\n",
       "      <td>2.626</td>\n",
       "      <td>3.734</td>\n",
       "      <td>5.172</td>\n",
       "      <td>5.616</td>\n",
       "      <td>3.522738</td>\n",
       "    </tr>\n",
       "    <tr>\n",
       "      <th>1961</th>\n",
       "      <td>1.473800</td>\n",
       "      <td>8.080</td>\n",
       "      <td>6.753</td>\n",
       "      <td>5.336</td>\n",
       "      <td>5.005</td>\n",
       "      <td>6.832</td>\n",
       "      <td>6.982</td>\n",
       "      <td>5.225631</td>\n",
       "    </tr>\n",
       "    <tr>\n",
       "      <th>2000</th>\n",
       "      <td>50.289233</td>\n",
       "      <td>0.082</td>\n",
       "      <td>1.422</td>\n",
       "      <td>2.504</td>\n",
       "      <td>0.007</td>\n",
       "      <td>0.003</td>\n",
       "      <td>0.001</td>\n",
       "      <td>1.340647</td>\n",
       "    </tr>\n",
       "    <tr>\n",
       "      <th>2001</th>\n",
       "      <td>25.204523</td>\n",
       "      <td>0.135</td>\n",
       "      <td>1.481</td>\n",
       "      <td>2.582</td>\n",
       "      <td>0.003</td>\n",
       "      <td>0.002</td>\n",
       "      <td>0.005</td>\n",
       "      <td>0.217742</td>\n",
       "    </tr>\n",
       "    <tr>\n",
       "      <th>2002</th>\n",
       "      <td>27.160148</td>\n",
       "      <td>0.135</td>\n",
       "      <td>1.557</td>\n",
       "      <td>2.778</td>\n",
       "      <td>0.003</td>\n",
       "      <td>0.005</td>\n",
       "      <td>0.004</td>\n",
       "      <td>0.344920</td>\n",
       "    </tr>\n",
       "    <tr>\n",
       "      <th>2091</th>\n",
       "      <td>1.511598</td>\n",
       "      <td>6.909</td>\n",
       "      <td>5.710</td>\n",
       "      <td>3.271</td>\n",
       "      <td>4.587</td>\n",
       "      <td>6.061</td>\n",
       "      <td>7.418</td>\n",
       "      <td>3.923682</td>\n",
       "    </tr>\n",
       "  </tbody>\n",
       "</table>\n",
       "</div>"
      ],
      "text/plain": [
       "      Attribute[DTO]  speed1  speed2  speed3  speed4  speed5  speed6  \\\n",
       "268         1.295431   6.304   5.137   3.637   2.589   3.443   4.764   \n",
       "273         1.331153   6.479   5.309   2.991   1.945   3.981   5.591   \n",
       "477         1.411721   0.001   1.514   1.804   2.700   3.077   4.397   \n",
       "1406        4.095299  10.067  10.158   7.843   3.543   3.705   4.302   \n",
       "1662        1.378684   5.026   3.875   2.626   3.734   5.172   5.616   \n",
       "1961        1.473800   8.080   6.753   5.336   5.005   6.832   6.982   \n",
       "2000       50.289233   0.082   1.422   2.504   0.007   0.003   0.001   \n",
       "2001       25.204523   0.135   1.481   2.582   0.003   0.002   0.005   \n",
       "2002       27.160148   0.135   1.557   2.778   0.003   0.005   0.004   \n",
       "2091        1.511598   6.909   5.710   3.271   4.587   6.061   7.418   \n",
       "\n",
       "      Attribute[SAC]  \n",
       "268         4.442793  \n",
       "273         2.346909  \n",
       "477         2.378859  \n",
       "1406        3.715036  \n",
       "1662        3.522738  \n",
       "1961        5.225631  \n",
       "2000        1.340647  \n",
       "2001        0.217742  \n",
       "2002        0.344920  \n",
       "2091        3.923682  "
      ]
     },
     "execution_count": 10,
     "metadata": {},
     "output_type": "execute_result"
    }
   ],
   "source": [
    "ids = [268, 273, 477, 1406, 1662, 1961, 2000, 2001, 2002, 2091]\n",
    "cols = [\"Attribute[DTO]\", \"speed1\", \"speed2\", \"speed3\", \"speed4\", \"speed5\", \"speed6\", \"Attribute[SAC]\"]\n",
    "# dm.data.loc[dm.data[\"Attribute[COL]\"] == True][[\"Attribute[DTO]\", \"speed1\", \"speed2\", \"speed3\", \"speed4\", \"speed5\", \"speed6\", \"Attribute[SAC]\"]]\n",
    "dm.data.iloc[ids][cols]"
   ]
  },
  {
   "attachments": {},
   "cell_type": "markdown",
   "metadata": {},
   "source": [
    "## Model"
   ]
  },
  {
   "cell_type": "code",
   "execution_count": 11,
   "metadata": {},
   "outputs": [],
   "source": [
    "from sklearn.metrics import accuracy_score, precision_score, recall_score, f1_score, confusion_matrix\n",
    "from sklearn.ensemble import RandomForestClassifier\n",
    "from sklearn.svm import SVC\n",
    "from xgboost import XGBClassifier"
   ]
  },
  {
   "cell_type": "code",
   "execution_count": 12,
   "metadata": {},
   "outputs": [
    {
     "data": {
      "text/plain": [
       "Attribute[COL]\n",
       "False    3000\n",
       "True     1050\n",
       "dtype: int64"
      ]
     },
     "execution_count": 12,
     "metadata": {},
     "output_type": "execute_result"
    }
   ],
   "source": [
    "dm.underSample(3000)\n",
    "dm.data.value_counts(\"Attribute[COL]\")"
   ]
  },
  {
   "cell_type": "code",
   "execution_count": 13,
   "metadata": {},
   "outputs": [
    {
     "name": "stdout",
     "output_type": "stream",
     "text": [
      "splitting at 3240.\n",
      "trainX:(3240, 30), trainY:(3240, 4), testX:(810, 30), testY:(810, 4)\n"
     ]
    }
   ],
   "source": [
    "trainX, trainY, testX, testY = dm.splitTrainTest()\n",
    "print(f\"trainX:{trainX.shape}, trainY:{trainY.shape}, testX:{testX.shape}, testY:{testY.shape}\")"
   ]
  },
  {
   "attachments": {},
   "cell_type": "markdown",
   "metadata": {},
   "source": [
    "### MLP Classifier"
   ]
  },
  {
   "cell_type": "code",
   "execution_count": 14,
   "metadata": {},
   "outputs": [
    {
     "name": "stdout",
     "output_type": "stream",
     "text": [
      "Scaler is fitted\n"
     ]
    },
    {
     "name": "stderr",
     "output_type": "stream",
     "text": [
      "c:\\Users\\Sigurd\\AppData\\Local\\Programs\\Python\\Python39\\lib\\site-packages\\sklearn\\neural_network\\_multilayer_perceptron.py:686: ConvergenceWarning: Stochastic Optimizer: Maximum iterations (200) reached and the optimization hasn't converged yet.\n",
      "  warnings.warn(\n"
     ]
    }
   ],
   "source": [
    "mlp_clf = Predicter()\n",
    "mlp_trainX, mlp_trainY = mlp_clf.preProcess(trainX.copy(), trainY.copy())\n",
    "mlp_testX, mlp_testY = mlp_clf.preProcess(testX.copy(), testY.copy())\n",
    "\n",
    "mlp_clf.fit(mlp_trainX, mlp_trainY)"
   ]
  },
  {
   "cell_type": "code",
   "execution_count": 15,
   "metadata": {},
   "outputs": [
    {
     "name": "stdout",
     "output_type": "stream",
     "text": [
      "Total: 810, number of collisions: 217\n",
      "\tTN: 572 \t| FP: 21 \n",
      "\tFN: 27 \t| TP: 190\n",
      "Accuracy: 0.94\n",
      "Precision: 0.9\n",
      "Recall: 0.88\n",
      "F1: 0.89\n"
     ]
    }
   ],
   "source": [
    "mlp_pred = mlp_clf.predict(mlp_testX)\n",
    "mlp_score = mlp_clf.getScore(mlp_pred, mlp_testY)"
   ]
  },
  {
   "cell_type": "code",
   "execution_count": 16,
   "metadata": {},
   "outputs": [
    {
     "name": "stdout",
     "output_type": "stream",
     "text": [
      "Model saved!\n"
     ]
    }
   ],
   "source": [
    "model_score = f\"{mlp_score[0][0]}-{mlp_score[0][1]}-{mlp_score[1][0]}-{mlp_score[1][1]}\"\n",
    "mlp_clf.saveModel(f\"MLPClassifier_{MODEL_PREFIX}\", accuracy=model_score)"
   ]
  },
  {
   "attachments": {},
   "cell_type": "markdown",
   "metadata": {},
   "source": [
    "### Random Forest"
   ]
  },
  {
   "cell_type": "code",
   "execution_count": 17,
   "metadata": {},
   "outputs": [
    {
     "name": "stdout",
     "output_type": "stream",
     "text": [
      "Scaler is fitted\n"
     ]
    }
   ],
   "source": [
    "rf_clf = DTPredictor(RandomForestClassifier(n_estimators=100, max_depth=10, random_state=1))\n",
    "rf_trainX, rf_trainY = rf_clf.preProcess(trainX.copy(), trainY.copy())\n",
    "rf_testX, rf_testY = rf_clf.preProcess(testX.copy(), testY.copy())\n",
    "\n",
    "rf_clf.fit(rf_trainX, rf_trainY)"
   ]
  },
  {
   "cell_type": "code",
   "execution_count": 18,
   "metadata": {},
   "outputs": [
    {
     "name": "stdout",
     "output_type": "stream",
     "text": [
      "Total: 810, Collisions: 217\n",
      "Accuracy: 0.9506172839506173, Precision: 0.9359605911330049, Recall: 0.8755760368663594, F1: 0.9047619047619048\n",
      "Confusion matrix:\n",
      "[[580  13]\n",
      " [ 27 190]]\n"
     ]
    }
   ],
   "source": [
    "rf_pred = rf_clf.predict(rf_testX)\n",
    "rf_score = rf_clf.getScore(rf_testY, rf_pred)"
   ]
  },
  {
   "cell_type": "code",
   "execution_count": 19,
   "metadata": {},
   "outputs": [
    {
     "name": "stdout",
     "output_type": "stream",
     "text": [
      "Model saved!\n"
     ]
    }
   ],
   "source": [
    "model_score = f\"{rf_score[0][0]}-{rf_score[0][1]}-{rf_score[1][0]}-{rf_score[1][1]}\"\n",
    "rf_clf.saveModel(f\"RandomForestClassifier_{MODEL_PREFIX}\", accuracy=model_score)"
   ]
  },
  {
   "attachments": {},
   "cell_type": "markdown",
   "metadata": {},
   "source": [
    "### Support Vector Machine - Classifier"
   ]
  },
  {
   "cell_type": "code",
   "execution_count": 20,
   "metadata": {},
   "outputs": [
    {
     "name": "stdout",
     "output_type": "stream",
     "text": [
      "Scaler is fitted\n"
     ]
    }
   ],
   "source": [
    "svm_clf = DTPredictor(SVC(random_state=1))\n",
    "svm_trainX, svm_trainY = svm_clf.preProcess(trainX.copy(), trainY.copy())\n",
    "svm_testX, svm_testY = svm_clf.preProcess(testX.copy(), testY.copy())"
   ]
  },
  {
   "cell_type": "code",
   "execution_count": 21,
   "metadata": {},
   "outputs": [],
   "source": [
    "svm_clf.fit(svm_trainX, svm_trainY)"
   ]
  },
  {
   "cell_type": "code",
   "execution_count": 23,
   "metadata": {},
   "outputs": [
    {
     "name": "stdout",
     "output_type": "stream",
     "text": [
      "Total: 810, Collisions: 217\n",
      "Accuracy: 0.8962962962962963, Precision: 0.9235668789808917, Recall: 0.6682027649769585, F1: 0.7754010695187166\n",
      "Confusion matrix:\n",
      "[[581  12]\n",
      " [ 72 145]]\n"
     ]
    }
   ],
   "source": [
    "svm_pred = svm_clf.predict(svm_testX)\n",
    "svm_score = svm_clf.getScore(svm_testY, svm_pred)"
   ]
  },
  {
   "cell_type": "code",
   "execution_count": 24,
   "metadata": {},
   "outputs": [
    {
     "name": "stdout",
     "output_type": "stream",
     "text": [
      "Model saved!\n"
     ]
    }
   ],
   "source": [
    "model_score = f\"{svm_score[0][0]}-{svm_score[0][1]}-{svm_score[1][0]}-{svm_score[1][1]}\"\n",
    "svm_clf.saveModel(f\"SVC_{MODEL_PREFIX}\", accuracy=model_score)"
   ]
  },
  {
   "attachments": {},
   "cell_type": "markdown",
   "metadata": {},
   "source": [
    "### xgboost - Classifier"
   ]
  },
  {
   "cell_type": "code",
   "execution_count": 25,
   "metadata": {},
   "outputs": [
    {
     "name": "stdout",
     "output_type": "stream",
     "text": [
      "Scaler is fitted\n"
     ]
    }
   ],
   "source": [
    "xgb_clf = DTPredictor(XGBClassifier(n_estimators=100, random_state=1))\n",
    "xgb_trainX, xgb_trainY = xgb_clf.preProcess(trainX.copy(), trainY.copy())\n",
    "xgb_testX, xgb_testY = xgb_clf.preProcess(testX.copy(), testY.copy())"
   ]
  },
  {
   "cell_type": "code",
   "execution_count": 26,
   "metadata": {},
   "outputs": [],
   "source": [
    "xgb_clf.fit(xgb_trainX, xgb_trainY)"
   ]
  },
  {
   "cell_type": "code",
   "execution_count": 27,
   "metadata": {},
   "outputs": [
    {
     "name": "stdout",
     "output_type": "stream",
     "text": [
      "Total: 810, Collisions: 217\n",
      "Accuracy: 0.9555555555555556, Precision: 0.9289099526066351, Recall: 0.9032258064516129, F1: 0.9158878504672897\n",
      "Confusion matrix:\n",
      "[[578  15]\n",
      " [ 21 196]]\n"
     ]
    }
   ],
   "source": [
    "xgb_pred = xgb_clf.predict(xgb_testX)\n",
    "xgb_score = xgb_clf.getScore(xgb_testY, xgb_pred)"
   ]
  },
  {
   "cell_type": "code",
   "execution_count": 28,
   "metadata": {},
   "outputs": [
    {
     "name": "stdout",
     "output_type": "stream",
     "text": [
      "Model saved!\n"
     ]
    }
   ],
   "source": [
    "model_score = f\"{xgb_score[0][0]}-{xgb_score[0][1]}-{xgb_score[1][0]}-{xgb_score[1][1]}\"\n",
    "xgb_clf.saveModel(f\"XGBClassifier_{MODEL_PREFIX}\", accuracy=model_score)"
   ]
  }
 ],
 "metadata": {
  "kernelspec": {
   "display_name": "Python 3.9.16 ('MasterThesis')",
   "language": "python",
   "name": "python3"
  },
  "language_info": {
   "codemirror_mode": {
    "name": "ipython",
    "version": 3
   },
   "file_extension": ".py",
   "mimetype": "text/x-python",
   "name": "python",
   "nbconvert_exporter": "python",
   "pygments_lexer": "ipython3",
   "version": "3.9.1"
  },
  "orig_nbformat": 4,
  "vscode": {
   "interpreter": {
    "hash": "5ea953018f845277ff9327bc0467e81b58a68076ce0c385be95779bfd3460f16"
   }
  }
 },
 "nbformat": 4,
 "nbformat_minor": 2
}
