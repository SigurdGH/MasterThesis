{
 "cells": [
  {
   "cell_type": "code",
   "execution_count": 241,
   "metadata": {},
   "outputs": [],
   "source": [
    "import numpy as np\n",
    "import pandas as pd\n",
    "import matplotlib.pylab as plt"
   ]
  },
  {
   "cell_type": "code",
   "execution_count": 242,
   "metadata": {},
   "outputs": [
    {
     "name": "stdout",
     "output_type": "stream",
     "text": [
      "<class 'pandas.core.frame.DataFrame'>\n",
      "RangeIndex: 33530 entries, 0 to 33529\n",
      "Data columns (total 13 columns):\n",
      " #   Column                         Non-Null Count  Dtype  \n",
      "---  ------                         --------------  -----  \n",
      " 0   Execution                      33530 non-null  int64  \n",
      " 1   ScenarioID                     33530 non-null  object \n",
      " 2   Configuration_API_Description  33530 non-null  object \n",
      " 3   Attribute[TTC]                 33530 non-null  float64\n",
      " 4   Attribute[DTO]                 33530 non-null  float64\n",
      " 5   Attribute[Jerk]                33530 non-null  float64\n",
      " 6   Attribute[COL]                 33530 non-null  bool   \n",
      " 7   Attribute[COLT]                33530 non-null  object \n",
      " 8   Attribute[SAC]                 33530 non-null  float64\n",
      " 9   reward                         33530 non-null  object \n",
      " 10  road                           33530 non-null  object \n",
      " 11  strategy                       33530 non-null  object \n",
      " 12  scenario                       33530 non-null  object \n",
      "dtypes: bool(1), float64(4), int64(1), object(7)\n",
      "memory usage: 3.1+ MB\n"
     ]
    }
   ],
   "source": [
    "data = pd.read_csv(\"../data/deep-scenario.csv\")\n",
    "data.info()"
   ]
  },
  {
   "cell_type": "code",
   "execution_count": 243,
   "metadata": {},
   "outputs": [],
   "source": [
    "data.head()\n",
    "data.drop_duplicates(inplace=True)"
   ]
  },
  {
   "cell_type": "code",
   "execution_count": 244,
   "metadata": {},
   "outputs": [
    {
     "data": {
      "text/html": [
       "<div>\n",
       "<style scoped>\n",
       "    .dataframe tbody tr th:only-of-type {\n",
       "        vertical-align: middle;\n",
       "    }\n",
       "\n",
       "    .dataframe tbody tr th {\n",
       "        vertical-align: top;\n",
       "    }\n",
       "\n",
       "    .dataframe thead th {\n",
       "        text-align: right;\n",
       "    }\n",
       "</style>\n",
       "<table border=\"1\" class=\"dataframe\">\n",
       "  <thead>\n",
       "    <tr style=\"text-align: right;\">\n",
       "      <th></th>\n",
       "      <th>Execution</th>\n",
       "      <th>ScenarioID</th>\n",
       "      <th>Configuration_API_Description</th>\n",
       "      <th>Attribute[TTC]</th>\n",
       "      <th>Attribute[DTO]</th>\n",
       "      <th>Attribute[Jerk]</th>\n",
       "      <th>Attribute[COL]</th>\n",
       "      <th>Attribute[COLT]</th>\n",
       "      <th>Attribute[SAC]</th>\n",
       "      <th>reward</th>\n",
       "      <th>road</th>\n",
       "      <th>strategy</th>\n",
       "      <th>scenario</th>\n",
       "    </tr>\n",
       "  </thead>\n",
       "  <tbody>\n",
       "    <tr>\n",
       "      <th>2224</th>\n",
       "      <td>0</td>\n",
       "      <td>0_scenario_0</td>\n",
       "      <td>A pink Sedan is driving from the opposite dire...</td>\n",
       "      <td>2.046108</td>\n",
       "      <td>19.940853</td>\n",
       "      <td>2.02</td>\n",
       "      <td>False</td>\n",
       "      <td>None</td>\n",
       "      <td>0.0</td>\n",
       "      <td>dto</td>\n",
       "      <td>road3</td>\n",
       "      <td>greedy</td>\n",
       "      <td>rain_day</td>\n",
       "    </tr>\n",
       "  </tbody>\n",
       "</table>\n",
       "</div>"
      ],
      "text/plain": [
       "      Execution    ScenarioID  \\\n",
       "2224          0  0_scenario_0   \n",
       "\n",
       "                          Configuration_API_Description  Attribute[TTC]  \\\n",
       "2224  A pink Sedan is driving from the opposite dire...        2.046108   \n",
       "\n",
       "      Attribute[DTO]  Attribute[Jerk]  Attribute[COL] Attribute[COLT]  \\\n",
       "2224       19.940853             2.02           False            None   \n",
       "\n",
       "      Attribute[SAC] reward   road strategy  scenario  \n",
       "2224             0.0    dto  road3   greedy  rain_day  "
      ]
     },
     "execution_count": 244,
     "metadata": {},
     "output_type": "execute_result"
    }
   ],
   "source": [
    "data.loc[(data[\"ScenarioID\"]==\"0_scenario_0\") & (data[\"road\"]==\"road3\") & (data[\"reward\"]==\"dto\") & (data[\"strategy\"]==\"greedy\") & (data[\"scenario\"]==\"rain_day\")]"
   ]
  },
  {
   "cell_type": "code",
   "execution_count": 245,
   "metadata": {},
   "outputs": [
    {
     "data": {
      "text/plain": [
       "(33530, 13)"
      ]
     },
     "execution_count": 245,
     "metadata": {},
     "output_type": "execute_result"
    }
   ],
   "source": [
    "# data.loc[data.duplicated()==True]\n",
    "data.drop_duplicates(inplace=True)\n",
    "data.shape"
   ]
  },
  {
   "cell_type": "code",
   "execution_count": 246,
   "metadata": {},
   "outputs": [],
   "source": [
    "def readSplitData(filename: str=\"\", splitRatio: float=0.8) -> tuple[pd.DataFrame, pd.DataFrame, pd.DataFrame, pd.DataFrame]:\n",
    "    \"\"\"\n",
    "    Splitting the data\n",
    "\n",
    "    Returning: trainX, trainY, testingX, testingY.\n",
    "    \"\"\"\n",
    "    try:\n",
    "        data = pd.read_csv(filename, index_col=1)\n",
    "    except FileNotFoundError:\n",
    "        print(\"File does not exist.\")\n",
    "        return [None]*4\n",
    "\n",
    "    data.drop(\"Execution\", inplace=True, axis=1)\n",
    "    data.drop(\"Configuration_API_Description\", inplace=True, axis=1)\n",
    "    \n",
    "    data = data.sample(frac=1)\n",
    "    split = int(np.floor(len(data)*splitRatio))\n",
    "    print(f\"splitting at {split}\")\n",
    "    train, test = data[:split], data[split:]\n",
    "    # trainX = train[[\"Execution\", \"Configuration_API_Description\", \"Attribute[TTC]\", \"Attribute[DTO]\", \"Attribute[Jerk]\"]]\n",
    "    trainX = train[[\"Attribute[TTC]\", \"Attribute[DTO]\", \"Attribute[Jerk]\"]]\n",
    "    trainY = train[[\"Attribute[COL]\",\"Attribute[COLT]\",\"Attribute[SAC]\"]]\n",
    "    # testX = test[[\"Execution\", \"Configuration_API_Description\", \"Attribute[TTC]\", \"Attribute[DTO]\", \"Attribute[Jerk]\"]]\n",
    "    testX = test[[\"Attribute[TTC]\", \"Attribute[DTO]\", \"Attribute[Jerk]\"]]\n",
    "    testY = test[[\"Attribute[COL]\",\"Attribute[COLT]\",\"Attribute[SAC]\"]]\n",
    "    return trainX, trainY, testX, testY\n"
   ]
  },
  {
   "cell_type": "code",
   "execution_count": 247,
   "metadata": {},
   "outputs": [
    {
     "name": "stdout",
     "output_type": "stream",
     "text": [
      "splitting at 26824\n",
      "trainX:(26824, 3), trainY:(26824, 3), testX:(6706, 3), testY:(6706, 3)\n"
     ]
    }
   ],
   "source": [
    "trainX, trainY, testX, testY = readSplitData(\"../data/deep-scenario.csv\")\n",
    "print(f\"trainX:{trainX.shape}, trainY:{trainY.shape}, testX:{testX.shape}, testY:{testY.shape}\")\n",
    "# trainX"
   ]
  }
 ],
 "metadata": {
  "kernelspec": {
   "display_name": "Python 3",
   "language": "python",
   "name": "python3"
  },
  "language_info": {
   "codemirror_mode": {
    "name": "ipython",
    "version": 3
   },
   "file_extension": ".py",
   "mimetype": "text/x-python",
   "name": "python",
   "nbconvert_exporter": "python",
   "pygments_lexer": "ipython3",
   "version": "3.9.1"
  },
  "orig_nbformat": 4,
  "vscode": {
   "interpreter": {
    "hash": "afea23f61d6a821af1961b60809105e43be664e14901e921a7e345d902bc2549"
   }
  }
 },
 "nbformat": 4,
 "nbformat_minor": 2
}
