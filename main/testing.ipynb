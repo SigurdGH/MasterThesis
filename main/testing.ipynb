{
 "cells": [
  {
   "cell_type": "code",
   "execution_count": 1,
   "metadata": {},
   "outputs": [],
   "source": [
    "import numpy as np\n",
    "import pandas as pd\n",
    "import matplotlib.pylab as plt\n",
    "from sklearn.neural_network import MLPClassifier\n",
    "from sklearn import preprocessing"
   ]
  },
  {
   "cell_type": "code",
   "execution_count": 2,
   "metadata": {},
   "outputs": [
    {
     "name": "stdout",
     "output_type": "stream",
     "text": [
      "<class 'pandas.core.frame.DataFrame'>\n",
      "RangeIndex: 33530 entries, 0 to 33529\n",
      "Data columns (total 13 columns):\n",
      " #   Column                         Non-Null Count  Dtype  \n",
      "---  ------                         --------------  -----  \n",
      " 0   Execution                      33530 non-null  int64  \n",
      " 1   ScenarioID                     33530 non-null  object \n",
      " 2   Configuration_API_Description  33530 non-null  object \n",
      " 3   Attribute[TTC]                 33530 non-null  float64\n",
      " 4   Attribute[DTO]                 33530 non-null  float64\n",
      " 5   Attribute[Jerk]                33530 non-null  float64\n",
      " 6   Attribute[COL]                 33530 non-null  bool   \n",
      " 7   Attribute[COLT]                33530 non-null  object \n",
      " 8   Attribute[SAC]                 33530 non-null  float64\n",
      " 9   reward                         33530 non-null  object \n",
      " 10  road                           33530 non-null  object \n",
      " 11  strategy                       33530 non-null  object \n",
      " 12  scenario                       33530 non-null  object \n",
      "dtypes: bool(1), float64(4), int64(1), object(7)\n",
      "memory usage: 3.1+ MB\n"
     ]
    }
   ],
   "source": [
    "data = pd.read_csv(\"../data/deep-scenario.csv\")\n",
    "data.info()"
   ]
  },
  {
   "cell_type": "code",
   "execution_count": 3,
   "metadata": {},
   "outputs": [],
   "source": [
    "class DataManipulation():\n",
    "    def __init__(self):\n",
    "        self.__data = None\n",
    "        # self.__dataDesc = None\n",
    "\n",
    "\n",
    "    def splitTrainTest(self, filename: str=\"\", splitRatio: float=0.8) -> tuple[pd.DataFrame, pd.DataFrame, pd.DataFrame, pd.DataFrame]:\n",
    "        \"\"\"\n",
    "        Splitting the data.\n",
    "\n",
    "        Params:\n",
    "            filename: str, name of file to split\n",
    "            splitRatio: float 0-1, % of data to be testing\n",
    "\n",
    "        TODO\n",
    "            Slå sammen road, scenario, strategy og reward til noe brukbart\n",
    "\n",
    "        Returns:\n",
    "            trainX, trainY, testingX, testingY.\n",
    "        \"\"\"\n",
    "        if not 0 < splitRatio < 1: raise ValueError(\"SplitRatio must be between 0 and 1!\")\n",
    "        try:\n",
    "            self.__data = pd.read_csv(filename)\n",
    "        except:\n",
    "            raise FileNotFoundError(f\"The file does not exist.\")\n",
    "\n",
    "        # self.__dataDesc = pd.concat([self.__data.pop(feature) for feature in [\"Execution\",\"ScenarioID\",\"Configuration_API_Description\"]], axis=1)\n",
    "\n",
    "        # Shuffle data\n",
    "        self.__data = self.__data.sample(frac=1)\n",
    "\n",
    "        temp = self.__data.copy()\n",
    "        # Removing all non numeric values, might need to make string values into numbers\n",
    "        temp = temp.drop([\"Execution\",\"ScenarioID\",\"Configuration_API_Description\"], axis=1)\n",
    "        split = int(np.floor(len(self.__data)*splitRatio))\n",
    "        print(f\"splitting at {split}.\")\n",
    "\n",
    "        trainX, testX = temp[:split], temp[split:]\n",
    "\n",
    "        trainY = pd.concat([trainX.pop(feature) for feature in [\"Attribute[COL]\",\"Attribute[COLT]\",\"Attribute[SAC]\"]], axis=1)\n",
    "        testY = pd.concat([testX.pop(feature) for feature in [\"Attribute[COL]\",\"Attribute[COLT]\",\"Attribute[SAC]\"]], axis=1)\n",
    "\n",
    "        return trainX, trainY, testX, testY\n",
    "\n",
    "\n",
    "    def getCompleteRow(self, index: None):\n",
    "        \"\"\"\n",
    "        Gets the origianl row from index(es).\n",
    "\n",
    "        Params:\n",
    "            index: int or list\n",
    "\n",
    "        Return:\n",
    "            Dataframe or Series\n",
    "        \"\"\"\n",
    "        if index == None and self.__data != None:# and self.__dataDesc != None:\n",
    "            return self.__dataDesc\n",
    "        elif isinstance(index, list) or isinstance(index, int):\n",
    "            return self.__data.loc[index]\n",
    "        return (\"Something went wrong.\")\n",
    "\n",
    "\n",
    "    def getOriginalPath(self, index: int):\n",
    "        \"\"\"\n",
    "        Gets the complete path from where the row was originally collected together with its ScenarioID.\n",
    "\n",
    "        Params:\n",
    "            index: int\n",
    "\n",
    "        Return:\n",
    "            dict{\"SenarioID\": str, \"path\": str}\n",
    "        \"\"\"\n",
    "        if isinstance(index, int):\n",
    "            row = self.getCompleteRow(index)\n",
    "            return {\n",
    "                \"ScenarioID\": row[\"ScenarioID\"],\n",
    "                \"path\": f\"{row['strategy']}-strategy/reward-{row['reward']}/{row['road']}-{row['scenario']}-scenario-attributes.csv\"\n",
    "                }\n",
    "        raise ValueError(\"Index needs to be an integer!\")\n"
   ]
  },
  {
   "cell_type": "code",
   "execution_count": 4,
   "metadata": {},
   "outputs": [
    {
     "name": "stdout",
     "output_type": "stream",
     "text": [
      "splitting at 26824.\n",
      "trainX:(26824, 7), trainY:(26824, 3), testX:(6706, 7), testY:(6706, 3)\n",
      "Attribute[COL]  False  True \n",
      "strategy                    \n",
      "greedy          10440    161\n",
      "random          10726    123\n",
      "rl_based         4817    557\n"
     ]
    }
   ],
   "source": [
    "dm = DataManipulation()\n",
    "trainX, trainY, testX, testY = dm.splitTrainTest(\"../data/deep-scenario.csv\")\n",
    "print(f\"trainX:{trainX.shape}, trainY:{trainY.shape}, testX:{testX.shape}, testY:{testY.shape}\")\n",
    "# print(trainX.head())\n",
    "# trainX.hist(bins=500, figsize=(20,15))\n",
    "\n",
    "d = pd.concat([trainX, trainY], axis=1)\n",
    "df = d.groupby(['strategy', 'Attribute[COL]']).size()\n",
    "df = df.unstack()\n",
    "# Very few collisions \n",
    "print(df)\n"
   ]
  },
  {
   "cell_type": "code",
   "execution_count": 80,
   "metadata": {},
   "outputs": [],
   "source": [
    "class Predicter():\n",
    "    \"\"\"\n",
    "    NOTE: Should try other models and should do something about TTC, some are < 15, many are 100000.\n",
    "    \"\"\"\n",
    "    def __init__(self):\n",
    "        self.model = MLPClassifier()\n",
    "\n",
    "\n",
    "    def preProcess(self, x=None, y=None, targetCol=\"Attribute[COL]\"):\n",
    "        \"\"\"\n",
    "        Process x and y by transforming to np.array and mean scale x.\n",
    "        \n",
    "        Params:\n",
    "            x: dataframe\n",
    "            y: dataframe\n",
    "            targetCol: str, name of column that is to be predicted\n",
    "        \n",
    "        Returns:\n",
    "            x: np.array\n",
    "            y: np.array\n",
    "        \"\"\"\n",
    "        if isinstance(x, pd.DataFrame):\n",
    "            # only accepts numeric values in training as of now\n",
    "            for c in x.columns:\n",
    "                if x[c].dtype != float:\n",
    "                    x = x.drop(c, axis=1)\n",
    "            x.loc[x[\"Attribute[TTC]\"]==100000] = -1 # NOTE May be transformed to something else\n",
    "            x = x.to_numpy()\n",
    "            scaler = preprocessing.StandardScaler().fit(x) # Scaling the input\n",
    "            x = scaler.transform(x)\n",
    "\n",
    "        if isinstance(y, pd.DataFrame):\n",
    "            if targetCol and targetCol in y.columns:\n",
    "                y = y[targetCol]\n",
    "                y.replace(False, 0, inplace=True)\n",
    "                y.replace(True, 1, inplace=True)\n",
    "                y = y.to_numpy()\n",
    "            else:\n",
    "                print(\"Wrong parameters was sent in!\")\n",
    "        \n",
    "        return x, y\n",
    "        \n",
    "\n",
    "    def fit(self, x, y):\n",
    "        \"\"\"\n",
    "        Train the model.\n",
    "\n",
    "        Params:\n",
    "            x: np.array, preprocessed training data\n",
    "            y: np.array, preprocessed training truth\n",
    "        \"\"\"\n",
    "        self.model.fit(x, y)\n",
    "\n",
    "\n",
    "    def predict(self, x):\n",
    "        \"\"\"\n",
    "        Params:\n",
    "            x: Dataframe, what to predict\n",
    "\n",
    "        Returns:\n",
    "            predictions: np.array of 0 and 1\n",
    "        \"\"\"\n",
    "        return self.model.predict(x)\n",
    "\n",
    "\n",
    "    def getScore(self, predictions, truth):\n",
    "        \"\"\"\"\n",
    "        Shows the score of given predictions and ground truth in a confusion matrix.\n",
    "        \n",
    "        Prints as follows:\n",
    "            True negative | False positive\n",
    "\n",
    "            False negative | True positive\n",
    "\n",
    "        Params:\n",
    "            predictions: np.array\n",
    "            truth: np.array\n",
    "        \n",
    "        Returns:\n",
    "            cm: list[list]\n",
    "        \"\"\"\n",
    "        _, truthProcessed = self.preProcess(y=truth)\n",
    "        tot = 0\n",
    "        cm = [[0, 0], [0, 0]]\n",
    "        col = np.count_nonzero(truthProcessed == 1)\n",
    "        \n",
    "        for p, t in zip(predictions, truthProcessed):\n",
    "            cm[t][p] += 1\n",
    "            tot += 1\n",
    "        print(f\"Total: {tot}, number of collisions: {col}\")\n",
    "        print(f\"\\tTN: {cm[0][0]} \\t| FP: {cm[0][1]} \\n\\tFN: {cm[1][0]} \\t| TP: {cm[1][1]}\")\n",
    "        return cm"
   ]
  },
  {
   "cell_type": "code",
   "execution_count": 82,
   "metadata": {},
   "outputs": [
    {
     "name": "stdout",
     "output_type": "stream",
     "text": [
      "Total: 6706, number of collisions: 209\n",
      "\tTN: 6159 \t| FP: 338 \n",
      "\tFN: 92 \t| TP: 117\n"
     ]
    }
   ],
   "source": [
    "p = Predicter()\n",
    "\n",
    "x, y = p.preProcess(trainX, trainY)\n",
    "p.fit(x, y)\n",
    "\n",
    "testXp, testYp = p.preProcess(testX, testY)\n",
    "pred = p.predict(testXp)\n",
    "score = p.getScore(pred, testYp)\n"
   ]
  },
  {
   "cell_type": "code",
   "execution_count": 73,
   "metadata": {},
   "outputs": [
    {
     "name": "stdout",
     "output_type": "stream",
     "text": [
      "Total: 6706, number of collisions: 209\n",
      "\tTN: 6293 \t| FP: 204 \n",
      "\tFN: 121 \t| TP: 88\n",
      "[[6293, 204], [121, 88]]\n"
     ]
    }
   ],
   "source": [
    "p.getScore(pred, testY)"
   ]
  }
 ],
 "metadata": {
  "kernelspec": {
   "display_name": "Python 3",
   "language": "python",
   "name": "python3"
  },
  "language_info": {
   "codemirror_mode": {
    "name": "ipython",
    "version": 3
   },
   "file_extension": ".py",
   "mimetype": "text/x-python",
   "name": "python",
   "nbconvert_exporter": "python",
   "pygments_lexer": "ipython3",
   "version": "3.9.1"
  },
  "orig_nbformat": 4,
  "vscode": {
   "interpreter": {
    "hash": "afea23f61d6a821af1961b60809105e43be664e14901e921a7e345d902bc2549"
   }
  }
 },
 "nbformat": 4,
 "nbformat_minor": 2
}
