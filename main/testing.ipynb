{
 "cells": [
  {
   "cell_type": "code",
   "execution_count": 69,
   "metadata": {},
   "outputs": [],
   "source": [
    "import numpy as np\n",
    "import pandas as pd\n",
    "import matplotlib.pylab as plt\n",
    "from sklearn.neural_network import MLPClassifier\n",
    "from sklearn import preprocessing"
   ]
  },
  {
   "cell_type": "code",
   "execution_count": 70,
   "metadata": {},
   "outputs": [
    {
     "name": "stdout",
     "output_type": "stream",
     "text": [
      "<class 'pandas.core.frame.DataFrame'>\n",
      "RangeIndex: 33530 entries, 0 to 33529\n",
      "Data columns (total 13 columns):\n",
      " #   Column                         Non-Null Count  Dtype  \n",
      "---  ------                         --------------  -----  \n",
      " 0   Execution                      33530 non-null  int64  \n",
      " 1   ScenarioID                     33530 non-null  object \n",
      " 2   Configuration_API_Description  33530 non-null  object \n",
      " 3   Attribute[TTC]                 33530 non-null  float64\n",
      " 4   Attribute[DTO]                 33530 non-null  float64\n",
      " 5   Attribute[Jerk]                33530 non-null  float64\n",
      " 6   Attribute[COL]                 33530 non-null  bool   \n",
      " 7   Attribute[COLT]                33530 non-null  object \n",
      " 8   Attribute[SAC]                 33530 non-null  float64\n",
      " 9   reward                         33530 non-null  object \n",
      " 10  road                           33530 non-null  object \n",
      " 11  strategy                       33530 non-null  object \n",
      " 12  scenario                       33530 non-null  object \n",
      "dtypes: bool(1), float64(4), int64(1), object(7)\n",
      "memory usage: 3.1+ MB\n"
     ]
    }
   ],
   "source": [
    "data = pd.read_csv(\"../data/deep-scenario.csv\")\n",
    "data.info()"
   ]
  },
  {
   "cell_type": "code",
   "execution_count": 71,
   "metadata": {},
   "outputs": [],
   "source": [
    "class DataManipulation():\n",
    "    def __init__(self, filename: str=\"\"):\n",
    "        # self.__data = None\n",
    "        # if self.__data == None:\n",
    "        try:\n",
    "            self.__data = pd.read_csv(filename)\n",
    "        except:\n",
    "            self.__data = None\n",
    "            raise FileNotFoundError(f\"The file does not exist.\")\n",
    "        # self.__dataDesc = None\n",
    "\n",
    "\n",
    "    def addFromXML(self, filename: str=\"\") -> None:\n",
    "        \"\"\"\n",
    "        Reads more data from XML files, as of now, only speeds at six different timstamps.\n",
    "\n",
    "        Params:\n",
    "            filename: str, name of file read from\n",
    "        \"\"\"\n",
    "        try:\n",
    "            xmlDf = pd.read_csv(filename, index_col=0)\n",
    "        except:\n",
    "            raise FileNotFoundError(f\"The file does not exist.\")\n",
    "        if isinstance(self.__data, pd.DataFrame):\n",
    "            self.__data = self.__data.merge(xmlDf, how=\"inner\", on=[\"ScenarioID\", \"road\", \"reward\", \"scenario\", \"strategy\"], copy=False)\n",
    "        else:\n",
    "            print(\"Something went wrong in 'addFromXML()'!\")\n",
    "\n",
    "\n",
    "    def splitTrainTest(self, splitRatio: float=0.8) -> tuple[pd.DataFrame, pd.DataFrame, pd.DataFrame, pd.DataFrame]:\n",
    "        \"\"\"\n",
    "        Splitting the data.\n",
    "\n",
    "        Params:\n",
    "            filename: str, name of file to split\n",
    "            splitRatio: float 0-1, % of data to be testing\n",
    "\n",
    "        TODO\n",
    "            Slå sammen road, scenario, strategy og reward til noe brukbart\n",
    "\n",
    "        Returns:\n",
    "            trainX, trainY, testingX, testingY.\n",
    "        \"\"\"\n",
    "        if not 0 < splitRatio < 1: raise ValueError(\"SplitRatio must be between 0 and 1!\")\n",
    "        \n",
    "\n",
    "        # self.__dataDesc = pd.concat([self.__data.pop(feature) for feature in [\"Execution\",\"ScenarioID\",\"Configuration_API_Description\"]], axis=1)\n",
    "\n",
    "        # Shuffle data\n",
    "        self.__data = self.__data.sample(frac=1, random_state=1)\n",
    "\n",
    "        temp = self.__data.copy()\n",
    "        # Removing all non numeric values, might need to make string values into numbers\n",
    "        temp = temp.drop([\"Execution\",\"ScenarioID\",\"Configuration_API_Description\"], axis=1)\n",
    "        split = int(np.floor(len(self.__data)*splitRatio))\n",
    "        print(f\"splitting at {split}.\")\n",
    "\n",
    "        trainX, testX = temp[:split], temp[split:]\n",
    "\n",
    "        trainY = pd.concat([trainX.pop(feature) for feature in [\"Attribute[COL]\",\"Attribute[COLT]\",\"Attribute[SAC]\"]], axis=1)\n",
    "        testY = pd.concat([testX.pop(feature) for feature in [\"Attribute[COL]\",\"Attribute[COLT]\",\"Attribute[SAC]\"]], axis=1)\n",
    "\n",
    "        return trainX, trainY, testX, testY\n",
    "\n",
    "\n",
    "    def getCompleteRow(self, index: None):\n",
    "        \"\"\"\n",
    "        Gets the origianl row from index(es).\n",
    "\n",
    "        Params:\n",
    "            index: int or list\n",
    "\n",
    "        Return:\n",
    "            Dataframe or Series\n",
    "        \"\"\"\n",
    "        if index == None and self.__data != None:# and self.__dataDesc != None:\n",
    "            return self.__dataDesc\n",
    "        elif isinstance(index, list) or isinstance(index, int):\n",
    "            return self.__data.loc[index]\n",
    "        return (\"Something went wrong.\")\n",
    "\n",
    "\n",
    "    def getOriginalPath(self, index: int):\n",
    "        \"\"\"\n",
    "        Gets the complete path from where the row was originally collected together with its ScenarioID.\n",
    "\n",
    "        Params:\n",
    "            index: int\n",
    "\n",
    "        Return:\n",
    "            dict{\"SenarioID\": str, \"path\": str}\n",
    "        \"\"\"\n",
    "        if isinstance(index, int):\n",
    "            row = self.getCompleteRow(index)\n",
    "            return {\n",
    "                \"ScenarioID\": row[\"ScenarioID\"],\n",
    "                \"path\": f\"{row['strategy']}-strategy/reward-{row['reward']}/{row['road']}-{row['scenario']}-scenario-attributes.csv\"\n",
    "                }\n",
    "        raise ValueError(\"Index needs to be an integer!\")\n"
   ]
  },
  {
   "cell_type": "code",
   "execution_count": 72,
   "metadata": {},
   "outputs": [
    {
     "name": "stdout",
     "output_type": "stream",
     "text": [
      "splitting at 26824.\n",
      "trainX:(26824, 13), trainY:(26824, 3), testX:(6706, 13), testY:(6706, 3)\n",
      "       Attribute[TTC]  Attribute[DTO]  Attribute[Jerk] reward   road  \\\n",
      "23853   100000.000000        6.434714             5.04    ttc  road2   \n",
      "30032        0.695324        5.552715             5.74   jerk  road2   \n",
      "11507   100000.000000        8.511993             5.90    ttc  road3   \n",
      "17653        0.760641        7.845926            14.30    dto  road4   \n",
      "16680        8.738029       14.960495             0.88    dto  road3   \n",
      "\n",
      "       strategy     scenario  speed1  speed2  speed3  speed4  speed5  speed6  \n",
      "23853    random   rain_night   5.547   4.660   4.401   4.228   3.986   3.746  \n",
      "30032  rl_based  sunny_night   5.558   4.607   4.358   4.832   4.246   3.967  \n",
      "11507    greedy   rain_night   0.908   0.001   0.789   0.687   0.001   1.000  \n",
      "17653    random  sunny_night   5.127   6.324   6.615   8.165   8.313   8.683  \n",
      "16680    random  sunny_night   8.075   8.280   8.360   8.458   8.566   8.755  \n",
      "Attribute[COL]  False  True \n",
      "strategy                    \n",
      "greedy          10440    147\n",
      "random          10736    129\n",
      "rl_based         4813    559\n"
     ]
    }
   ],
   "source": [
    "dm = DataManipulation(\"../data/deep-scenario.csv\")\n",
    "\n",
    "dm.addFromXML(\"../data/dataFromXML.csv\")\n",
    "trainX, trainY, testX, testY = dm.splitTrainTest()\n",
    "print(f\"trainX:{trainX.shape}, trainY:{trainY.shape}, testX:{testX.shape}, testY:{testY.shape}\")\n",
    "print(trainX.head())\n",
    "# trainX.hist(bins=500, figsize=(20,15))\n",
    "max(trainX[\"Attribute[DTO]\"])\n",
    "\n",
    "d = pd.concat([trainX, trainY], axis=1)\n",
    "df = d.groupby(['strategy', 'Attribute[COL]']).size()\n",
    "df = df.unstack()\n",
    "# Very few collisions \n",
    "print(df)\n",
    "\n"
   ]
  },
  {
   "cell_type": "code",
   "execution_count": 73,
   "metadata": {},
   "outputs": [],
   "source": [
    "class Predicter():\n",
    "    \"\"\"\n",
    "    NOTE: Should try other models and should do something about TTC, some are < 15, many are 100000.\n",
    "    \"\"\"\n",
    "    def __init__(self):\n",
    "        self.model = MLPClassifier()\n",
    "\n",
    "\n",
    "    def preProcess(self, x=None, y=None, targetCol=\"Attribute[COL]\"):\n",
    "        \"\"\"\n",
    "        Process x and y by transforming to np.array and mean scale x.\n",
    "        \n",
    "        Params:\n",
    "            x: dataframe\n",
    "            y: dataframe\n",
    "            targetCol: str, name of column that is to be predicted\n",
    "        \n",
    "        Returns:\n",
    "            x: np.array\n",
    "            y: np.array\n",
    "        \"\"\"\n",
    "        if isinstance(x, pd.DataFrame):\n",
    "            # only accepts numeric values in training as of now\n",
    "            for c in x.columns:\n",
    "                if x[c].dtype != float:\n",
    "                    x = x.drop(c, axis=1)\n",
    "            x.loc[x[\"Attribute[TTC]\"]==100000] = -1 # NOTE May be transformed to something else\n",
    "            x.loc[x[\"Attribute[DTO]\"]==100000] = -1\n",
    "            # print(x.columns)\n",
    "            x = x.to_numpy()\n",
    "            scaler = preprocessing.StandardScaler().fit(x) # Scaling the input\n",
    "            x = scaler.transform(x)\n",
    "\n",
    "        if isinstance(y, pd.DataFrame):\n",
    "            if targetCol and targetCol in y.columns:\n",
    "                y = y[targetCol]\n",
    "                y.replace(False, 0, inplace=True)\n",
    "                y.replace(True, 1, inplace=True)\n",
    "                y = y.to_numpy()\n",
    "            else:\n",
    "                print(\"Wrong parameters was sent in!\")\n",
    "        \n",
    "        return x, y\n",
    "        \n",
    "\n",
    "    def fit(self, x, y):\n",
    "        \"\"\"\n",
    "        Train the model.\n",
    "\n",
    "        Params:\n",
    "            x: np.array, preprocessed training data\n",
    "            y: np.array, preprocessed training truth\n",
    "        \"\"\"\n",
    "        self.model.fit(x, y)\n",
    "\n",
    "\n",
    "    def predict(self, x):\n",
    "        \"\"\"\n",
    "        Params:\n",
    "            x: Dataframe, what to predict\n",
    "\n",
    "        Returns:\n",
    "            predictions: np.array of 0 and 1\n",
    "        \"\"\"\n",
    "        return self.model.predict(x)\n",
    "\n",
    "\n",
    "    def getScore(self, predictions, truth):\n",
    "        \"\"\"\"\n",
    "        Shows the score of given predictions and ground truth in a confusion matrix.\n",
    "        \n",
    "        Prints as follows:\n",
    "            True negative | False positive\n",
    "\n",
    "            False negative | True positive\n",
    "\n",
    "        Params:\n",
    "            predictions: np.array\n",
    "            truth: np.array\n",
    "        \n",
    "        Returns:\n",
    "            cm: list[list]\n",
    "        \"\"\"\n",
    "        _, truthProcessed = self.preProcess(y=truth)\n",
    "        tot = 0\n",
    "        cm = [[0, 0], [0, 0]]\n",
    "        col = np.count_nonzero(truthProcessed == 1)\n",
    "        \n",
    "        for p, t in zip(predictions, truthProcessed):\n",
    "            cm[t][p] += 1\n",
    "            tot += 1\n",
    "\n",
    "        prec = cm[1][1]/(cm[0][1]+cm[1][1])\n",
    "        rec = cm[1][1]/(cm[1][1]+cm[1][0])\n",
    "        print(f\"Total: {tot}, number of collisions: {col}\")\n",
    "        print(f\"\\tTN: {cm[0][0]} \\t| FP: {cm[0][1]} \\n\\tFN: {cm[1][0]} \\t| TP: {cm[1][1]}\")\n",
    "        print(f\"Accuracy: {round((cm[0][0]+cm[1][1])/(cm[0][0]+cm[0][1]+cm[1][0]+cm[1][1]), 2)}\")\n",
    "        print(f\"Precision: {round(prec, 2)}\")\n",
    "        print(f\"Recall: {round(rec, 2)}\")\n",
    "        print(f\"F1: {round(2*prec*rec/(prec+rec), 2)}\")\n",
    "        return cm"
   ]
  },
  {
   "cell_type": "code",
   "execution_count": 74,
   "metadata": {},
   "outputs": [
    {
     "name": "stdout",
     "output_type": "stream",
     "text": [
      "Total: 6706, number of collisions: 215\n",
      "\tTN: 6477 \t| FP: 14 \n",
      "\tFN: 114 \t| TP: 101\n",
      "Accuracy: 0.98\n",
      "Precision: 0.88\n",
      "Recall: 0.47\n",
      "F1: 0.61\n"
     ]
    }
   ],
   "source": [
    "p = Predicter()\n",
    "\n",
    "x, y = p.preProcess(trainX, trainY)\n",
    "p.fit(x, y)\n",
    "\n",
    "testXp, testYp = p.preProcess(testX, testY)\n",
    "pred = p.predict(testXp)\n",
    "score = p.getScore(pred, testYp)\n"
   ]
  },
  {
   "cell_type": "code",
   "execution_count": 75,
   "metadata": {},
   "outputs": [
    {
     "name": "stdout",
     "output_type": "stream",
     "text": [
      "0 -0.1578840050542386 90.90024719090034\n"
     ]
    },
    {
     "data": {
      "image/png": "[encoded data removed]",
      "text/plain": [
       "<Figure size 432x288 with 1 Axes>"
      ]
     },
     "metadata": {
      "needs_background": "light"
     },
     "output_type": "display_data"
    },
    {
     "name": "stdout",
     "output_type": "stream",
     "text": [
      "1 -0.9248466764465884 6.271544828811757\n"
     ]
    },
    {
     "data": {
      "image/png": "[encoded data removed]",
      "text/plain": [
       "<Figure size 432x288 with 1 Axes>"
      ]
     },
     "metadata": {
      "needs_background": "light"
     },
     "output_type": "display_data"
    },
    {
     "name": "stdout",
     "output_type": "stream",
     "text": [
      "2 -1.1617209196371823 3.631605203038473\n"
     ]
    },
    {
     "data": {
      "image/png": "[encoded data removed]",
      "text/plain": [
       "<Figure size 432x288 with 1 Axes>"
      ]
     },
     "metadata": {
      "needs_background": "light"
     },
     "output_type": "display_data"
    },
    {
     "name": "stdout",
     "output_type": "stream",
     "text": [
      "3 -1.223868238632954 3.7232722830197535\n"
     ]
    },
    {
     "data": {
      "image/png": "[encoded data removed]",
      "text/plain": [
       "<Figure size 432x288 with 1 Axes>"
      ]
     },
     "metadata": {
      "needs_background": "light"
     },
     "output_type": "display_data"
    },
    {
     "name": "stdout",
     "output_type": "stream",
     "text": [
      "4 -1.2284938515375423 3.6010910144145987\n"
     ]
    },
    {
     "data": {
      "image/png": "[encoded data removed]",
      "text/plain": [
       "<Figure size 432x288 with 1 Axes>"
      ]
     },
     "metadata": {
      "needs_background": "light"
     },
     "output_type": "display_data"
    },
    {
     "name": "stdout",
     "output_type": "stream",
     "text": [
      "5 -1.2443670482080234 3.647220856570489\n"
     ]
    },
    {
     "data": {
      "image/png": "[encoded data removed]",
      "text/plain": [
       "<Figure size 432x288 with 1 Axes>"
      ]
     },
     "metadata": {
      "needs_background": "light"
     },
     "output_type": "display_data"
    },
    {
     "name": "stdout",
     "output_type": "stream",
     "text": [
      "6 -1.2323398468495037 3.727990341844984\n"
     ]
    },
    {
     "data": {
      "image/png": "[encoded data removed]",
      "text/plain": [
       "<Figure size 432x288 with 1 Axes>"
      ]
     },
     "metadata": {
      "needs_background": "light"
     },
     "output_type": "display_data"
    },
    {
     "name": "stdout",
     "output_type": "stream",
     "text": [
      "7 -1.2143384846717535 3.6832693747422387\n"
     ]
    },
    {
     "data": {
      "image/png": "[encoded data removed]",
      "text/plain": [
       "<Figure size 432x288 with 1 Axes>"
      ]
     },
     "metadata": {
      "needs_background": "light"
     },
     "output_type": "display_data"
    },
    {
     "name": "stdout",
     "output_type": "stream",
     "text": [
      "8 -1.1942477650646168 3.6905690650463603\n"
     ]
    },
    {
     "data": {
      "image/png": "[encoded data removed]",
      "text/plain": [
       "<Figure size 432x288 with 1 Axes>"
      ]
     },
     "metadata": {
      "needs_background": "light"
     },
     "output_type": "display_data"
    }
   ],
   "source": [
    "# fig, ((ax0, ax1), (ax2, ax3)) = plt.subplots(nrows=2, ncols=2)\n",
    "def his(column, name):\n",
    "    plt.hist(column, bins=100)\n",
    "    plt.title(name)\n",
    "    plt.show()\n",
    "# for col in :\n",
    "#     np.histogram(col, bins=50)\n",
    "#     plt.show()\n",
    "names = ['Attribute[TTC]', 'Attribute[DTO]', 'Attribute[Jerk]', 'speed1', 'speed2', 'speed3', 'speed4', 'speed5', 'speed6']\n",
    "for i in range(len(x[0,:])):\n",
    "    print(i, min(x[:,i]), max(x[:,i]))\n",
    "    his(x[:,i], names[i])\n",
    "    "
   ]
  }
 ],
 "metadata": {
  "kernelspec": {
   "display_name": "Python 3",
   "language": "python",
   "name": "python3"
  },
  "language_info": {
   "codemirror_mode": {
    "name": "ipython",
    "version": 3
   },
   "file_extension": ".py",
   "mimetype": "text/x-python",
   "name": "python",
   "nbconvert_exporter": "python",
   "pygments_lexer": "ipython3",
   "version": "3.9.1"
  },
  "orig_nbformat": 4,
  "vscode": {
   "interpreter": {
    "hash": "afea23f61d6a821af1961b60809105e43be664e14901e921a7e345d902bc2549"
   }
  }
 },
 "nbformat": 4,
 "nbformat_minor": 2
}
