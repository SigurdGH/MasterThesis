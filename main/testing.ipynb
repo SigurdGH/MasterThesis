{
 "cells": [
  {
   "cell_type": "code",
   "execution_count": 1,
   "metadata": {},
   "outputs": [],
   "source": [
    "import numpy as np\n",
    "import pandas as pd\n",
    "import matplotlib.pylab as plt\n",
    "from sklearn.neural_network import MLPClassifier\n",
    "from sklearn import preprocessing"
   ]
  },
  {
   "cell_type": "code",
   "execution_count": 2,
   "metadata": {},
   "outputs": [
    {
     "name": "stdout",
     "output_type": "stream",
     "text": [
      "<class 'pandas.core.frame.DataFrame'>\n",
      "RangeIndex: 33530 entries, 0 to 33529\n",
      "Data columns (total 13 columns):\n",
      " #   Column                         Non-Null Count  Dtype  \n",
      "---  ------                         --------------  -----  \n",
      " 0   Execution                      33530 non-null  int64  \n",
      " 1   ScenarioID                     33530 non-null  object \n",
      " 2   Configuration_API_Description  33530 non-null  object \n",
      " 3   Attribute[TTC]                 33530 non-null  float64\n",
      " 4   Attribute[DTO]                 33530 non-null  float64\n",
      " 5   Attribute[Jerk]                33530 non-null  float64\n",
      " 6   Attribute[COL]                 33530 non-null  bool   \n",
      " 7   Attribute[COLT]                33530 non-null  object \n",
      " 8   Attribute[SAC]                 33530 non-null  float64\n",
      " 9   reward                         33530 non-null  object \n",
      " 10  road                           33530 non-null  object \n",
      " 11  strategy                       33530 non-null  object \n",
      " 12  scenario                       33530 non-null  object \n",
      "dtypes: bool(1), float64(4), int64(1), object(7)\n",
      "memory usage: 3.1+ MB\n"
     ]
    }
   ],
   "source": [
    "data = pd.read_csv(\"../data/deep-scenario.csv\")\n",
    "data.info()"
   ]
  },
  {
   "cell_type": "code",
   "execution_count": 4,
   "metadata": {},
   "outputs": [],
   "source": [
    "class DataManipulation():\n",
    "    def __init__(self, filename: str=\"\"):\n",
    "        self.data = filename\n",
    "\n",
    "\n",
    "    @property\n",
    "    def data(self):\n",
    "        return self._data\n",
    "    \n",
    "    @data.setter\n",
    "    def data(self, filename: str=\"\"):\n",
    "        try:\n",
    "            self._data = pd.read_csv(filename)\n",
    "        except:\n",
    "            self._data = None\n",
    "            raise FileNotFoundError(f\"The file does not exist.\")\n",
    "\n",
    "\n",
    "    def addFromXML(self, filename: str=\"\") -> None:\n",
    "        \"\"\"\n",
    "        Reads more data from XML files, as of now, only speeds at six different timstamps.\n",
    "\n",
    "        Params:\n",
    "            filename: str, name of file read from\n",
    "        \"\"\"\n",
    "        try:\n",
    "            xmlDf = pd.read_csv(filename, index_col=0)\n",
    "        except:\n",
    "            raise FileNotFoundError(f\"The file does not exist.\")\n",
    "        if isinstance(self.data, pd.DataFrame):\n",
    "            self._data = self.data.merge(xmlDf, how=\"inner\", on=[\"ScenarioID\", \"road\", \"reward\", \"scenario\", \"strategy\"], copy=False)\n",
    "        else:\n",
    "            print(\"Something went wrong in 'addFromXML()'!\")\n",
    "\n",
    "\n",
    "    def splitTrainTest(self, splitRatio: float=0.8) -> tuple[pd.DataFrame, pd.DataFrame, pd.DataFrame, pd.DataFrame]:\n",
    "        \"\"\"\n",
    "        Splitting the data.\n",
    "\n",
    "        Params:\n",
    "            filename: str, name of file to split\n",
    "            splitRatio: float 0-1, % of data to be testing\n",
    "\n",
    "        TODO\n",
    "            Slå sammen road, scenario, strategy og reward til noe brukbart\n",
    "\n",
    "        Returns:\n",
    "            trainX, trainY, testingX, testingY.\n",
    "        \"\"\"\n",
    "        if not 0 < splitRatio < 1: raise ValueError(\"SplitRatio must be between 0 and 1!\")\n",
    "\n",
    "        # Shuffle data\n",
    "        self._data = self.data.sample(frac=1, random_state=1)\n",
    "\n",
    "        temp = self._data.copy()\n",
    "        # Removing all non numeric values, might need to make string values into numbers\n",
    "        temp = temp.drop([\"Execution\",\"ScenarioID\",\"Configuration_API_Description\"], axis=1)\n",
    "        split = int(np.floor(len(self.data)*splitRatio))\n",
    "        print(f\"splitting at {split}.\")\n",
    "\n",
    "        trainX, testX = temp[:split], temp[split:]\n",
    "\n",
    "        trainY = pd.concat([trainX.pop(feature) for feature in [\"Attribute[COL]\",\"Attribute[COLT]\",\"Attribute[SAC]\"]], axis=1)\n",
    "        testY = pd.concat([testX.pop(feature) for feature in [\"Attribute[COL]\",\"Attribute[COLT]\",\"Attribute[SAC]\"]], axis=1)\n",
    "\n",
    "        return trainX, trainY, testX, testY\n",
    "\n",
    "\n",
    "    def getCompleteRow(self, index: None):\n",
    "        \"\"\"\n",
    "        Gets the origianl row from index(es).\n",
    "\n",
    "        Params:\n",
    "            index: int or list\n",
    "\n",
    "        Return:\n",
    "            Dataframe or Series\n",
    "        \"\"\"\n",
    "        if isinstance(index, list) or isinstance(index, int):\n",
    "            return self._data.loc[index]\n",
    "        return \"Something went wrong.\"\n",
    "\n",
    "\n",
    "    def getOriginalPath(self, index: int):\n",
    "        \"\"\"\n",
    "        Gets the complete path from where the row was originally collected together with its ScenarioID.\n",
    "\n",
    "        Params:\n",
    "            index: int\n",
    "\n",
    "        Return:\n",
    "            dict{\"SenarioID\": str, \"path\": str}\n",
    "        \"\"\"\n",
    "        if isinstance(index, int):\n",
    "            row = self.getCompleteRow(index)\n",
    "            return {\n",
    "                \"ScenarioID\": row[\"ScenarioID\"],\n",
    "                \"path\": f\"{row['strategy']}-strategy/reward-{row['reward']}/{row['road']}-{row['scenario']}-scenario-attributes.csv\"\n",
    "                }\n",
    "        raise ValueError(\"Index needs to be an integer!\")\n"
   ]
  },
  {
   "cell_type": "code",
   "execution_count": 12,
   "metadata": {},
   "outputs": [
    {
     "name": "stdout",
     "output_type": "stream",
     "text": [
      "splitting at 26824.\n",
      "trainX:(26824, 13), trainY:(26824, 3), testX:(6706, 13), testY:(6706, 3)\n",
      "       Attribute[TTC]  Attribute[DTO]  Attribute[Jerk] reward   road  \\\n",
      "23853   100000.000000        6.434714             5.04    ttc  road2   \n",
      "30032        0.695324        5.552715             5.74   jerk  road2   \n",
      "11507   100000.000000        8.511993             5.90    ttc  road3   \n",
      "17653        0.760641        7.845926            14.30    dto  road4   \n",
      "16680        8.738029       14.960495             0.88    dto  road3   \n",
      "\n",
      "       strategy     scenario  speed1  speed2  speed3  speed4  speed5  speed6  \n",
      "23853    random   rain_night   5.547   4.660   4.401   4.228   3.986   3.746  \n",
      "30032  rl_based  sunny_night   5.558   4.607   4.358   4.832   4.246   3.967  \n",
      "11507    greedy   rain_night   0.908   0.001   0.789   0.687   0.001   1.000  \n",
      "17653    random  sunny_night   5.127   6.324   6.615   8.165   8.313   8.683  \n",
      "16680    random  sunny_night   8.075   8.280   8.360   8.458   8.566   8.755  \n"
     ]
    },
    {
     "data": {
      "text/html": [
       "<div>\n",
       "<style scoped>\n",
       "    .dataframe tbody tr th:only-of-type {\n",
       "        vertical-align: middle;\n",
       "    }\n",
       "\n",
       "    .dataframe tbody tr th {\n",
       "        vertical-align: top;\n",
       "    }\n",
       "\n",
       "    .dataframe thead th {\n",
       "        text-align: right;\n",
       "    }\n",
       "</style>\n",
       "<table border=\"1\" class=\"dataframe\">\n",
       "  <thead>\n",
       "    <tr style=\"text-align: right;\">\n",
       "      <th>Attribute[COL]</th>\n",
       "      <th>False</th>\n",
       "      <th>True</th>\n",
       "    </tr>\n",
       "    <tr>\n",
       "      <th>strategy</th>\n",
       "      <th></th>\n",
       "      <th></th>\n",
       "    </tr>\n",
       "  </thead>\n",
       "  <tbody>\n",
       "    <tr>\n",
       "      <th>greedy</th>\n",
       "      <td>10440</td>\n",
       "      <td>147</td>\n",
       "    </tr>\n",
       "    <tr>\n",
       "      <th>random</th>\n",
       "      <td>10736</td>\n",
       "      <td>129</td>\n",
       "    </tr>\n",
       "    <tr>\n",
       "      <th>rl_based</th>\n",
       "      <td>4813</td>\n",
       "      <td>559</td>\n",
       "    </tr>\n",
       "  </tbody>\n",
       "</table>\n",
       "</div>"
      ],
      "text/plain": [
       "Attribute[COL]  False  True \n",
       "strategy                    \n",
       "greedy          10440    147\n",
       "random          10736    129\n",
       "rl_based         4813    559"
      ]
     },
     "execution_count": 12,
     "metadata": {},
     "output_type": "execute_result"
    }
   ],
   "source": [
    "dm = DataManipulation(\"../data/deep-scenario.csv\")\n",
    "dm.addFromXML(\"../data/dataFromXML.csv\")\n",
    "\n",
    "trainX, trainY, testX, testY = dm.splitTrainTest()\n",
    "print(f\"trainX:{trainX.shape}, trainY:{trainY.shape}, testX:{testX.shape}, testY:{testY.shape}\")\n",
    "\n",
    "print(trainX.head())\n",
    "\n",
    "d = pd.concat([trainX, trainY], axis=1)\n",
    "df = d.groupby(['strategy', 'Attribute[COL]']).size()\n",
    "df = df.unstack()\n",
    "df"
   ]
  },
  {
   "cell_type": "code",
   "execution_count": 13,
   "metadata": {},
   "outputs": [
    {
     "name": "stderr",
     "output_type": "stream",
     "text": [
      "C:\\Users\\Yohannes\\AppData\\Local\\Temp/ipykernel_8764/2319908662.py:1: FutureWarning: The default value of numeric_only in DataFrame.corr is deprecated. In a future version, it will default to False. Select only valid columns or specify the value of numeric_only to silence this warning.\n",
      "  d.corr()\n"
     ]
    },
    {
     "data": {
      "text/html": [
       "<div>\n",
       "<style scoped>\n",
       "    .dataframe tbody tr th:only-of-type {\n",
       "        vertical-align: middle;\n",
       "    }\n",
       "\n",
       "    .dataframe tbody tr th {\n",
       "        vertical-align: top;\n",
       "    }\n",
       "\n",
       "    .dataframe thead th {\n",
       "        text-align: right;\n",
       "    }\n",
       "</style>\n",
       "<table border=\"1\" class=\"dataframe\">\n",
       "  <thead>\n",
       "    <tr style=\"text-align: right;\">\n",
       "      <th></th>\n",
       "      <th>Attribute[TTC]</th>\n",
       "      <th>Attribute[DTO]</th>\n",
       "      <th>Attribute[Jerk]</th>\n",
       "      <th>speed1</th>\n",
       "      <th>speed2</th>\n",
       "      <th>speed3</th>\n",
       "      <th>speed4</th>\n",
       "      <th>speed5</th>\n",
       "      <th>speed6</th>\n",
       "      <th>Attribute[COL]</th>\n",
       "      <th>Attribute[SAC]</th>\n",
       "    </tr>\n",
       "  </thead>\n",
       "  <tbody>\n",
       "    <tr>\n",
       "      <th>Attribute[TTC]</th>\n",
       "      <td>1.000000</td>\n",
       "      <td>0.100788</td>\n",
       "      <td>-0.144095</td>\n",
       "      <td>-0.253022</td>\n",
       "      <td>-0.240292</td>\n",
       "      <td>-0.193335</td>\n",
       "      <td>-0.147007</td>\n",
       "      <td>-0.108904</td>\n",
       "      <td>-0.084859</td>\n",
       "      <td>-0.047727</td>\n",
       "      <td>-0.048451</td>\n",
       "    </tr>\n",
       "    <tr>\n",
       "      <th>Attribute[DTO]</th>\n",
       "      <td>0.100788</td>\n",
       "      <td>1.000000</td>\n",
       "      <td>-0.036130</td>\n",
       "      <td>-0.079110</td>\n",
       "      <td>-0.064905</td>\n",
       "      <td>-0.033969</td>\n",
       "      <td>-0.004660</td>\n",
       "      <td>0.017686</td>\n",
       "      <td>0.032633</td>\n",
       "      <td>-0.011135</td>\n",
       "      <td>-0.008658</td>\n",
       "    </tr>\n",
       "    <tr>\n",
       "      <th>Attribute[Jerk]</th>\n",
       "      <td>-0.144095</td>\n",
       "      <td>-0.036130</td>\n",
       "      <td>1.000000</td>\n",
       "      <td>0.220794</td>\n",
       "      <td>0.207929</td>\n",
       "      <td>0.138693</td>\n",
       "      <td>0.079876</td>\n",
       "      <td>0.040943</td>\n",
       "      <td>0.017524</td>\n",
       "      <td>0.099308</td>\n",
       "      <td>0.095497</td>\n",
       "    </tr>\n",
       "    <tr>\n",
       "      <th>speed1</th>\n",
       "      <td>-0.253022</td>\n",
       "      <td>-0.079110</td>\n",
       "      <td>0.220794</td>\n",
       "      <td>1.000000</td>\n",
       "      <td>0.965072</td>\n",
       "      <td>0.873227</td>\n",
       "      <td>0.747700</td>\n",
       "      <td>0.635589</td>\n",
       "      <td>0.548470</td>\n",
       "      <td>0.113364</td>\n",
       "      <td>0.108645</td>\n",
       "    </tr>\n",
       "    <tr>\n",
       "      <th>speed2</th>\n",
       "      <td>-0.240292</td>\n",
       "      <td>-0.064905</td>\n",
       "      <td>0.207929</td>\n",
       "      <td>0.965072</td>\n",
       "      <td>1.000000</td>\n",
       "      <td>0.930704</td>\n",
       "      <td>0.817816</td>\n",
       "      <td>0.714630</td>\n",
       "      <td>0.633528</td>\n",
       "      <td>0.093444</td>\n",
       "      <td>0.090953</td>\n",
       "    </tr>\n",
       "    <tr>\n",
       "      <th>speed3</th>\n",
       "      <td>-0.193335</td>\n",
       "      <td>-0.033969</td>\n",
       "      <td>0.138693</td>\n",
       "      <td>0.873227</td>\n",
       "      <td>0.930704</td>\n",
       "      <td>1.000000</td>\n",
       "      <td>0.935293</td>\n",
       "      <td>0.853828</td>\n",
       "      <td>0.778939</td>\n",
       "      <td>0.033763</td>\n",
       "      <td>0.077092</td>\n",
       "    </tr>\n",
       "    <tr>\n",
       "      <th>speed4</th>\n",
       "      <td>-0.147007</td>\n",
       "      <td>-0.004660</td>\n",
       "      <td>0.079876</td>\n",
       "      <td>0.747700</td>\n",
       "      <td>0.817816</td>\n",
       "      <td>0.935293</td>\n",
       "      <td>1.000000</td>\n",
       "      <td>0.950989</td>\n",
       "      <td>0.888524</td>\n",
       "      <td>-0.041214</td>\n",
       "      <td>0.052189</td>\n",
       "    </tr>\n",
       "    <tr>\n",
       "      <th>speed5</th>\n",
       "      <td>-0.108904</td>\n",
       "      <td>0.017686</td>\n",
       "      <td>0.040943</td>\n",
       "      <td>0.635589</td>\n",
       "      <td>0.714630</td>\n",
       "      <td>0.853828</td>\n",
       "      <td>0.950989</td>\n",
       "      <td>1.000000</td>\n",
       "      <td>0.960588</td>\n",
       "      <td>-0.101034</td>\n",
       "      <td>0.006146</td>\n",
       "    </tr>\n",
       "    <tr>\n",
       "      <th>speed6</th>\n",
       "      <td>-0.084859</td>\n",
       "      <td>0.032633</td>\n",
       "      <td>0.017524</td>\n",
       "      <td>0.548470</td>\n",
       "      <td>0.633528</td>\n",
       "      <td>0.778939</td>\n",
       "      <td>0.888524</td>\n",
       "      <td>0.960588</td>\n",
       "      <td>1.000000</td>\n",
       "      <td>-0.132265</td>\n",
       "      <td>-0.024836</td>\n",
       "    </tr>\n",
       "    <tr>\n",
       "      <th>Attribute[COL]</th>\n",
       "      <td>-0.047727</td>\n",
       "      <td>-0.011135</td>\n",
       "      <td>0.099308</td>\n",
       "      <td>0.113364</td>\n",
       "      <td>0.093444</td>\n",
       "      <td>0.033763</td>\n",
       "      <td>-0.041214</td>\n",
       "      <td>-0.101034</td>\n",
       "      <td>-0.132265</td>\n",
       "      <td>1.000000</td>\n",
       "      <td>0.776937</td>\n",
       "    </tr>\n",
       "    <tr>\n",
       "      <th>Attribute[SAC]</th>\n",
       "      <td>-0.048451</td>\n",
       "      <td>-0.008658</td>\n",
       "      <td>0.095497</td>\n",
       "      <td>0.108645</td>\n",
       "      <td>0.090953</td>\n",
       "      <td>0.077092</td>\n",
       "      <td>0.052189</td>\n",
       "      <td>0.006146</td>\n",
       "      <td>-0.024836</td>\n",
       "      <td>0.776937</td>\n",
       "      <td>1.000000</td>\n",
       "    </tr>\n",
       "  </tbody>\n",
       "</table>\n",
       "</div>"
      ],
      "text/plain": [
       "                 Attribute[TTC]  Attribute[DTO]  Attribute[Jerk]    speed1  \\\n",
       "Attribute[TTC]         1.000000        0.100788        -0.144095 -0.253022   \n",
       "Attribute[DTO]         0.100788        1.000000        -0.036130 -0.079110   \n",
       "Attribute[Jerk]       -0.144095       -0.036130         1.000000  0.220794   \n",
       "speed1                -0.253022       -0.079110         0.220794  1.000000   \n",
       "speed2                -0.240292       -0.064905         0.207929  0.965072   \n",
       "speed3                -0.193335       -0.033969         0.138693  0.873227   \n",
       "speed4                -0.147007       -0.004660         0.079876  0.747700   \n",
       "speed5                -0.108904        0.017686         0.040943  0.635589   \n",
       "speed6                -0.084859        0.032633         0.017524  0.548470   \n",
       "Attribute[COL]        -0.047727       -0.011135         0.099308  0.113364   \n",
       "Attribute[SAC]        -0.048451       -0.008658         0.095497  0.108645   \n",
       "\n",
       "                   speed2    speed3    speed4    speed5    speed6  \\\n",
       "Attribute[TTC]  -0.240292 -0.193335 -0.147007 -0.108904 -0.084859   \n",
       "Attribute[DTO]  -0.064905 -0.033969 -0.004660  0.017686  0.032633   \n",
       "Attribute[Jerk]  0.207929  0.138693  0.079876  0.040943  0.017524   \n",
       "speed1           0.965072  0.873227  0.747700  0.635589  0.548470   \n",
       "speed2           1.000000  0.930704  0.817816  0.714630  0.633528   \n",
       "speed3           0.930704  1.000000  0.935293  0.853828  0.778939   \n",
       "speed4           0.817816  0.935293  1.000000  0.950989  0.888524   \n",
       "speed5           0.714630  0.853828  0.950989  1.000000  0.960588   \n",
       "speed6           0.633528  0.778939  0.888524  0.960588  1.000000   \n",
       "Attribute[COL]   0.093444  0.033763 -0.041214 -0.101034 -0.132265   \n",
       "Attribute[SAC]   0.090953  0.077092  0.052189  0.006146 -0.024836   \n",
       "\n",
       "                 Attribute[COL]  Attribute[SAC]  \n",
       "Attribute[TTC]        -0.047727       -0.048451  \n",
       "Attribute[DTO]        -0.011135       -0.008658  \n",
       "Attribute[Jerk]        0.099308        0.095497  \n",
       "speed1                 0.113364        0.108645  \n",
       "speed2                 0.093444        0.090953  \n",
       "speed3                 0.033763        0.077092  \n",
       "speed4                -0.041214        0.052189  \n",
       "speed5                -0.101034        0.006146  \n",
       "speed6                -0.132265       -0.024836  \n",
       "Attribute[COL]         1.000000        0.776937  \n",
       "Attribute[SAC]         0.776937        1.000000  "
      ]
     },
     "execution_count": 13,
     "metadata": {},
     "output_type": "execute_result"
    }
   ],
   "source": [
    "d.corr()"
   ]
  },
  {
   "cell_type": "code",
   "execution_count": 19,
   "metadata": {},
   "outputs": [],
   "source": [
    "class Predicter():\n",
    "    \"\"\"\n",
    "    NOTE: Should try other models and should do something about TTC, some are < 15, many are 100000.\n",
    "    \"\"\"\n",
    "    def __init__(self):\n",
    "        self.model = MLPClassifier(solver=\"adam\")\n",
    "\n",
    "\n",
    "    def preProcess(self, x=None, y=None, targetCol=\"Attribute[COL]\"):\n",
    "        \"\"\"\n",
    "        Process x and y by transforming to np.array and mean scale x.\n",
    "        \n",
    "        Params:\n",
    "            x: dataframe\n",
    "            y: dataframe\n",
    "            targetCol: str, name of column that is to be predicted\n",
    "        \n",
    "        Returns:\n",
    "            x: np.array\n",
    "            y: np.array\n",
    "        \"\"\"\n",
    "\n",
    "        if isinstance(x, pd.DataFrame):\n",
    "\n",
    "            # label encode road and scenario\n",
    "            x = self.labelEncode(x)\n",
    "\n",
    "            # only accepts numeric values in training as of now\n",
    "            for c in x.columns:\n",
    "                if x[c].dtype != float:\n",
    "                    x = x.drop(c, axis=1)\n",
    "            x.loc[x[\"Attribute[TTC]\"]==100000, \"Attribute[TTC]\"] = -1 # NOTE May be transformed to something else\n",
    "            x.loc[x[\"Attribute[DTO]\"]==100000, \"Attribute[DTO]\"] = -1\n",
    "            # print(x.columns)\n",
    "            x = x.to_numpy()\n",
    "            scaler = preprocessing.StandardScaler().fit(x) # Scaling the input\n",
    "            x = scaler.transform(x)\n",
    "\n",
    "        if isinstance(y, pd.DataFrame):\n",
    "            if targetCol and targetCol in y.columns:\n",
    "                y = y[targetCol]\n",
    "                y.replace(False, 0, inplace=True)\n",
    "                y.replace(True, 1, inplace=True)\n",
    "                y = y.to_numpy()\n",
    "            else:\n",
    "                print(\"Wrong parameters was sent in!\")\n",
    "        \n",
    "        return x, y\n",
    "\n",
    "    def labelEncode(self, x: pd.DataFrame, cols: list[str] = [\"road\", \"scenario\"]):\n",
    "        \"\"\"\n",
    "        Label encoding for cols, default is road and scenario.\n",
    "\n",
    "        Params:\n",
    "            x: Dataframe\n",
    "            cols: list of str, columns to label encode\n",
    "\n",
    "        Returns:\n",
    "            x: Dataframe\n",
    "        \"\"\"\n",
    "        x[cols] = x[cols].apply(preprocessing.LabelEncoder().fit_transform)\n",
    "        return x\n",
    "        \n",
    "        \n",
    "\n",
    "    def fit(self, x, y):\n",
    "        \"\"\"\n",
    "        Train the model.\n",
    "\n",
    "        Params:\n",
    "            x: np.array, preprocessed training data\n",
    "            y: np.array, preprocessed training truth\n",
    "        \"\"\"\n",
    "        self.model.fit(x, y)\n",
    "\n",
    "\n",
    "    def predict(self, x):\n",
    "        \"\"\"\n",
    "        Params:\n",
    "            x: Dataframe, what to predict\n",
    "\n",
    "        Returns:\n",
    "            predictions: np.array of 0 and 1\n",
    "        \"\"\"\n",
    "        return self.model.predict(x)\n",
    "\n",
    "\n",
    "    def getScore(self, predictions, truth):\n",
    "        \"\"\"\"\n",
    "        Shows the score of given predictions and ground truth in a confusion matrix.\n",
    "        \n",
    "        Prints as follows:\n",
    "            True negative | False positive\n",
    "\n",
    "            False negative | True positive\n",
    "\n",
    "        Params:\n",
    "            predictions: np.array\n",
    "            truth: np.array\n",
    "        \n",
    "        Returns:\n",
    "            cm: list[list]\n",
    "        \"\"\"\n",
    "        _, truthProcessed = self.preProcess(y=truth)\n",
    "        tot = 0\n",
    "        cm = [[0, 0], [0, 0]]\n",
    "        col = np.count_nonzero(truthProcessed == 1)\n",
    "        \n",
    "        for p, t in zip(predictions, truthProcessed):\n",
    "            cm[t][p] += 1\n",
    "            tot += 1\n",
    "\n",
    "        prec = cm[1][1]/(cm[0][1]+cm[1][1])\n",
    "        rec = cm[1][1]/(cm[1][1]+cm[1][0])\n",
    "        print(f\"Total: {tot}, number of collisions: {col}\")\n",
    "        print(f\"\\tTN: {cm[0][0]} \\t| FP: {cm[0][1]} \\n\\tFN: {cm[1][0]} \\t| TP: {cm[1][1]}\")\n",
    "        print(f\"Accuracy: {round((cm[0][0]+cm[1][1])/(cm[0][0]+cm[0][1]+cm[1][0]+cm[1][1]), 2)}\")\n",
    "        print(f\"Precision: {round(prec, 2)}\")\n",
    "        print(f\"Recall: {round(rec, 2)}\")\n",
    "        print(f\"F1: {round(2*prec*rec/(prec+rec), 2)}\")\n",
    "        return cm"
   ]
  },
  {
   "cell_type": "code",
   "execution_count": 22,
   "metadata": {},
   "outputs": [
    {
     "name": "stdout",
     "output_type": "stream",
     "text": [
      "Total: 6706, number of collisions: 215\n",
      "\tTN: 6480 \t| FP: 11 \n",
      "\tFN: 106 \t| TP: 109\n",
      "Accuracy: 0.98\n",
      "Precision: 0.91\n",
      "Recall: 0.51\n",
      "F1: 0.65\n"
     ]
    }
   ],
   "source": [
    "p = Predicter()\n",
    "\n",
    "x, y = p.preProcess(trainX, trainY)\n",
    "p.fit(x, y)\n",
    "\n",
    "testXp, testYp = p.preProcess(testX, testY)\n",
    "pred = p.predict(testXp)\n",
    "score = p.getScore(pred, testYp)\n"
   ]
  },
  {
   "cell_type": "code",
   "execution_count": 24,
   "metadata": {},
   "outputs": [
    {
     "name": "stdout",
     "output_type": "stream",
     "text": [
      "Attribute[TTC] -0.1578840050542386 90.90024719090034\n"
     ]
    },
    {
     "data": {
      "image/png": "[encoded data removed]",
      "text/plain": [
       "<Figure size 432x288 with 1 Axes>"
      ]
     },
     "metadata": {
      "needs_background": "light"
     },
     "output_type": "display_data"
    },
    {
     "name": "stdout",
     "output_type": "stream",
     "text": [
      "Attribute[DTO] -1.256719574816438 6.641942818424161\n"
     ]
    },
    {
     "data": {
      "image/png": "[encoded data removed]",
      "text/plain": [
       "<Figure size 432x288 with 1 Axes>"
      ]
     },
     "metadata": {
      "needs_background": "light"
     },
     "output_type": "display_data"
    },
    {
     "name": "stdout",
     "output_type": "stream",
     "text": [
      "Attribute[Jerk] -1.544001742140213 3.9944385816461385\n"
     ]
    },
    {
     "data": {
      "image/png": "[encoded data removed]",
      "text/plain": [
       "<Figure size 432x288 with 1 Axes>"
      ]
     },
     "metadata": {
      "needs_background": "light"
     },
     "output_type": "display_data"
    },
    {
     "name": "stdout",
     "output_type": "stream",
     "text": [
      "speed1 -1.5385288359310705 4.0423792594104055\n"
     ]
    },
    {
     "data": {
      "image/png": "[encoded data removed]",
      "text/plain": [
       "<Figure size 432x288 with 1 Axes>"
      ]
     },
     "metadata": {
      "needs_background": "light"
     },
     "output_type": "display_data"
    },
    {
     "name": "stdout",
     "output_type": "stream",
     "text": [
      "speed2 -1.5773083889854247 3.947382470593386\n"
     ]
    },
    {
     "data": {
      "image/png": "[encoded data removed]",
      "text/plain": [
       "<Figure size 432x288 with 1 Axes>"
      ]
     },
     "metadata": {
      "needs_background": "light"
     },
     "output_type": "display_data"
    },
    {
     "name": "stdout",
     "output_type": "stream",
     "text": [
      "speed3 -1.6952482523370034 4.12356054540394\n"
     ]
    },
    {
     "data": {
      "image/png": "[encoded data removed]",
      "text/plain": [
       "<Figure size 432x288 with 1 Axes>"
      ]
     },
     "metadata": {
      "needs_background": "light"
     },
     "output_type": "display_data"
    },
    {
     "name": "stdout",
     "output_type": "stream",
     "text": [
      "speed4 -1.7046654235044822 4.207266079210908\n"
     ]
    },
    {
     "data": {
      "image/png": "[encoded data removed]",
      "text/plain": [
       "<Figure size 432x288 with 1 Axes>"
      ]
     },
     "metadata": {
      "needs_background": "light"
     },
     "output_type": "display_data"
    },
    {
     "name": "stdout",
     "output_type": "stream",
     "text": [
      "speed5 -1.6744918236671043 4.079085066106205\n"
     ]
    },
    {
     "data": {
      "image/png": "[encoded data removed]",
      "text/plain": [
       "<Figure size 432x288 with 1 Axes>"
      ]
     },
     "metadata": {
      "needs_background": "light"
     },
     "output_type": "display_data"
    },
    {
     "name": "stdout",
     "output_type": "stream",
     "text": [
      "speed6 -1.624826311944873 4.003446469514049\n"
     ]
    },
    {
     "data": {
      "image/png": "[encoded data removed]",
      "text/plain": [
       "<Figure size 432x288 with 1 Axes>"
      ]
     },
     "metadata": {
      "needs_background": "light"
     },
     "output_type": "display_data"
    }
   ],
   "source": [
    "def his(column, name):\n",
    "    plt.hist(column, bins=100)\n",
    "    plt.title(name)\n",
    "    plt.show()\n",
    "\n",
    "names = ['Attribute[TTC]', 'Attribute[DTO]', 'Attribute[Jerk]', 'speed1', 'speed2', 'speed3', 'speed4', 'speed5', 'speed6']\n",
    "for i in range(len(x[0,:])):\n",
    "    print(names[i], min(x[:,i]), max(x[:,i]))\n",
    "    his(x[:,i], names[i])\n",
    "    "
   ]
  }
 ],
 "metadata": {
  "kernelspec": {
   "display_name": "Python 3.9.16 ('MasterThesis')",
   "language": "python",
   "name": "python3"
  },
  "language_info": {
   "codemirror_mode": {
    "name": "ipython",
    "version": 3
   },
   "file_extension": ".py",
   "mimetype": "text/x-python",
   "name": "python",
   "nbconvert_exporter": "python",
   "pygments_lexer": "ipython3",
   "version": "3.9.16"
  },
  "orig_nbformat": 4,
  "vscode": {
   "interpreter": {
    "hash": "5ea953018f845277ff9327bc0467e81b58a68076ce0c385be95779bfd3460f16"
   }
  }
 },
 "nbformat": 4,
 "nbformat_minor": 2
}
